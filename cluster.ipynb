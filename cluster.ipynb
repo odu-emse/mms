{
 "cells": [
  {
   "cell_type": "code",
   "execution_count": 438,
   "metadata": {
    "collapsed": true,
    "ExecuteTime": {
     "end_time": "2023-05-15T17:16:57.242208Z",
     "start_time": "2023-05-15T17:16:57.216299Z"
    }
   },
   "outputs": [
    {
     "name": "stderr",
     "output_type": "stream",
     "text": [
      "[nltk_data] Downloading package stopwords to /Users/dpapp/nltk_data...\n",
      "[nltk_data]   Package stopwords is already up-to-date!\n",
      "[nltk_data] Downloading package punkt to /Users/dpapp/nltk_data...\n",
      "[nltk_data]   Package punkt is already up-to-date!\n"
     ]
    }
   ],
   "source": [
    "import numpy as np\n",
    "import requests\n",
    "import json\n",
    "import pandas as pd\n",
    "import nltk\n",
    "from nltk import word_tokenize\n",
    "from sklearn.feature_extraction.text import CountVectorizer\n",
    "from sklearn.feature_extraction.text import TfidfVectorizer\n",
    "from sklearn.cluster import KMeans\n",
    "from sklearn.decomposition import PCA\n",
    "from nltk.corpus import stopwords\n",
    "cv = CountVectorizer()\n",
    "nltk.download(\"stopwords\")\n",
    "nltk.download('punkt')\n",
    "stop_words = set(stopwords.words(\"english\"))\n",
    "\n",
    "stop_words.add('module')\n",
    "stop_words.add('section')\n",
    "stop_words.add('learning')\n",
    "stop_words.add('objective')\n",
    "stop_words.add('description')\n",
    "stop_words.add('instructor')\n",
    "stop_words.add('lp')\n",
    "stop_words.add('also')\n",
    "stop_words.add('understanding')\n",
    "stop_words.add('end')\n",
    "stop_words.add('youll')\n",
    "stop_words.add('well')\n",
    "stop_words.add('including')"
   ]
  },
  {
   "cell_type": "code",
   "execution_count": 439,
   "outputs": [],
   "source": [
    "url = 'http://localhost:4000/graphql'"
   ],
   "metadata": {
    "collapsed": false,
    "ExecuteTime": {
     "end_time": "2023-05-15T17:16:57.295849Z",
     "start_time": "2023-05-15T17:16:57.226351Z"
    }
   }
  },
  {
   "cell_type": "markdown",
   "source": [
    "# Get all the modules in the DB and convert it to a dataframe"
   ],
   "metadata": {
    "collapsed": false
   }
  },
  {
   "cell_type": "code",
   "execution_count": 440,
   "outputs": [
    {
     "name": "stdout",
     "output_type": "stream",
     "text": [
      "[\n",
      "  {\n",
      "    \"id\": \"644827afc3faa4c9ea96a800\",\n",
      "    \"name\": \"Linear Regression\",\n",
      "    \"hours\": 0.75,\n",
      "    \"objectives\": [\n",
      "      \"Linear Regression\",\n",
      "      \"Correlation\",\n",
      "      \"Regression Analysis\",\n",
      "      \"Least Squares\",\n",
      "      \"Coefficient of Determination\",\n",
      "      \"Regression Line\",\n",
      "      \"Independent Variable\",\n",
      "      \"Dependent Variable\",\n",
      "      \"Prediction\",\n",
      "      \"Outliers\",\n",
      "      \"Residuals\",\n",
      "      \"Confidence Interval\",\n",
      "      \"Hypothesis Testing\",\n",
      "      \"ANOVA\",\n",
      "      \"Statistical Inference\",\n",
      "      \"Multiple Linear Regression\",\n",
      "      \"Model Selection\",\n",
      "      \"Regularization\",\n",
      "      \"Ridge Regression\"\n",
      "    ],\n",
      "    \"description\": \"This module is designed to introduce students to linear regression, a powerful statistical technique used to model the relationship between two variables. Through interactive lessons and hands-on activities, students will learn how to build linear regression models, interpret their results, and use them to make predictions and draw conclusions about the data. The module will cover the assumptions and limitations of linear regression, as well as techniques for validating and improving the model. Students will also learn about different types of linear regression, including simple and multiple regression, and how to apply them to real-world problems. By the end of the module, students will have a strong understanding of linear regression and be able to apply it to a wide range of fields, including business, social sciences, and natural sciences.\"\n",
      "  },\n",
      "  {\n",
      "    \"id\": \"64496079d5fb014e40d5ea39\",\n",
      "    \"name\": \"Statistical Analysis\",\n",
      "    \"hours\": 1.5,\n",
      "    \"objectives\": [\n",
      "      \"Statistical Analysis\",\n",
      "      \"Descriptive Statistics\",\n",
      "      \"Inferential Statistics\",\n",
      "      \"Probability\",\n",
      "      \"Distributions\",\n",
      "      \"Hypothesis Testing\",\n",
      "      \"Confidence Interval\",\n",
      "      \"Central Limit Theorem\",\n",
      "      \"Sampling Methods\",\n",
      "      \"Statistical Inference\",\n",
      "      \"Regression Analysis\",\n",
      "      \"ANOVA\",\n",
      "      \"Chi-Square Test\",\n",
      "      \"Correlation\",\n",
      "      \"Experimental Design\",\n",
      "      \"Nonparametric Statistics\",\n",
      "      \"Time Series Analysis\",\n",
      "      \"Multivariate Analysis\",\n",
      "      \"Big Data Analytics\",\n",
      "      \"Machine Learning\"\n",
      "    ],\n",
      "    \"description\": \"This module is designed to teach students the fundamentals of statistical analysis, including data collection, organization, and analysis. Through hands-on activities and real-world case studies, students will learn how to use statistical techniques to make informed decisions and draw meaningful conclusions from data. The module will cover basic statistical concepts such as measures of central tendency, variance, and standard deviation, as well as more advanced topics such as hypothesis testing and regression analysis. By the end of the module, students will have a comprehensive understanding of statistical analysis and be able to apply it to a wide range of fields, including business, science, and social sciences.\"\n",
      "  },\n",
      "  {\n",
      "    \"id\": \"644960add5fb014e40d5ea3a\",\n",
      "    \"name\": \"Logarithms\",\n",
      "    \"hours\": 2,\n",
      "    \"objectives\": [\n",
      "      \"Logarithms\",\n",
      "      \"Exponential Functions\",\n",
      "      \"Logarithmic Functions\",\n",
      "      \"Properties of Logarithms\",\n",
      "      \"Natural Logarithm\",\n",
      "      \"Logarithmic Equations\",\n",
      "      \"Logarithmic Differentiation\",\n",
      "      \"Exponential Growth\",\n",
      "      \"Exponential Decay\",\n",
      "      \"Change of Base Formula\",\n",
      "      \"Inverse Functions\",\n",
      "      \"Trigonometry\",\n",
      "      \"Hyperbolic Functions\",\n",
      "      \"Calculus\",\n",
      "      \"Derivatives\",\n",
      "      \"Integrals\",\n",
      "      \"Complex Numbers\",\n",
      "      \"Applications of Logarithms\",\n",
      "      \"Mathematical Modeling\",\n",
      "      \"Big O Notation\"\n",
      "    ],\n",
      "    \"description\": \"This module is designed to introduce students to logarithms, an important mathematical concept used in many fields, including science, engineering, and finance. Through interactive lessons and problem-solving activities, students will learn the properties and rules of logarithms, as well as how to use them to solve exponential equations and real-world problems. The module will also cover logarithmic functions and their applications, such as in modeling population growth and radioactive decay. By the end of the module, students will have a solid understanding of logarithms and be able to apply them to a wide range of mathematical and scientific problems.\"\n",
      "  },\n",
      "  {\n",
      "    \"id\": \"644960bcd5fb014e40d5ea3b\",\n",
      "    \"name\": \"Arithmetics\",\n",
      "    \"hours\": 0.5,\n",
      "    \"objectives\": [\n",
      "      \"Arithmetic\",\n",
      "      \"Operations\",\n",
      "      \"Addition\",\n",
      "      \"Subtraction\",\n",
      "      \"Multiplication\",\n",
      "      \"Division\",\n",
      "      \"Fractions\",\n",
      "      \"Decimals\",\n",
      "      \"Integers\",\n",
      "      \"Real Numbers\",\n",
      "      \"Absolute Value\",\n",
      "      \"Exponents\",\n",
      "      \"Roots\",\n",
      "      \"Order of Operations\",\n",
      "      \"Scientific Notation\",\n",
      "      \"Percentages\",\n",
      "      \"Ratios\",\n",
      "      \"Proportions\",\n",
      "      \"Linear Equations\"\n",
      "    ],\n",
      "    \"description\": \"This module is designed to teach students the fundamentals of arithmetic, including whole number operations, fractions, decimals, and percentages. Through hands-on activities and real-world problem-solving, students will develop a solid understanding of arithmetic concepts and improve their mathematical reasoning skills. The module will also introduce students to different arithmetic techniques and strategies, such as mental math and estimation, to help them become more efficient and effective learners. By the end of the module, students will have the confidence and skills needed to tackle more advanced mathematical topics.\"\n",
      "  },\n",
      "  {\n",
      "    \"id\": \"64496111d5fb014e40d5ea3c\",\n",
      "    \"name\": \"Euclidean distance\",\n",
      "    \"hours\": 2.25,\n",
      "    \"objectives\": [\n",
      "      \"Euclidean Distance\",\n",
      "      \"Distance Formula\",\n",
      "      \"Pythagorean Theorem\",\n",
      "      \"Cartesian Coordinates\",\n",
      "      \"Euclidean Space\",\n",
      "      \"Distance Metrics\",\n",
      "      \"Metric Spaces\",\n",
      "      \"Norms\",\n",
      "      \"Inner Products\",\n",
      "      \"Orthogonality\",\n",
      "      \"Unit Vectors\",\n",
      "      \"Vectors\",\n",
      "      \"Vector Spaces\",\n",
      "      \"Vector Addition\",\n",
      "      \"Scalar Multiplication\",\n",
      "      \"Dot Product\",\n",
      "      \"Cross Product\",\n",
      "      \"Matrices\",\n",
      "      \"Matrix Operations\",\n",
      "      \"Eigenvalues\"\n",
      "    ],\n",
      "    \"description\": \"In this module, we'll be learning about the Euclidean distance, a fundamental concept in mathematics and computer science. The Euclidean distance is the straight-line distance between two points in a Euclidean space, which is a space with a well-defined notion of distance and angles. We'll explore how to calculate the Euclidean distance in two dimensions using the Pythagorean theorem, and extend this concept to higher dimensions. We'll also look at some practical applications of the Euclidean distance in fields such as data analysis and machine learning. By the end of this module, you'll have a clear understanding of what the Euclidean distance is, how to calculate it, and why it's important.\"\n",
      "  },\n",
      "  {\n",
      "    \"id\": \"645117a52a4785d4b779975d\",\n",
      "    \"name\": \"Introduction\",\n",
      "    \"hours\": 0.25,\n",
      "    \"objectives\": [\n",
      "      \"Operational Research\",\n",
      "      \"Optimization\",\n",
      "      \"Linear Programming\",\n",
      "      \"Decision Analysis\",\n",
      "      \"Simulation\",\n",
      "      \"Queueing Theory\",\n",
      "      \"Inventory Management\",\n",
      "      \"Project Management\",\n",
      "      \"Supply Chain Management\",\n",
      "      \"Network Analysis\",\n",
      "      \"Game Theory\",\n",
      "      \"Transportation Problem\",\n",
      "      \"Integer Programming\",\n",
      "      \"Heuristics\",\n",
      "      \"Metaheuristics\",\n",
      "      \"Artificial Intelligence\",\n",
      "      \"Machine Learning\",\n",
      "      \"Data Analytics\",\n",
      "      \"Mathematical Modeling\",\n",
      "      \"Analysis\"\n",
      "    ],\n",
      "    \"description\": \"In this video module, students will be introduced to the field of Operations Research (OR) and its general approach to mathematical modeling. The video will cover the process of problem definition and how to define an optimization objective subject to certain constraints. Students will also learn about the history of OR and its most common applications.\"\n",
      "  },\n",
      "  {\n",
      "    \"id\": \"645117b32a4785d4b779975e\",\n",
      "    \"name\": \"Definition, History, and Applications\",\n",
      "    \"hours\": 0.2,\n",
      "    \"objectives\": [\n",
      "      \"Linear Programming\",\n",
      "      \"Model Formulation\",\n",
      "      \"Graphical Solutions\",\n",
      "      \"Optimization\",\n",
      "      \"Constraints\",\n",
      "      \"Feasible Region\",\n",
      "      \"Objective Function\",\n",
      "      \"Decision Variables\",\n",
      "      \"Sensitivity Analysis\",\n",
      "      \"Shadow Prices\",\n",
      "      \"Dual Problem\",\n",
      "      \"Simplex Method\",\n",
      "      \"Two-Variable Problem\",\n",
      "      \"Multiple-Variable Problem\",\n",
      "      \"Degeneracy\",\n",
      "      \"Infeasibility\",\n",
      "      \"Unboundedness\",\n",
      "      \"Integer Programming\",\n",
      "      \"Nonlinear Programming\",\n",
      "      \"Heuristics\"\n",
      "    ],\n",
      "    \"description\": \"This video module will cover the most common applications of OR. Students will learn about transportation models, inventory models, and queuing models. The video will also cover the benefits and limitations of using OR in different fields.\"\n",
      "  },\n",
      "  {\n",
      "    \"id\": \"645117bf2a4785d4b779975f\",\n",
      "    \"name\": \"Operational Research Modeling\",\n",
      "    \"hours\": 0.3,\n",
      "    \"objectives\": [\n",
      "      \"Data Envelopment Analysis\",\n",
      "      \"Efficiency Analysis\",\n",
      "      \"Performance Evaluation\",\n",
      "      \"Input Factors\",\n",
      "      \"Output Factors\",\n",
      "      \"Nonparametric Method\",\n",
      "      \"Linear Programming\",\n",
      "      \"Benchmarks\",\n",
      "      \"Productivity Analysis\",\n",
      "      \"Technical Efficiency\",\n",
      "      \"Scale Efficiency\",\n",
      "      \"Allocative Efficiency\",\n",
      "      \"DEA Models\",\n",
      "      \"Super-Efficiency Models\",\n",
      "      \"Network DEA\",\n",
      "      \"Sensitivity Analysis\",\n",
      "      \"Metafrontier Analysis\",\n",
      "      \"Nonlinear DEA\",\n",
      "      \"Stochastic DEA\",\n",
      "      \"Robust DEA\"\n",
      "    ],\n",
      "    \"description\": \"This video module covers the basics of OR modeling. Students will learn about the different types of models used in OR and their applications. The module will also cover linear programming models, and how to optimize them using different methods.\"\n",
      "  },\n",
      "  {\n",
      "    \"id\": \"645117ca2a4785d4b7799760\",\n",
      "    \"name\": \"Break-Even Analysis\",\n",
      "    \"hours\": 0.275,\n",
      "    \"objectives\": [\n",
      "      \"Break-Even Analysis\",\n",
      "      \"Cost-Volume-Profit Analysis\",\n",
      "      \"Fixed Costs\",\n",
      "      \"Variable Costs\",\n",
      "      \"Total Costs\",\n",
      "      \"Revenue\",\n",
      "      \"Break-Even Point\",\n",
      "      \"Contribution Margin\",\n",
      "      \"Margin of Safety\",\n",
      "      \"Target Profit Analysis\",\n",
      "      \"Operating Leverage\",\n",
      "      \"Financial Leverage\",\n",
      "      \"Combined Leverage\",\n",
      "      \"Sensitivity Analysis\",\n",
      "      \"Scenario Analysis\",\n",
      "      \"Monte Carlo Simulation\",\n",
      "      \"Decision Analysis\",\n",
      "      \"Managerial Accounting\",\n",
      "      \"Business Analysis\"\n",
      "    ],\n",
      "    \"description\": \"In this video module, students will learn about the Break-Even Analysis and its importance in business decision-making. The module covers how to calculate break-even points using linear equations, how to calculate profit and loss, and how to graph the break-even analysis. Additionally, the module will discuss the limitations of Break-Even Analysis and its applications in real-world scenarios.\"\n",
      "  },\n",
      "  {\n",
      "    \"id\": \"64511ab2f9ce74323575fff7\",\n",
      "    \"name\": \"Linear Programming (LP) Modeling\",\n",
      "    \"hours\": 0.3,\n",
      "    \"objectives\": [\n",
      "      \"Linear Programming\",\n",
      "      \"Modeling Applications\",\n",
      "      \"Optimization\",\n",
      "      \"Marketing\",\n",
      "      \"Finance\",\n",
      "      \"Manufacturing\",\n",
      "      \"Distribution\",\n",
      "      \"Resource Allocation\",\n",
      "      \"Blending\",\n",
      "      \"Scheduling\",\n",
      "      \"Production Planning\",\n",
      "      \"Network Design\",\n",
      "      \"Facility Location\",\n",
      "      \"Portfolio Selection\",\n",
      "      \"Revenue Management\",\n",
      "      \"Game Theory\",\n",
      "      \"Integer Programming\",\n",
      "      \"Nonlinear Programming\",\n",
      "      \"Simulation\",\n",
      "      \"Data Analytics\"\n",
      "    ],\n",
      "    \"description\": \"In this module, we dive deeper into Linear Programming modeling. We will explore different types of LP models, including maximization and minimization problems. We will also discuss how to set up and solve LP models using various solution methods. By the end of this module, you will be able to recognize different types of LP models and know how to approach solving them.\"\n",
      "  },\n",
      "  {\n",
      "    \"id\": \"64511acbf9ce74323575fff8\",\n",
      "    \"name\": \"LP Model Formulation Example\",\n",
      "    \"hours\": 0.3,\n",
      "    \"objectives\": [\n",
      "      \"Integer Programming\",\n",
      "      \"Optimization\",\n",
      "      \"Linear Programming\",\n",
      "      \"Mixed Integer Programming\",\n",
      "      \"Branch and Bound\",\n",
      "      \"Branch and Cut\",\n",
      "      \"Branch and Price\",\n",
      "      \"Cutting Planes\",\n",
      "      \"Gomory's Cutting Plane Method\",\n",
      "      \"Lagrangian Relaxation\",\n",
      "      \"Dynamic Programming\",\n",
      "      \"Network Flow Problems\",\n",
      "      \"Assignment Problems\",\n",
      "      \"Knapsack Problems\",\n",
      "      \"Vehicle Routing Problems\",\n",
      "      \"Facility Location Problems\",\n",
      "      \"Cutting Stock Problems\",\n",
      "      \"Scheduling Problems\",\n",
      "      \"Heuristics\",\n",
      "      \"Metaheuristics\"\n",
      "    ],\n",
      "    \"description\": \"In this module, we will walk through an example of how to formulate an LP model. We will cover the steps involved in defining the decision variables, objective function, and constraints for a specific problem. By the end of this module, you will have a good understanding of how to apply the modeling process to real-world problems.\"\n",
      "  },\n",
      "  {\n",
      "    \"id\": \"64511ad2f9ce74323575fff9\",\n",
      "    \"name\": \"Graphical Method for LP {Maximization}\",\n",
      "    \"hours\": 0.3,\n",
      "    \"objectives\": [\n",
      "      \"Linear Programming\",\n",
      "      \"Graphical Method\",\n",
      "      \"Maximization\",\n",
      "      \"Optimization\",\n",
      "      \"Feasible Region\",\n",
      "      \"Objective Function\",\n",
      "      \"Constraints\",\n",
      "      \"Decision Variables\",\n",
      "      \"Corner Point Method\",\n",
      "      \"Iso-Objective Line\",\n",
      "      \"Sensitivity Analysis\",\n",
      "      \"Shadow Price\",\n",
      "      \"Slack Variables\",\n",
      "      \"Surplus Variables\",\n",
      "      \"Two-Variable Problem\",\n",
      "      \"Multiple-Variable Problem\",\n",
      "      \"Degeneracy\",\n",
      "      \"Infeasibility\",\n",
      "      \"Unboundedness\"\n",
      "    ],\n",
      "    \"description\": \"This module will focus on the Graphical Method for solving LP problems with a maximization objective. We will learn how to graphically represent the constraints and objective function to find the optimal solution. By the end of this module, you will have a solid understanding of the Graphical Method and be able to apply it to maximize an LP problem.\"\n",
      "  },\n",
      "  {\n",
      "    \"id\": \"64511aeaf9ce74323575fffa\",\n",
      "    \"name\": \"Graphical Method for LP {Minimization}\",\n",
      "    \"hours\": 0.3,\n",
      "    \"objectives\": [\n",
      "      \"Linear Programming\",\n",
      "      \"Graphical Method\",\n",
      "      \"Minimization\",\n",
      "      \"Optimization\",\n",
      "      \"Feasible Region\",\n",
      "      \"Objective Function\",\n",
      "      \"Constraints\",\n",
      "      \"Decision Variables\",\n",
      "      \"Corner Point Method\",\n",
      "      \"Iso-Objective Line\",\n",
      "      \"Sensitivity Analysis\",\n",
      "      \"Shadow Price\",\n",
      "      \"Slack Variables\",\n",
      "      \"Surplus Variables\",\n",
      "      \"Two-Variable Problem\",\n",
      "      \"Multiple-Variable Problem\",\n",
      "      \"Degeneracy\",\n",
      "      \"Infeasibility\",\n",
      "      \"Unboundedness\"\n",
      "    ],\n",
      "    \"description\": \"Similar to the previous module, this module will focus on the Graphical Method for solving LP problems but with a minimization objective. We will learn how to graphically represent the constraints and objective function to find the optimal solution. By the end of this module, you will be able to apply the Graphical Method to minimize an LP problem.\"\n",
      "  },\n",
      "  {\n",
      "    \"id\": \"64511af8f9ce74323575fffb\",\n",
      "    \"name\": \"Irregular Types of LP Problems\",\n",
      "    \"hours\": 0.3,\n",
      "    \"objectives\": [\n",
      "      \"Transportation Problem\",\n",
      "      \"Transshipment Problem\",\n",
      "      \"Assignment Problem\",\n",
      "      \"Optimization\",\n",
      "      \"Linear Programming\",\n",
      "      \"Feasible Solutions\",\n",
      "      \"Basic Feasible Solution\",\n",
      "      \"Initial Basic Feasible Solution\",\n",
      "      \"Balanced Transportation Problem\",\n",
      "      \"Degeneracy\",\n",
      "      \"Unbalanced Transportation Problem\",\n",
      "      \"Modified Distribution Method\",\n",
      "      \"Stepping Stone Method\",\n",
      "      \"Vogel's Approximation Method\",\n",
      "      \"Hungarian Method\",\n",
      "      \"Maximal Flow Problems\",\n",
      "      \"Minimum Cost Flow Problems\",\n",
      "      \"Network Simplex Method\",\n",
      "      \"Heuristics\",\n",
      "      \"Metaheuristics\"\n",
      "    ],\n",
      "    \"description\": \"In this module, we will discuss some irregular types of LP problems that may arise. We will cover situations where LP problems have multiple optimal solutions, infeasible solutions, or unbounded solutions. We will also learn how to recognize and address these irregularities. By the end of this module, you will be able to identify and solve irregular LP problems.\"\n",
      "  },\n",
      "  {\n",
      "    \"id\": \"64511b07f9ce74323575fffc\",\n",
      "    \"name\": \"Introduction\",\n",
      "    \"hours\": 0.3,\n",
      "    \"objectives\": [\n",
      "      \"Linear Programming\",\n",
      "      \"Modeling\",\n",
      "      \"Graphical Solution Method\",\n",
      "      \"Decision Variables\",\n",
      "      \"Objective Function\",\n",
      "      \"Constraints\",\n",
      "      \"Mathematical Models\",\n",
      "      \"Optimization\",\n",
      "      \"Feasibility\",\n",
      "      \"Infeasible Solutions\",\n",
      "      \"Unbounded Solutions\",\n",
      "      \"Multiple Optimal Solutions\",\n",
      "      \"Sensitivity Analysis\",\n",
      "      \"Shadow Price\",\n",
      "      \"Slack Variables\",\n",
      "      \"Surplus Variables\",\n",
      "      \"Degeneracy\",\n",
      "      \"Irregular Problems\",\n",
      "      \"Mathematical Programming\",\n",
      "      \"Model Formulation\"\n",
      "    ],\n",
      "    \"description\": \"This module serves as an introduction to Linear Programming modeling. We will discuss the components of a linear program, which includes decision variables, objective function, and constraints. We will also go over the modeling process, where we will learn how to define each of these components. By the end of this module, you will have a good understanding of what Linear Programming is and how to approach a modeling problem.\"\n",
      "  },\n",
      "  {\n",
      "    \"id\": \"64511f49f9ce74323575fffe\",\n",
      "    \"name\": \"Introduction\",\n",
      "    \"hours\": 0.3,\n",
      "    \"objectives\": [\n",
      "      \"Linear Programming\",\n",
      "      \"Modeling\",\n",
      "      \"Computer Implementation\",\n",
      "      \"Sensitivity Analysis\",\n",
      "      \"Uncertainty\",\n",
      "      \"Graphical Method\",\n",
      "      \"Computer Models\",\n",
      "      \"Post Analysis\",\n",
      "      \"Parameters\",\n",
      "      \"Scenarios\",\n",
      "      \"New Variables\",\n",
      "      \"New Constraints\",\n",
      "      \"Manual Sensitivity Analysis\",\n",
      "      \"Automatic Sensitivity Analysis\",\n",
      "      \"Objective Function\",\n",
      "      \"Decision Variables\",\n",
      "      \"Constraints\",\n",
      "      \"Optimization\",\n",
      "      \"Feasibility\",\n",
      "      \"Mathematical Models\"\n",
      "    ],\n",
      "    \"description\": \"In this module, we return to the modeling process and present how to implement a model using the computer. We also cover the topic of Sensitivity Analysis which is a post analysis method to study uncertainty that may occur to the model\\u2019s parameters as well as some potential scenarios that may occur such as adding a new variable or a new constraint.  We cover this topic for both the Graphical Method and the computer models. We will learn how to conduct sensitivity analysis manually for graphical solutions and automatically using the computer.\"\n",
      "  },\n",
      "  {\n",
      "    \"id\": \"64511f4bf9ce74323575ffff\",\n",
      "    \"name\": \"Computer Solutions for LP Formulations\",\n",
      "    \"hours\": 0.3,\n",
      "    \"objectives\": [\n",
      "      \"Linear Programming\",\n",
      "      \"Computer Solutions\",\n",
      "      \"Solver\",\n",
      "      \"Excel\",\n",
      "      \"AMPL\",\n",
      "      \"LINDO\",\n",
      "      \"GAMS\",\n",
      "      \"Algorithm\",\n",
      "      \"Sensitivity Analysis\",\n",
      "      \"Shadow Prices\",\n",
      "      \"Dual Problem\",\n",
      "      \"Interior Point Method\",\n",
      "      \"Branch and Bound Method\",\n",
      "      \"Network Simplex Method\",\n",
      "      \"Two-Phase Method\",\n",
      "      \"Integer Programming\",\n",
      "      \"Nonlinear Programming\",\n",
      "      \"Heuristics\",\n",
      "      \"Metaheuristics\",\n",
      "      \"Artificial Intelligence\"\n",
      "    ],\n",
      "    \"description\": \"In this module, we will introduce the concept of computer solutions for LP formulations. We will learn how computers can help us to solve more complex LP models in a more efficient manner. Specifically, we will discuss the Simplex method, one of the most popular and powerful algorithms for solving LP problems. We will cover the different phases of the Simplex method, including initialization, iteration, and termination, and learn how to interpret the output generated by the computer.  We will also introduce some of the popular software tools available for solving LP problems. These tools can greatly simplify the process of solving LP problems and reduce the risk of errors. We will provide hands-on experience with some of these software tools to give you a better understanding of how they can be used to solve LP problems.\"\n",
      "  },\n",
      "  {\n",
      "    \"id\": \"64511f58f9ce743235760000\",\n",
      "    \"name\": \"Sensitivity Analysis for LP Models\",\n",
      "    \"hours\": 0.3,\n",
      "    \"objectives\": [\n",
      "      \"Network Flow Models\",\n",
      "      \"Optimization\",\n",
      "      \"Linear Programming\",\n",
      "      \"Maximum Flow Problems\",\n",
      "      \"Minimum Cost Flow Problems\",\n",
      "      \"Shortest Path Problems\",\n",
      "      \"Spanning Tree Problems\",\n",
      "      \"Minimum Cut Problems\",\n",
      "      \"Multicommodity\"\n",
      "    ],\n",
      "    \"description\": \"In this module, we will explore the topic of sensitivity analysis for LP models. Sensitivity analysis is a powerful tool that allows us to examine the effects of changes to the parameters of an LP model. Specifically, we will cover the concepts of shadow prices, allowable ranges, and binding constraints, and how to interpret them in the context of an LP model.  We will start by discussing manual sensitivity analysis, where we use the Simplex tableau to make changes to the parameters of an LP model and observe the effects on the optimal solution. We will then move on to automatic sensitivity analysis, where we use software tools to perform sensitivity analysis automatically. Finally, we will discuss some practical applications of sensitivity analysis, including how to use it to make informed decisions about changes to the parameters of an LP model.\"\n",
      "  }\n",
      "]\n"
     ]
    }
   ],
   "source": [
    "moduleData = requests.post(url, json={'query': '{ module(input:{}){id, name, hours, objectives, description} }'}).json()\n",
    "\n",
    "print(json.dumps(moduleData.get('data').get('module'), indent=2))"
   ],
   "metadata": {
    "collapsed": false,
    "ExecuteTime": {
     "end_time": "2023-05-15T17:16:57.597882Z",
     "start_time": "2023-05-15T17:16:57.229085Z"
    }
   }
  },
  {
   "cell_type": "code",
   "execution_count": 441,
   "outputs": [
    {
     "data": {
      "text/plain": "                         id                  name  hours  \\\n0  644827afc3faa4c9ea96a800     Linear Regression   0.75   \n1  64496079d5fb014e40d5ea39  Statistical Analysis   1.50   \n2  644960add5fb014e40d5ea3a            Logarithms   2.00   \n3  644960bcd5fb014e40d5ea3b           Arithmetics   0.50   \n4  64496111d5fb014e40d5ea3c    Euclidean distance   2.25   \n\n                                          objectives  \\\n0  [Linear Regression, Correlation, Regression An...   \n1  [Statistical Analysis, Descriptive Statistics,...   \n2  [Logarithms, Exponential Functions, Logarithmi...   \n3  [Arithmetic, Operations, Addition, Subtraction...   \n4  [Euclidean Distance, Distance Formula, Pythago...   \n\n                                         description  \n0  This module is designed to introduce students ...  \n1  This module is designed to teach students the ...  \n2  This module is designed to introduce students ...  \n3  This module is designed to teach students the ...  \n4  In this module, we'll be learning about the Eu...  ",
      "text/html": "<div>\n<style scoped>\n    .dataframe tbody tr th:only-of-type {\n        vertical-align: middle;\n    }\n\n    .dataframe tbody tr th {\n        vertical-align: top;\n    }\n\n    .dataframe thead th {\n        text-align: right;\n    }\n</style>\n<table border=\"1\" class=\"dataframe\">\n  <thead>\n    <tr style=\"text-align: right;\">\n      <th></th>\n      <th>id</th>\n      <th>name</th>\n      <th>hours</th>\n      <th>objectives</th>\n      <th>description</th>\n    </tr>\n  </thead>\n  <tbody>\n    <tr>\n      <th>0</th>\n      <td>644827afc3faa4c9ea96a800</td>\n      <td>Linear Regression</td>\n      <td>0.75</td>\n      <td>[Linear Regression, Correlation, Regression An...</td>\n      <td>This module is designed to introduce students ...</td>\n    </tr>\n    <tr>\n      <th>1</th>\n      <td>64496079d5fb014e40d5ea39</td>\n      <td>Statistical Analysis</td>\n      <td>1.50</td>\n      <td>[Statistical Analysis, Descriptive Statistics,...</td>\n      <td>This module is designed to teach students the ...</td>\n    </tr>\n    <tr>\n      <th>2</th>\n      <td>644960add5fb014e40d5ea3a</td>\n      <td>Logarithms</td>\n      <td>2.00</td>\n      <td>[Logarithms, Exponential Functions, Logarithmi...</td>\n      <td>This module is designed to introduce students ...</td>\n    </tr>\n    <tr>\n      <th>3</th>\n      <td>644960bcd5fb014e40d5ea3b</td>\n      <td>Arithmetics</td>\n      <td>0.50</td>\n      <td>[Arithmetic, Operations, Addition, Subtraction...</td>\n      <td>This module is designed to teach students the ...</td>\n    </tr>\n    <tr>\n      <th>4</th>\n      <td>64496111d5fb014e40d5ea3c</td>\n      <td>Euclidean distance</td>\n      <td>2.25</td>\n      <td>[Euclidean Distance, Distance Formula, Pythago...</td>\n      <td>In this module, we'll be learning about the Eu...</td>\n    </tr>\n  </tbody>\n</table>\n</div>"
     },
     "execution_count": 441,
     "metadata": {},
     "output_type": "execute_result"
    }
   ],
   "source": [
    "moduleDF = pd.DataFrame(moduleData.get('data').get('module'))\n",
    "\n",
    "moduleDF.head()"
   ],
   "metadata": {
    "collapsed": false,
    "ExecuteTime": {
     "end_time": "2023-05-15T17:16:57.612313Z",
     "start_time": "2023-05-15T17:16:57.605123Z"
    }
   }
  },
  {
   "cell_type": "markdown",
   "source": [
    "# Get all the sections in the DB and convert it to a dataframe"
   ],
   "metadata": {
    "collapsed": false
   }
  },
  {
   "cell_type": "code",
   "execution_count": 442,
   "outputs": [
    {
     "name": "stdout",
     "output_type": "stream",
     "text": [
      "[\n",
      "  {\n",
      "    \"id\": \"64480fd85ee3f93a77784aeb\",\n",
      "    \"sectionName\": \"Course Introduction and Design\",\n",
      "    \"description\": \"Assess the effectiveness of your past, current, and future projects based on universal success factors and global contingency considerations,  Intelligently evaluate projects for inclusion, and continued investment, in an organization\\u2019s portfolio,  Revise project plans to accommodate time and resource conflicts, Evaluate project performance based on a balanced set of key performance indicators, Apply critical thinking to assess project situations and devise appropriate tactical and strategic responses, Present yourself to a potential employer as someone who is capable of leading projects\",\n",
      "    \"intro\": \"\",\n",
      "    \"keywords\": [\n",
      "      \"expectations\",\n",
      "      \"management\",\n",
      "      \"conceptual\"\n",
      "    ],\n",
      "    \"objectives\": [\n",
      "      \"Discuss high level and integration of topics in course design\",\n",
      "      \"Understand conceptual approach to treatment of project management\",\n",
      "      \"Recognize requirements and treatment of project management\",\n",
      "      \"Recognize requirements and expectations necessary for successful completion of course\"\n",
      "    ]\n",
      "  },\n",
      "  {\n",
      "    \"id\": \"64492dab53da498461a3e3c1\",\n",
      "    \"sectionName\": \"Test 2\",\n",
      "    \"description\": \"Some wise words\",\n",
      "    \"intro\": \"Wise words\",\n",
      "    \"keywords\": [],\n",
      "    \"objectives\": []\n",
      "  },\n",
      "  {\n",
      "    \"id\": \"645116ec2a4785d4b7799759\",\n",
      "    \"sectionName\": \"Section 1\",\n",
      "    \"description\": \"In this module, we introduce to the area of Operations Research and the general approach to mathematical modeling starting from problem definition to defining a certain optimization objective subject to some constraints.  We will also touch on some OR\\u2019s history and go over the most common applications. We start in this module with the most basic OR models: The Break-Even Analysis in which we learn how to determine points at which profit equals cost or in some cases when the point at which decisions become equivalent or indifferent.\",\n",
      "    \"intro\": \"\",\n",
      "    \"keywords\": [],\n",
      "    \"objectives\": []\n",
      "  },\n",
      "  {\n",
      "    \"id\": \"645116f22a4785d4b779975a\",\n",
      "    \"sectionName\": \"Section 2\",\n",
      "    \"description\": \"In this module, we introduce the area of Linear Programming modeling and discuss the different components and the requirements of a linear program. We will also present the modeling process and how to go about defining the decision variables, the objective function, and constraints.  Most of the content in this module, is focused on the Graphical Solution Method for Linear Programming. The method is necessary to develop a good understanding of how to solve linear programming mathematical models.  We also briefly discuss some irregular types of linear programming problems and situations, including having multiple optimal solutions, infeasible solutions, and unbounded solutions.\",\n",
      "    \"intro\": \"\",\n",
      "    \"keywords\": [],\n",
      "    \"objectives\": []\n",
      "  },\n",
      "  {\n",
      "    \"id\": \"645116f62a4785d4b779975b\",\n",
      "    \"sectionName\": \"Section 3\",\n",
      "    \"description\": \"\",\n",
      "    \"intro\": \"\",\n",
      "    \"keywords\": [],\n",
      "    \"objectives\": []\n",
      "  }\n",
      "]\n"
     ]
    }
   ],
   "source": [
    "sectionData = requests.post(url, json={'query': '{ section(input:{}){id, sectionName, description, intro, keywords, objectives} }'}).json()\n",
    "\n",
    "print(json.dumps(sectionData.get('data').get('section'), indent=2))"
   ],
   "metadata": {
    "collapsed": false,
    "ExecuteTime": {
     "end_time": "2023-05-15T17:16:57.893709Z",
     "start_time": "2023-05-15T17:16:57.619405Z"
    }
   }
  },
  {
   "cell_type": "code",
   "execution_count": 443,
   "outputs": [
    {
     "data": {
      "text/plain": "                         id                     sectionName  \\\n0  64480fd85ee3f93a77784aeb  Course Introduction and Design   \n1  64492dab53da498461a3e3c1                          Test 2   \n2  645116ec2a4785d4b7799759                       Section 1   \n3  645116f22a4785d4b779975a                       Section 2   \n4  645116f62a4785d4b779975b                       Section 3   \n\n                                         description       intro  \\\n0  Assess the effectiveness of your past, current...               \n1                                    Some wise words  Wise words   \n2  In this module, we introduce to the area of Op...               \n3  In this module, we introduce the area of Linea...               \n4                                                                  \n\n                                 keywords  \\\n0  [expectations, management, conceptual]   \n1                                      []   \n2                                      []   \n3                                      []   \n4                                      []   \n\n                                          objectives  \n0  [Discuss high level and integration of topics ...  \n1                                                 []  \n2                                                 []  \n3                                                 []  \n4                                                 []  ",
      "text/html": "<div>\n<style scoped>\n    .dataframe tbody tr th:only-of-type {\n        vertical-align: middle;\n    }\n\n    .dataframe tbody tr th {\n        vertical-align: top;\n    }\n\n    .dataframe thead th {\n        text-align: right;\n    }\n</style>\n<table border=\"1\" class=\"dataframe\">\n  <thead>\n    <tr style=\"text-align: right;\">\n      <th></th>\n      <th>id</th>\n      <th>sectionName</th>\n      <th>description</th>\n      <th>intro</th>\n      <th>keywords</th>\n      <th>objectives</th>\n    </tr>\n  </thead>\n  <tbody>\n    <tr>\n      <th>0</th>\n      <td>64480fd85ee3f93a77784aeb</td>\n      <td>Course Introduction and Design</td>\n      <td>Assess the effectiveness of your past, current...</td>\n      <td></td>\n      <td>[expectations, management, conceptual]</td>\n      <td>[Discuss high level and integration of topics ...</td>\n    </tr>\n    <tr>\n      <th>1</th>\n      <td>64492dab53da498461a3e3c1</td>\n      <td>Test 2</td>\n      <td>Some wise words</td>\n      <td>Wise words</td>\n      <td>[]</td>\n      <td>[]</td>\n    </tr>\n    <tr>\n      <th>2</th>\n      <td>645116ec2a4785d4b7799759</td>\n      <td>Section 1</td>\n      <td>In this module, we introduce to the area of Op...</td>\n      <td></td>\n      <td>[]</td>\n      <td>[]</td>\n    </tr>\n    <tr>\n      <th>3</th>\n      <td>645116f22a4785d4b779975a</td>\n      <td>Section 2</td>\n      <td>In this module, we introduce the area of Linea...</td>\n      <td></td>\n      <td>[]</td>\n      <td>[]</td>\n    </tr>\n    <tr>\n      <th>4</th>\n      <td>645116f62a4785d4b779975b</td>\n      <td>Section 3</td>\n      <td></td>\n      <td></td>\n      <td>[]</td>\n      <td>[]</td>\n    </tr>\n  </tbody>\n</table>\n</div>"
     },
     "execution_count": 443,
     "metadata": {},
     "output_type": "execute_result"
    }
   ],
   "source": [
    "sectionDF = pd.DataFrame(sectionData.get('data').get('section'))\n",
    "\n",
    "sectionDF.head()"
   ],
   "metadata": {
    "collapsed": false,
    "ExecuteTime": {
     "end_time": "2023-05-15T17:16:57.921128Z",
     "start_time": "2023-05-15T17:16:57.905739Z"
    }
   }
  },
  {
   "cell_type": "markdown",
   "source": [
    "# Merge all the text content into a single column for each module\n",
    "\n",
    "This is an essential step to be able to perform the text analysis and text vectorization on the data"
   ],
   "metadata": {
    "collapsed": false
   }
  },
  {
   "cell_type": "code",
   "execution_count": 444,
   "outputs": [],
   "source": [
    "def scalar_to_str(df):\n",
    "    lst_o = list(df['objectives'])\n",
    "\n",
    "    string_obj_feature = ''\n",
    "\n",
    "    for obj in lst_o:\n",
    "        string_obj_feature += obj + ' '\n",
    "\n",
    "    df['objectives'] = string_obj_feature\n",
    "    return df\n",
    "\n",
    "moduleDF = moduleDF.apply(scalar_to_str, axis=1)"
   ],
   "metadata": {
    "collapsed": false,
    "ExecuteTime": {
     "end_time": "2023-05-15T17:16:57.950739Z",
     "start_time": "2023-05-15T17:16:57.919770Z"
    }
   }
  },
  {
   "cell_type": "code",
   "execution_count": 445,
   "outputs": [
    {
     "data": {
      "text/plain": "                         id  hours  \\\n0  644827afc3faa4c9ea96a800   0.75   \n1  64496079d5fb014e40d5ea39   1.50   \n2  644960add5fb014e40d5ea3a   2.00   \n3  644960bcd5fb014e40d5ea3b   0.50   \n4  64496111d5fb014e40d5ea3c   2.25   \n\n                                             feature  \n0  Linear Regression Linear Regression Correlatio...  \n1  Statistical Analysis Statistical Analysis Desc...  \n2  Logarithms Logarithms Exponential Functions Lo...  \n3  Arithmetics Arithmetic Operations Addition Sub...  \n4  Euclidean distance Euclidean Distance Distance...  ",
      "text/html": "<div>\n<style scoped>\n    .dataframe tbody tr th:only-of-type {\n        vertical-align: middle;\n    }\n\n    .dataframe tbody tr th {\n        vertical-align: top;\n    }\n\n    .dataframe thead th {\n        text-align: right;\n    }\n</style>\n<table border=\"1\" class=\"dataframe\">\n  <thead>\n    <tr style=\"text-align: right;\">\n      <th></th>\n      <th>id</th>\n      <th>hours</th>\n      <th>feature</th>\n    </tr>\n  </thead>\n  <tbody>\n    <tr>\n      <th>0</th>\n      <td>644827afc3faa4c9ea96a800</td>\n      <td>0.75</td>\n      <td>Linear Regression Linear Regression Correlatio...</td>\n    </tr>\n    <tr>\n      <th>1</th>\n      <td>64496079d5fb014e40d5ea39</td>\n      <td>1.50</td>\n      <td>Statistical Analysis Statistical Analysis Desc...</td>\n    </tr>\n    <tr>\n      <th>2</th>\n      <td>644960add5fb014e40d5ea3a</td>\n      <td>2.00</td>\n      <td>Logarithms Logarithms Exponential Functions Lo...</td>\n    </tr>\n    <tr>\n      <th>3</th>\n      <td>644960bcd5fb014e40d5ea3b</td>\n      <td>0.50</td>\n      <td>Arithmetics Arithmetic Operations Addition Sub...</td>\n    </tr>\n    <tr>\n      <th>4</th>\n      <td>64496111d5fb014e40d5ea3c</td>\n      <td>2.25</td>\n      <td>Euclidean distance Euclidean Distance Distance...</td>\n    </tr>\n  </tbody>\n</table>\n</div>"
     },
     "execution_count": 445,
     "metadata": {},
     "output_type": "execute_result"
    }
   ],
   "source": [
    "moduleDF['feature'] = moduleDF['name'] + ' ' + moduleDF['objectives'] + ' ' + moduleDF['description']\n",
    "\n",
    "moduleDF.drop(['name', 'objectives', 'description'], axis=1, inplace=True)\n",
    "\n",
    "moduleDF.head()"
   ],
   "metadata": {
    "collapsed": false,
    "ExecuteTime": {
     "end_time": "2023-05-15T17:16:57.981600Z",
     "start_time": "2023-05-15T17:16:57.927399Z"
    }
   }
  },
  {
   "cell_type": "code",
   "execution_count": 446,
   "outputs": [],
   "source": [
    "def _text_processing(col: pd.DataFrame()):\n",
    "    column = col.str.lower()\n",
    "    column = column.str.replace(\"[^a-z ]\", \"\")\n",
    "    word_tokens = column.str.split()\n",
    "    keys = word_tokens.apply(\n",
    "        lambda x: [item for item in x if item not in stop_words]\n",
    "    )\n",
    "    for i in range(len(keys)):\n",
    "        keys[i] = \" \".join(keys[i])\n",
    "        column = keys\n",
    "    return column"
   ],
   "metadata": {
    "collapsed": false,
    "ExecuteTime": {
     "end_time": "2023-05-15T17:16:57.981777Z",
     "start_time": "2023-05-15T17:16:57.935688Z"
    }
   }
  },
  {
   "cell_type": "code",
   "execution_count": 447,
   "outputs": [
    {
     "name": "stderr",
     "output_type": "stream",
     "text": [
      "/var/folders/tp/4mcknzvj6zj5kcx78g7f5nmw0000gp/T/ipykernel_14878/2961858478.py:3: FutureWarning: The default value of regex will change from True to False in a future version.\n",
      "  column = column.str.replace(\"[^a-z ]\", \"\")\n"
     ]
    }
   ],
   "source": [
    "moduleDF['cleaned_feature'] = _text_processing(moduleDF['feature'])"
   ],
   "metadata": {
    "collapsed": false,
    "ExecuteTime": {
     "end_time": "2023-05-15T17:16:57.982006Z",
     "start_time": "2023-05-15T17:16:57.938173Z"
    }
   }
  },
  {
   "cell_type": "code",
   "execution_count": 448,
   "outputs": [
    {
     "data": {
      "text/plain": "                         id  hours  \\\n0  644827afc3faa4c9ea96a800   0.75   \n1  64496079d5fb014e40d5ea39   1.50   \n2  644960add5fb014e40d5ea3a   2.00   \n3  644960bcd5fb014e40d5ea3b   0.50   \n4  64496111d5fb014e40d5ea3c   2.25   \n\n                                             feature  \\\n0  Linear Regression Linear Regression Correlatio...   \n1  Statistical Analysis Statistical Analysis Desc...   \n2  Logarithms Logarithms Exponential Functions Lo...   \n3  Arithmetics Arithmetic Operations Addition Sub...   \n4  Euclidean distance Euclidean Distance Distance...   \n\n                                     cleaned_feature  \n0  linear regression linear regression correlatio...  \n1  statistical analysis statistical analysis desc...  \n2  logarithms logarithms exponential functions lo...  \n3  arithmetics arithmetic operations addition sub...  \n4  euclidean distance euclidean distance distance...  ",
      "text/html": "<div>\n<style scoped>\n    .dataframe tbody tr th:only-of-type {\n        vertical-align: middle;\n    }\n\n    .dataframe tbody tr th {\n        vertical-align: top;\n    }\n\n    .dataframe thead th {\n        text-align: right;\n    }\n</style>\n<table border=\"1\" class=\"dataframe\">\n  <thead>\n    <tr style=\"text-align: right;\">\n      <th></th>\n      <th>id</th>\n      <th>hours</th>\n      <th>feature</th>\n      <th>cleaned_feature</th>\n    </tr>\n  </thead>\n  <tbody>\n    <tr>\n      <th>0</th>\n      <td>644827afc3faa4c9ea96a800</td>\n      <td>0.75</td>\n      <td>Linear Regression Linear Regression Correlatio...</td>\n      <td>linear regression linear regression correlatio...</td>\n    </tr>\n    <tr>\n      <th>1</th>\n      <td>64496079d5fb014e40d5ea39</td>\n      <td>1.50</td>\n      <td>Statistical Analysis Statistical Analysis Desc...</td>\n      <td>statistical analysis statistical analysis desc...</td>\n    </tr>\n    <tr>\n      <th>2</th>\n      <td>644960add5fb014e40d5ea3a</td>\n      <td>2.00</td>\n      <td>Logarithms Logarithms Exponential Functions Lo...</td>\n      <td>logarithms logarithms exponential functions lo...</td>\n    </tr>\n    <tr>\n      <th>3</th>\n      <td>644960bcd5fb014e40d5ea3b</td>\n      <td>0.50</td>\n      <td>Arithmetics Arithmetic Operations Addition Sub...</td>\n      <td>arithmetics arithmetic operations addition sub...</td>\n    </tr>\n    <tr>\n      <th>4</th>\n      <td>64496111d5fb014e40d5ea3c</td>\n      <td>2.25</td>\n      <td>Euclidean distance Euclidean Distance Distance...</td>\n      <td>euclidean distance euclidean distance distance...</td>\n    </tr>\n  </tbody>\n</table>\n</div>"
     },
     "execution_count": 448,
     "metadata": {},
     "output_type": "execute_result"
    }
   ],
   "source": [
    "moduleDF.head()"
   ],
   "metadata": {
    "collapsed": false,
    "ExecuteTime": {
     "end_time": "2023-05-15T17:16:57.982088Z",
     "start_time": "2023-05-15T17:16:57.952254Z"
    }
   }
  },
  {
   "cell_type": "code",
   "execution_count": 449,
   "outputs": [],
   "source": [
    "def get_tokens(text):\n",
    "    payload = \"\"\n",
    "\n",
    "    tokens = word_tokenize(text)\n",
    "\n",
    "    tokens = [t for t in tokens if not t in stop_words]\n",
    "\n",
    "    for token in tokens:\n",
    "        payload += token + ' '\n",
    "\n",
    "    return payload"
   ],
   "metadata": {
    "collapsed": false,
    "ExecuteTime": {
     "end_time": "2023-05-15T17:16:57.982133Z",
     "start_time": "2023-05-15T17:16:57.958326Z"
    }
   }
  },
  {
   "cell_type": "code",
   "execution_count": 450,
   "outputs": [
    {
     "data": {
      "text/plain": "                         id  hours  \\\n0  644827afc3faa4c9ea96a800   0.75   \n1  64496079d5fb014e40d5ea39   1.50   \n2  644960add5fb014e40d5ea3a   2.00   \n3  644960bcd5fb014e40d5ea3b   0.50   \n4  64496111d5fb014e40d5ea3c   2.25   \n\n                                             feature  \\\n0  Linear Regression Linear Regression Correlatio...   \n1  Statistical Analysis Statistical Analysis Desc...   \n2  Logarithms Logarithms Exponential Functions Lo...   \n3  Arithmetics Arithmetic Operations Addition Sub...   \n4  Euclidean distance Euclidean Distance Distance...   \n\n                                     cleaned_feature  \\\n0  linear regression linear regression correlatio...   \n1  statistical analysis statistical analysis desc...   \n2  logarithms logarithms exponential functions lo...   \n3  arithmetics arithmetic operations addition sub...   \n4  euclidean distance euclidean distance distance...   \n\n                                              tokens  \n0  linear regression linear regression correlatio...  \n1  statistical analysis statistical analysis desc...  \n2  logarithms logarithms exponential functions lo...  \n3  arithmetics arithmetic operations addition sub...  \n4  euclidean distance euclidean distance distance...  ",
      "text/html": "<div>\n<style scoped>\n    .dataframe tbody tr th:only-of-type {\n        vertical-align: middle;\n    }\n\n    .dataframe tbody tr th {\n        vertical-align: top;\n    }\n\n    .dataframe thead th {\n        text-align: right;\n    }\n</style>\n<table border=\"1\" class=\"dataframe\">\n  <thead>\n    <tr style=\"text-align: right;\">\n      <th></th>\n      <th>id</th>\n      <th>hours</th>\n      <th>feature</th>\n      <th>cleaned_feature</th>\n      <th>tokens</th>\n    </tr>\n  </thead>\n  <tbody>\n    <tr>\n      <th>0</th>\n      <td>644827afc3faa4c9ea96a800</td>\n      <td>0.75</td>\n      <td>Linear Regression Linear Regression Correlatio...</td>\n      <td>linear regression linear regression correlatio...</td>\n      <td>linear regression linear regression correlatio...</td>\n    </tr>\n    <tr>\n      <th>1</th>\n      <td>64496079d5fb014e40d5ea39</td>\n      <td>1.50</td>\n      <td>Statistical Analysis Statistical Analysis Desc...</td>\n      <td>statistical analysis statistical analysis desc...</td>\n      <td>statistical analysis statistical analysis desc...</td>\n    </tr>\n    <tr>\n      <th>2</th>\n      <td>644960add5fb014e40d5ea3a</td>\n      <td>2.00</td>\n      <td>Logarithms Logarithms Exponential Functions Lo...</td>\n      <td>logarithms logarithms exponential functions lo...</td>\n      <td>logarithms logarithms exponential functions lo...</td>\n    </tr>\n    <tr>\n      <th>3</th>\n      <td>644960bcd5fb014e40d5ea3b</td>\n      <td>0.50</td>\n      <td>Arithmetics Arithmetic Operations Addition Sub...</td>\n      <td>arithmetics arithmetic operations addition sub...</td>\n      <td>arithmetics arithmetic operations addition sub...</td>\n    </tr>\n    <tr>\n      <th>4</th>\n      <td>64496111d5fb014e40d5ea3c</td>\n      <td>2.25</td>\n      <td>Euclidean distance Euclidean Distance Distance...</td>\n      <td>euclidean distance euclidean distance distance...</td>\n      <td>euclidean distance euclidean distance distance...</td>\n    </tr>\n  </tbody>\n</table>\n</div>"
     },
     "execution_count": 450,
     "metadata": {},
     "output_type": "execute_result"
    }
   ],
   "source": [
    "moduleDF['tokens'] = moduleDF['cleaned_feature'].apply(lambda x: get_tokens(x))\n",
    "\n",
    "moduleDF.head()"
   ],
   "metadata": {
    "collapsed": false,
    "ExecuteTime": {
     "end_time": "2023-05-15T17:16:58.093444Z",
     "start_time": "2023-05-15T17:16:57.976470Z"
    }
   }
  },
  {
   "cell_type": "code",
   "execution_count": 451,
   "outputs": [],
   "source": [
    "vectorizer = TfidfVectorizer(sublinear_tf=True, min_df=1, max_df=0.95)\n",
    "X = vectorizer.fit_transform(moduleDF['tokens'])"
   ],
   "metadata": {
    "collapsed": false,
    "ExecuteTime": {
     "end_time": "2023-05-15T17:16:58.093637Z",
     "start_time": "2023-05-15T17:16:57.989595Z"
    }
   }
  },
  {
   "cell_type": "code",
   "execution_count": 452,
   "outputs": [
    {
     "data": {
      "text/plain": "array([[0.06957825, 0.        , 0.        , ..., 0.        , 0.        ,\n        0.09543778],\n       [0.06695015, 0.        , 0.        , ..., 0.        , 0.        ,\n        0.09183293],\n       [0.06617254, 0.        , 0.        , ..., 0.        , 0.        ,\n        0.0907663 ],\n       ...,\n       [0.        , 0.        , 0.        , ..., 0.        , 0.        ,\n        0.        ],\n       [0.        , 0.        , 0.        , ..., 0.        , 0.        ,\n        0.        ],\n       [0.        , 0.        , 0.        , ..., 0.        , 0.        ,\n        0.        ]])"
     },
     "execution_count": 452,
     "metadata": {},
     "output_type": "execute_result"
    }
   ],
   "source": [
    "X.toarray()"
   ],
   "metadata": {
    "collapsed": false,
    "ExecuteTime": {
     "end_time": "2023-05-15T17:16:58.093747Z",
     "start_time": "2023-05-15T17:16:57.995738Z"
    }
   }
  },
  {
   "cell_type": "code",
   "execution_count": 453,
   "outputs": [],
   "source": [
    "from sklearn.cluster import KMeans\n",
    "\n",
    "kmeans = KMeans(n_clusters=4, random_state=42)\n",
    "\n",
    "kmeans.fit(X)\n",
    "\n",
    "clusters = kmeans.labels_"
   ],
   "metadata": {
    "collapsed": false,
    "ExecuteTime": {
     "end_time": "2023-05-15T17:16:58.093992Z",
     "start_time": "2023-05-15T17:16:58.001247Z"
    }
   }
  },
  {
   "cell_type": "code",
   "execution_count": 454,
   "outputs": [],
   "source": [
    "from sklearn.decomposition import PCA\n",
    "\n",
    "pca = PCA(n_components=4, random_state=42)\n",
    "\n",
    "reduced_features = pca.fit_transform(X.toarray())\n",
    "\n",
    "x0 = reduced_features[:, 0]\n",
    "x1 = reduced_features[:, 1]"
   ],
   "metadata": {
    "collapsed": false,
    "ExecuteTime": {
     "end_time": "2023-05-15T17:16:58.094055Z",
     "start_time": "2023-05-15T17:16:58.059579Z"
    }
   }
  },
  {
   "cell_type": "code",
   "execution_count": 455,
   "outputs": [],
   "source": [
    "moduleDF['cluster'] = clusters\n",
    "moduleDF['x0'] = x0\n",
    "moduleDF['x1'] = x1"
   ],
   "metadata": {
    "collapsed": false,
    "ExecuteTime": {
     "end_time": "2023-05-15T17:16:58.117240Z",
     "start_time": "2023-05-15T17:16:58.070511Z"
    }
   }
  },
  {
   "cell_type": "code",
   "execution_count": 456,
   "outputs": [
    {
     "data": {
      "text/plain": "                          id  hours  \\\n0   644827afc3faa4c9ea96a800  0.750   \n1   64496079d5fb014e40d5ea39  1.500   \n2   644960add5fb014e40d5ea3a  2.000   \n3   644960bcd5fb014e40d5ea3b  0.500   \n4   64496111d5fb014e40d5ea3c  2.250   \n5   645117a52a4785d4b779975d  0.250   \n6   645117b32a4785d4b779975e  0.200   \n7   645117bf2a4785d4b779975f  0.300   \n8   645117ca2a4785d4b7799760  0.275   \n9   64511ab2f9ce74323575fff7  0.300   \n10  64511acbf9ce74323575fff8  0.300   \n11  64511ad2f9ce74323575fff9  0.300   \n12  64511aeaf9ce74323575fffa  0.300   \n13  64511af8f9ce74323575fffb  0.300   \n14  64511b07f9ce74323575fffc  0.300   \n15  64511f49f9ce74323575fffe  0.300   \n16  64511f4bf9ce74323575ffff  0.300   \n17  64511f58f9ce743235760000  0.300   \n\n                                              feature  \\\n0   Linear Regression Linear Regression Correlatio...   \n1   Statistical Analysis Statistical Analysis Desc...   \n2   Logarithms Logarithms Exponential Functions Lo...   \n3   Arithmetics Arithmetic Operations Addition Sub...   \n4   Euclidean distance Euclidean Distance Distance...   \n5   Introduction Operational Research Optimization...   \n6   Definition, History, and Applications Linear P...   \n7   Operational Research Modeling Data Envelopment...   \n8   Break-Even Analysis Break-Even Analysis Cost-V...   \n9   Linear Programming (LP) Modeling Linear Progra...   \n10  LP Model Formulation Example Integer Programmi...   \n11  Graphical Method for LP {Maximization} Linear ...   \n12  Graphical Method for LP {Minimization} Linear ...   \n13  Irregular Types of LP Problems Transportation ...   \n14  Introduction Linear Programming Modeling Graph...   \n15  Introduction Linear Programming Modeling Compu...   \n16  Computer Solutions for LP Formulations Linear ...   \n17  Sensitivity Analysis for LP Models Network Flo...   \n\n                                      cleaned_feature  \\\n0   linear regression linear regression correlatio...   \n1   statistical analysis statistical analysis desc...   \n2   logarithms logarithms exponential functions lo...   \n3   arithmetics arithmetic operations addition sub...   \n4   euclidean distance euclidean distance distance...   \n5   introduction operational research optimization...   \n6   definition history applications linear program...   \n7   operational research modeling data envelopment...   \n8   breakeven analysis breakeven analysis costvolu...   \n9   linear programming modeling linear programming...   \n10  model formulation example integer programming ...   \n11  graphical method maximization linear programmi...   \n12  graphical method minimization linear programmi...   \n13  irregular types problems transportation proble...   \n14  introduction linear programming modeling graph...   \n15  introduction linear programming modeling compu...   \n16  computer solutions formulations linear program...   \n17  sensitivity analysis models network flow model...   \n\n                                               tokens  cluster        x0  \\\n0   linear regression linear regression correlatio...        2 -0.377338   \n1   statistical analysis statistical analysis desc...        2 -0.472510   \n2   logarithms logarithms exponential functions lo...        2 -0.335508   \n3   arithmetics arithmetic operations addition sub...        2 -0.374647   \n4   euclidean distance euclidean distance distance...        1 -0.309091   \n5   introduction operational research optimization...        0 -0.031377   \n6   definition history applications linear program...        0  0.332262   \n7   operational research modeling data envelopment...        0 -0.155879   \n8   breakeven analysis breakeven analysis costvolu...        0 -0.228095   \n9   linear programming modeling linear programming...        0 -0.049912   \n10  model formulation example integer programming ...        0  0.104040   \n11  graphical method maximization linear programmi...        3  0.622493   \n12  graphical method minimization linear programmi...        3  0.624720   \n13  irregular types problems transportation proble...        0  0.178450   \n14  introduction linear programming modeling graph...        3  0.375389   \n15  introduction linear programming modeling compu...        0  0.142655   \n16  computer solutions formulations linear program...        0  0.015284   \n17  sensitivity analysis models network flow model...        0 -0.060936   \n\n          x1  \n0   0.402495  \n1   0.425388  \n2   0.157775  \n3   0.212148  \n4   0.030238  \n5  -0.371911  \n6  -0.086250  \n7  -0.329160  \n8  -0.014310  \n9  -0.359699  \n10 -0.191313  \n11  0.412428  \n12  0.412493  \n13 -0.145623  \n14 -0.051902  \n15 -0.112250  \n16 -0.232721  \n17 -0.157826  ",
      "text/html": "<div>\n<style scoped>\n    .dataframe tbody tr th:only-of-type {\n        vertical-align: middle;\n    }\n\n    .dataframe tbody tr th {\n        vertical-align: top;\n    }\n\n    .dataframe thead th {\n        text-align: right;\n    }\n</style>\n<table border=\"1\" class=\"dataframe\">\n  <thead>\n    <tr style=\"text-align: right;\">\n      <th></th>\n      <th>id</th>\n      <th>hours</th>\n      <th>feature</th>\n      <th>cleaned_feature</th>\n      <th>tokens</th>\n      <th>cluster</th>\n      <th>x0</th>\n      <th>x1</th>\n    </tr>\n  </thead>\n  <tbody>\n    <tr>\n      <th>0</th>\n      <td>644827afc3faa4c9ea96a800</td>\n      <td>0.750</td>\n      <td>Linear Regression Linear Regression Correlatio...</td>\n      <td>linear regression linear regression correlatio...</td>\n      <td>linear regression linear regression correlatio...</td>\n      <td>2</td>\n      <td>-0.377338</td>\n      <td>0.402495</td>\n    </tr>\n    <tr>\n      <th>1</th>\n      <td>64496079d5fb014e40d5ea39</td>\n      <td>1.500</td>\n      <td>Statistical Analysis Statistical Analysis Desc...</td>\n      <td>statistical analysis statistical analysis desc...</td>\n      <td>statistical analysis statistical analysis desc...</td>\n      <td>2</td>\n      <td>-0.472510</td>\n      <td>0.425388</td>\n    </tr>\n    <tr>\n      <th>2</th>\n      <td>644960add5fb014e40d5ea3a</td>\n      <td>2.000</td>\n      <td>Logarithms Logarithms Exponential Functions Lo...</td>\n      <td>logarithms logarithms exponential functions lo...</td>\n      <td>logarithms logarithms exponential functions lo...</td>\n      <td>2</td>\n      <td>-0.335508</td>\n      <td>0.157775</td>\n    </tr>\n    <tr>\n      <th>3</th>\n      <td>644960bcd5fb014e40d5ea3b</td>\n      <td>0.500</td>\n      <td>Arithmetics Arithmetic Operations Addition Sub...</td>\n      <td>arithmetics arithmetic operations addition sub...</td>\n      <td>arithmetics arithmetic operations addition sub...</td>\n      <td>2</td>\n      <td>-0.374647</td>\n      <td>0.212148</td>\n    </tr>\n    <tr>\n      <th>4</th>\n      <td>64496111d5fb014e40d5ea3c</td>\n      <td>2.250</td>\n      <td>Euclidean distance Euclidean Distance Distance...</td>\n      <td>euclidean distance euclidean distance distance...</td>\n      <td>euclidean distance euclidean distance distance...</td>\n      <td>1</td>\n      <td>-0.309091</td>\n      <td>0.030238</td>\n    </tr>\n    <tr>\n      <th>5</th>\n      <td>645117a52a4785d4b779975d</td>\n      <td>0.250</td>\n      <td>Introduction Operational Research Optimization...</td>\n      <td>introduction operational research optimization...</td>\n      <td>introduction operational research optimization...</td>\n      <td>0</td>\n      <td>-0.031377</td>\n      <td>-0.371911</td>\n    </tr>\n    <tr>\n      <th>6</th>\n      <td>645117b32a4785d4b779975e</td>\n      <td>0.200</td>\n      <td>Definition, History, and Applications Linear P...</td>\n      <td>definition history applications linear program...</td>\n      <td>definition history applications linear program...</td>\n      <td>0</td>\n      <td>0.332262</td>\n      <td>-0.086250</td>\n    </tr>\n    <tr>\n      <th>7</th>\n      <td>645117bf2a4785d4b779975f</td>\n      <td>0.300</td>\n      <td>Operational Research Modeling Data Envelopment...</td>\n      <td>operational research modeling data envelopment...</td>\n      <td>operational research modeling data envelopment...</td>\n      <td>0</td>\n      <td>-0.155879</td>\n      <td>-0.329160</td>\n    </tr>\n    <tr>\n      <th>8</th>\n      <td>645117ca2a4785d4b7799760</td>\n      <td>0.275</td>\n      <td>Break-Even Analysis Break-Even Analysis Cost-V...</td>\n      <td>breakeven analysis breakeven analysis costvolu...</td>\n      <td>breakeven analysis breakeven analysis costvolu...</td>\n      <td>0</td>\n      <td>-0.228095</td>\n      <td>-0.014310</td>\n    </tr>\n    <tr>\n      <th>9</th>\n      <td>64511ab2f9ce74323575fff7</td>\n      <td>0.300</td>\n      <td>Linear Programming (LP) Modeling Linear Progra...</td>\n      <td>linear programming modeling linear programming...</td>\n      <td>linear programming modeling linear programming...</td>\n      <td>0</td>\n      <td>-0.049912</td>\n      <td>-0.359699</td>\n    </tr>\n    <tr>\n      <th>10</th>\n      <td>64511acbf9ce74323575fff8</td>\n      <td>0.300</td>\n      <td>LP Model Formulation Example Integer Programmi...</td>\n      <td>model formulation example integer programming ...</td>\n      <td>model formulation example integer programming ...</td>\n      <td>0</td>\n      <td>0.104040</td>\n      <td>-0.191313</td>\n    </tr>\n    <tr>\n      <th>11</th>\n      <td>64511ad2f9ce74323575fff9</td>\n      <td>0.300</td>\n      <td>Graphical Method for LP {Maximization} Linear ...</td>\n      <td>graphical method maximization linear programmi...</td>\n      <td>graphical method maximization linear programmi...</td>\n      <td>3</td>\n      <td>0.622493</td>\n      <td>0.412428</td>\n    </tr>\n    <tr>\n      <th>12</th>\n      <td>64511aeaf9ce74323575fffa</td>\n      <td>0.300</td>\n      <td>Graphical Method for LP {Minimization} Linear ...</td>\n      <td>graphical method minimization linear programmi...</td>\n      <td>graphical method minimization linear programmi...</td>\n      <td>3</td>\n      <td>0.624720</td>\n      <td>0.412493</td>\n    </tr>\n    <tr>\n      <th>13</th>\n      <td>64511af8f9ce74323575fffb</td>\n      <td>0.300</td>\n      <td>Irregular Types of LP Problems Transportation ...</td>\n      <td>irregular types problems transportation proble...</td>\n      <td>irregular types problems transportation proble...</td>\n      <td>0</td>\n      <td>0.178450</td>\n      <td>-0.145623</td>\n    </tr>\n    <tr>\n      <th>14</th>\n      <td>64511b07f9ce74323575fffc</td>\n      <td>0.300</td>\n      <td>Introduction Linear Programming Modeling Graph...</td>\n      <td>introduction linear programming modeling graph...</td>\n      <td>introduction linear programming modeling graph...</td>\n      <td>3</td>\n      <td>0.375389</td>\n      <td>-0.051902</td>\n    </tr>\n    <tr>\n      <th>15</th>\n      <td>64511f49f9ce74323575fffe</td>\n      <td>0.300</td>\n      <td>Introduction Linear Programming Modeling Compu...</td>\n      <td>introduction linear programming modeling compu...</td>\n      <td>introduction linear programming modeling compu...</td>\n      <td>0</td>\n      <td>0.142655</td>\n      <td>-0.112250</td>\n    </tr>\n    <tr>\n      <th>16</th>\n      <td>64511f4bf9ce74323575ffff</td>\n      <td>0.300</td>\n      <td>Computer Solutions for LP Formulations Linear ...</td>\n      <td>computer solutions formulations linear program...</td>\n      <td>computer solutions formulations linear program...</td>\n      <td>0</td>\n      <td>0.015284</td>\n      <td>-0.232721</td>\n    </tr>\n    <tr>\n      <th>17</th>\n      <td>64511f58f9ce743235760000</td>\n      <td>0.300</td>\n      <td>Sensitivity Analysis for LP Models Network Flo...</td>\n      <td>sensitivity analysis models network flow model...</td>\n      <td>sensitivity analysis models network flow model...</td>\n      <td>0</td>\n      <td>-0.060936</td>\n      <td>-0.157826</td>\n    </tr>\n  </tbody>\n</table>\n</div>"
     },
     "execution_count": 456,
     "metadata": {},
     "output_type": "execute_result"
    }
   ],
   "source": [
    "moduleDF.head(18)"
   ],
   "metadata": {
    "collapsed": false,
    "ExecuteTime": {
     "end_time": "2023-05-15T17:16:58.244625Z",
     "start_time": "2023-05-15T17:16:58.089272Z"
    }
   }
  },
  {
   "cell_type": "code",
   "execution_count": 457,
   "outputs": [
    {
     "name": "stdout",
     "output_type": "stream",
     "text": [
      "\n",
      "Cluster 0\n",
      "method,problems,analysis,models,programming\n",
      "\n",
      "Cluster 1\n",
      "spaces,pythagorean,space,euclidean,distance\n",
      "\n",
      "Cluster 2\n",
      "designed,activities,statistical,regression,students\n",
      "\n",
      "Cluster 3\n",
      "problem,function,method,variables,graphical\n"
     ]
    }
   ],
   "source": [
    "def get_top_keywords(n_terms):\n",
    "    \"\"\"This function returns the keywords for each centroid of the KMeans\"\"\"\n",
    "    df = pd.DataFrame(X.todense()).groupby(clusters).mean() # groups the TF-IDF vector by cluster\n",
    "    terms = vectorizer.get_feature_names_out() # access tf-idf terms\n",
    "    for i,r in df.iterrows():\n",
    "        print('\\nCluster {}'.format(i))\n",
    "        print(','.join([terms[t] for t in np.argsort(r)[-n_terms:]])) # for each row of the dataframe, find the n terms that have the highest tf idf score\n",
    "\n",
    "get_top_keywords(5)"
   ],
   "metadata": {
    "collapsed": false,
    "ExecuteTime": {
     "end_time": "2023-05-15T17:16:58.255281Z",
     "start_time": "2023-05-15T17:16:58.099262Z"
    }
   }
  },
  {
   "cell_type": "code",
   "execution_count": 458,
   "outputs": [],
   "source": [
    "cluster_map = {\n",
    "    0: 'Mathematics',\n",
    "    1: 'Operational Research',\n",
    "    2: 'Linear Programming Model Formulation and Graphical Solutions',\n",
    "    3: 'Computer Solutions for Linear Programming Formulation'\n",
    "}\n",
    "\n",
    "moduleDF['cluster'] = moduleDF['cluster'].map(cluster_map)"
   ],
   "metadata": {
    "collapsed": false,
    "ExecuteTime": {
     "end_time": "2023-05-15T17:16:58.255444Z",
     "start_time": "2023-05-15T17:16:58.106754Z"
    }
   }
  },
  {
   "cell_type": "code",
   "execution_count": 459,
   "outputs": [
    {
     "data": {
      "text/plain": "                          id  hours  \\\n0   644827afc3faa4c9ea96a800  0.750   \n1   64496079d5fb014e40d5ea39  1.500   \n2   644960add5fb014e40d5ea3a  2.000   \n3   644960bcd5fb014e40d5ea3b  0.500   \n4   64496111d5fb014e40d5ea3c  2.250   \n5   645117a52a4785d4b779975d  0.250   \n6   645117b32a4785d4b779975e  0.200   \n7   645117bf2a4785d4b779975f  0.300   \n8   645117ca2a4785d4b7799760  0.275   \n9   64511ab2f9ce74323575fff7  0.300   \n10  64511acbf9ce74323575fff8  0.300   \n11  64511ad2f9ce74323575fff9  0.300   \n12  64511aeaf9ce74323575fffa  0.300   \n13  64511af8f9ce74323575fffb  0.300   \n14  64511b07f9ce74323575fffc  0.300   \n15  64511f49f9ce74323575fffe  0.300   \n16  64511f4bf9ce74323575ffff  0.300   \n17  64511f58f9ce743235760000  0.300   \n\n                                              feature  \\\n0   Linear Regression Linear Regression Correlatio...   \n1   Statistical Analysis Statistical Analysis Desc...   \n2   Logarithms Logarithms Exponential Functions Lo...   \n3   Arithmetics Arithmetic Operations Addition Sub...   \n4   Euclidean distance Euclidean Distance Distance...   \n5   Introduction Operational Research Optimization...   \n6   Definition, History, and Applications Linear P...   \n7   Operational Research Modeling Data Envelopment...   \n8   Break-Even Analysis Break-Even Analysis Cost-V...   \n9   Linear Programming (LP) Modeling Linear Progra...   \n10  LP Model Formulation Example Integer Programmi...   \n11  Graphical Method for LP {Maximization} Linear ...   \n12  Graphical Method for LP {Minimization} Linear ...   \n13  Irregular Types of LP Problems Transportation ...   \n14  Introduction Linear Programming Modeling Graph...   \n15  Introduction Linear Programming Modeling Compu...   \n16  Computer Solutions for LP Formulations Linear ...   \n17  Sensitivity Analysis for LP Models Network Flo...   \n\n                                      cleaned_feature  \\\n0   linear regression linear regression correlatio...   \n1   statistical analysis statistical analysis desc...   \n2   logarithms logarithms exponential functions lo...   \n3   arithmetics arithmetic operations addition sub...   \n4   euclidean distance euclidean distance distance...   \n5   introduction operational research optimization...   \n6   definition history applications linear program...   \n7   operational research modeling data envelopment...   \n8   breakeven analysis breakeven analysis costvolu...   \n9   linear programming modeling linear programming...   \n10  model formulation example integer programming ...   \n11  graphical method maximization linear programmi...   \n12  graphical method minimization linear programmi...   \n13  irregular types problems transportation proble...   \n14  introduction linear programming modeling graph...   \n15  introduction linear programming modeling compu...   \n16  computer solutions formulations linear program...   \n17  sensitivity analysis models network flow model...   \n\n                                               tokens  \\\n0   linear regression linear regression correlatio...   \n1   statistical analysis statistical analysis desc...   \n2   logarithms logarithms exponential functions lo...   \n3   arithmetics arithmetic operations addition sub...   \n4   euclidean distance euclidean distance distance...   \n5   introduction operational research optimization...   \n6   definition history applications linear program...   \n7   operational research modeling data envelopment...   \n8   breakeven analysis breakeven analysis costvolu...   \n9   linear programming modeling linear programming...   \n10  model formulation example integer programming ...   \n11  graphical method maximization linear programmi...   \n12  graphical method minimization linear programmi...   \n13  irregular types problems transportation proble...   \n14  introduction linear programming modeling graph...   \n15  introduction linear programming modeling compu...   \n16  computer solutions formulations linear program...   \n17  sensitivity analysis models network flow model...   \n\n                                              cluster        x0        x1  \n0   Linear Programming Model Formulation and Graph... -0.377338  0.402495  \n1   Linear Programming Model Formulation and Graph... -0.472510  0.425388  \n2   Linear Programming Model Formulation and Graph... -0.335508  0.157775  \n3   Linear Programming Model Formulation and Graph... -0.374647  0.212148  \n4                                Operational Research -0.309091  0.030238  \n5                                         Mathematics -0.031377 -0.371911  \n6                                         Mathematics  0.332262 -0.086250  \n7                                         Mathematics -0.155879 -0.329160  \n8                                         Mathematics -0.228095 -0.014310  \n9                                         Mathematics -0.049912 -0.359699  \n10                                        Mathematics  0.104040 -0.191313  \n11  Computer Solutions for Linear Programming Form...  0.622493  0.412428  \n12  Computer Solutions for Linear Programming Form...  0.624720  0.412493  \n13                                        Mathematics  0.178450 -0.145623  \n14  Computer Solutions for Linear Programming Form...  0.375389 -0.051902  \n15                                        Mathematics  0.142655 -0.112250  \n16                                        Mathematics  0.015284 -0.232721  \n17                                        Mathematics -0.060936 -0.157826  ",
      "text/html": "<div>\n<style scoped>\n    .dataframe tbody tr th:only-of-type {\n        vertical-align: middle;\n    }\n\n    .dataframe tbody tr th {\n        vertical-align: top;\n    }\n\n    .dataframe thead th {\n        text-align: right;\n    }\n</style>\n<table border=\"1\" class=\"dataframe\">\n  <thead>\n    <tr style=\"text-align: right;\">\n      <th></th>\n      <th>id</th>\n      <th>hours</th>\n      <th>feature</th>\n      <th>cleaned_feature</th>\n      <th>tokens</th>\n      <th>cluster</th>\n      <th>x0</th>\n      <th>x1</th>\n    </tr>\n  </thead>\n  <tbody>\n    <tr>\n      <th>0</th>\n      <td>644827afc3faa4c9ea96a800</td>\n      <td>0.750</td>\n      <td>Linear Regression Linear Regression Correlatio...</td>\n      <td>linear regression linear regression correlatio...</td>\n      <td>linear regression linear regression correlatio...</td>\n      <td>Linear Programming Model Formulation and Graph...</td>\n      <td>-0.377338</td>\n      <td>0.402495</td>\n    </tr>\n    <tr>\n      <th>1</th>\n      <td>64496079d5fb014e40d5ea39</td>\n      <td>1.500</td>\n      <td>Statistical Analysis Statistical Analysis Desc...</td>\n      <td>statistical analysis statistical analysis desc...</td>\n      <td>statistical analysis statistical analysis desc...</td>\n      <td>Linear Programming Model Formulation and Graph...</td>\n      <td>-0.472510</td>\n      <td>0.425388</td>\n    </tr>\n    <tr>\n      <th>2</th>\n      <td>644960add5fb014e40d5ea3a</td>\n      <td>2.000</td>\n      <td>Logarithms Logarithms Exponential Functions Lo...</td>\n      <td>logarithms logarithms exponential functions lo...</td>\n      <td>logarithms logarithms exponential functions lo...</td>\n      <td>Linear Programming Model Formulation and Graph...</td>\n      <td>-0.335508</td>\n      <td>0.157775</td>\n    </tr>\n    <tr>\n      <th>3</th>\n      <td>644960bcd5fb014e40d5ea3b</td>\n      <td>0.500</td>\n      <td>Arithmetics Arithmetic Operations Addition Sub...</td>\n      <td>arithmetics arithmetic operations addition sub...</td>\n      <td>arithmetics arithmetic operations addition sub...</td>\n      <td>Linear Programming Model Formulation and Graph...</td>\n      <td>-0.374647</td>\n      <td>0.212148</td>\n    </tr>\n    <tr>\n      <th>4</th>\n      <td>64496111d5fb014e40d5ea3c</td>\n      <td>2.250</td>\n      <td>Euclidean distance Euclidean Distance Distance...</td>\n      <td>euclidean distance euclidean distance distance...</td>\n      <td>euclidean distance euclidean distance distance...</td>\n      <td>Operational Research</td>\n      <td>-0.309091</td>\n      <td>0.030238</td>\n    </tr>\n    <tr>\n      <th>5</th>\n      <td>645117a52a4785d4b779975d</td>\n      <td>0.250</td>\n      <td>Introduction Operational Research Optimization...</td>\n      <td>introduction operational research optimization...</td>\n      <td>introduction operational research optimization...</td>\n      <td>Mathematics</td>\n      <td>-0.031377</td>\n      <td>-0.371911</td>\n    </tr>\n    <tr>\n      <th>6</th>\n      <td>645117b32a4785d4b779975e</td>\n      <td>0.200</td>\n      <td>Definition, History, and Applications Linear P...</td>\n      <td>definition history applications linear program...</td>\n      <td>definition history applications linear program...</td>\n      <td>Mathematics</td>\n      <td>0.332262</td>\n      <td>-0.086250</td>\n    </tr>\n    <tr>\n      <th>7</th>\n      <td>645117bf2a4785d4b779975f</td>\n      <td>0.300</td>\n      <td>Operational Research Modeling Data Envelopment...</td>\n      <td>operational research modeling data envelopment...</td>\n      <td>operational research modeling data envelopment...</td>\n      <td>Mathematics</td>\n      <td>-0.155879</td>\n      <td>-0.329160</td>\n    </tr>\n    <tr>\n      <th>8</th>\n      <td>645117ca2a4785d4b7799760</td>\n      <td>0.275</td>\n      <td>Break-Even Analysis Break-Even Analysis Cost-V...</td>\n      <td>breakeven analysis breakeven analysis costvolu...</td>\n      <td>breakeven analysis breakeven analysis costvolu...</td>\n      <td>Mathematics</td>\n      <td>-0.228095</td>\n      <td>-0.014310</td>\n    </tr>\n    <tr>\n      <th>9</th>\n      <td>64511ab2f9ce74323575fff7</td>\n      <td>0.300</td>\n      <td>Linear Programming (LP) Modeling Linear Progra...</td>\n      <td>linear programming modeling linear programming...</td>\n      <td>linear programming modeling linear programming...</td>\n      <td>Mathematics</td>\n      <td>-0.049912</td>\n      <td>-0.359699</td>\n    </tr>\n    <tr>\n      <th>10</th>\n      <td>64511acbf9ce74323575fff8</td>\n      <td>0.300</td>\n      <td>LP Model Formulation Example Integer Programmi...</td>\n      <td>model formulation example integer programming ...</td>\n      <td>model formulation example integer programming ...</td>\n      <td>Mathematics</td>\n      <td>0.104040</td>\n      <td>-0.191313</td>\n    </tr>\n    <tr>\n      <th>11</th>\n      <td>64511ad2f9ce74323575fff9</td>\n      <td>0.300</td>\n      <td>Graphical Method for LP {Maximization} Linear ...</td>\n      <td>graphical method maximization linear programmi...</td>\n      <td>graphical method maximization linear programmi...</td>\n      <td>Computer Solutions for Linear Programming Form...</td>\n      <td>0.622493</td>\n      <td>0.412428</td>\n    </tr>\n    <tr>\n      <th>12</th>\n      <td>64511aeaf9ce74323575fffa</td>\n      <td>0.300</td>\n      <td>Graphical Method for LP {Minimization} Linear ...</td>\n      <td>graphical method minimization linear programmi...</td>\n      <td>graphical method minimization linear programmi...</td>\n      <td>Computer Solutions for Linear Programming Form...</td>\n      <td>0.624720</td>\n      <td>0.412493</td>\n    </tr>\n    <tr>\n      <th>13</th>\n      <td>64511af8f9ce74323575fffb</td>\n      <td>0.300</td>\n      <td>Irregular Types of LP Problems Transportation ...</td>\n      <td>irregular types problems transportation proble...</td>\n      <td>irregular types problems transportation proble...</td>\n      <td>Mathematics</td>\n      <td>0.178450</td>\n      <td>-0.145623</td>\n    </tr>\n    <tr>\n      <th>14</th>\n      <td>64511b07f9ce74323575fffc</td>\n      <td>0.300</td>\n      <td>Introduction Linear Programming Modeling Graph...</td>\n      <td>introduction linear programming modeling graph...</td>\n      <td>introduction linear programming modeling graph...</td>\n      <td>Computer Solutions for Linear Programming Form...</td>\n      <td>0.375389</td>\n      <td>-0.051902</td>\n    </tr>\n    <tr>\n      <th>15</th>\n      <td>64511f49f9ce74323575fffe</td>\n      <td>0.300</td>\n      <td>Introduction Linear Programming Modeling Compu...</td>\n      <td>introduction linear programming modeling compu...</td>\n      <td>introduction linear programming modeling compu...</td>\n      <td>Mathematics</td>\n      <td>0.142655</td>\n      <td>-0.112250</td>\n    </tr>\n    <tr>\n      <th>16</th>\n      <td>64511f4bf9ce74323575ffff</td>\n      <td>0.300</td>\n      <td>Computer Solutions for LP Formulations Linear ...</td>\n      <td>computer solutions formulations linear program...</td>\n      <td>computer solutions formulations linear program...</td>\n      <td>Mathematics</td>\n      <td>0.015284</td>\n      <td>-0.232721</td>\n    </tr>\n    <tr>\n      <th>17</th>\n      <td>64511f58f9ce743235760000</td>\n      <td>0.300</td>\n      <td>Sensitivity Analysis for LP Models Network Flo...</td>\n      <td>sensitivity analysis models network flow model...</td>\n      <td>sensitivity analysis models network flow model...</td>\n      <td>Mathematics</td>\n      <td>-0.060936</td>\n      <td>-0.157826</td>\n    </tr>\n  </tbody>\n</table>\n</div>"
     },
     "execution_count": 459,
     "metadata": {},
     "output_type": "execute_result"
    }
   ],
   "source": [
    "moduleDF.head(18)"
   ],
   "metadata": {
    "collapsed": false,
    "ExecuteTime": {
     "end_time": "2023-05-15T17:16:58.348673Z",
     "start_time": "2023-05-15T17:16:58.122829Z"
    }
   }
  },
  {
   "cell_type": "code",
   "execution_count": 461,
   "outputs": [
    {
     "data": {
      "text/plain": "<Figure size 1200x700 with 1 Axes>",
      "image/png": "[encoded data removed]"
     },
     "metadata": {},
     "output_type": "display_data"
    }
   ],
   "source": [
    "from matplotlib import pyplot as plt\n",
    "import seaborn as sns\n",
    "\n",
    "# set image size\n",
    "plt.figure(figsize=(12, 7))\n",
    "# set a title\n",
    "plt.title(\"TF-IDF + KMeans clustering\", fontdict={\"fontsize\": 18})\n",
    "# set axes names\n",
    "plt.xlabel(\"X0\", fontdict={\"fontsize\": 16})\n",
    "plt.ylabel(\"X1\", fontdict={\"fontsize\": 16})\n",
    "# create scatter plot with seaborn, where hue is the class used to group the data\n",
    "sns.scatterplot(data=moduleDF, x='x0', y='x1', hue='cluster', palette=\"tab10\")\n",
    "plt.show()"
   ],
   "metadata": {
    "collapsed": false,
    "ExecuteTime": {
     "end_time": "2023-05-15T17:18:03.534133Z",
     "start_time": "2023-05-15T17:18:03.329636Z"
    }
   }
  },
  {
   "cell_type": "code",
   "execution_count": 463,
   "outputs": [
    {
     "data": {
      "text/plain": "cluster\nComputer Solutions for Linear Programming Formulation           0.900\nLinear Programming Model Formulation and Graphical Solutions    4.750\nMathematics                                                     2.825\nOperational Research                                            2.250\nName: hours, dtype: float64"
     },
     "execution_count": 463,
     "metadata": {},
     "output_type": "execute_result"
    }
   ],
   "source": [
    "# sum the number of hours for each cluster\n",
    "moduleDF.groupby('cluster')['hours'].sum()"
   ],
   "metadata": {
    "collapsed": false,
    "ExecuteTime": {
     "end_time": "2023-05-15T17:20:08.415101Z",
     "start_time": "2023-05-15T17:20:08.411833Z"
    }
   }
  },
  {
   "cell_type": "code",
   "execution_count": null,
   "outputs": [],
   "source": [],
   "metadata": {
    "collapsed": false
   }
  }
 ],
 "metadata": {
  "kernelspec": {
   "display_name": "Python 3",
   "language": "python",
   "name": "python3"
  },
  "language_info": {
   "codemirror_mode": {
    "name": "ipython",
    "version": 2
   },
   "file_extension": ".py",
   "mimetype": "text/x-python",
   "name": "python",
   "nbconvert_exporter": "python",
   "pygments_lexer": "ipython2",
   "version": "2.7.6"
  }
 },
 "nbformat": 4,
 "nbformat_minor": 0
}
