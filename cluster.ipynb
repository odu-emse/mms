{
 "cells": [
  {
   "cell_type": "code",
   "execution_count": 111,
   "metadata": {
    "collapsed": true,
    "ExecuteTime": {
     "end_time": "2023-05-25T18:07:11.607120Z",
     "start_time": "2023-05-25T18:07:11.579069Z"
    }
   },
   "outputs": [],
   "source": [
    "import numpy as np\n",
    "import requests\n",
    "import pandas as pd\n",
    "import nltk\n",
    "from nltk import word_tokenize\n",
    "from nltk.stem import PorterStemmer\n",
    "from sklearn.feature_extraction.text import CountVectorizer\n",
    "from sklearn.feature_extraction.text import TfidfVectorizer\n",
    "from sklearn.metrics import silhouette_score\n",
    "from nltk.corpus import stopwords\n",
    "from matplotlib import pyplot as plt\n",
    "import seaborn as sns\n",
    "cv = CountVectorizer()\n",
    "# nltk.download(\"stopwords\")\n",
    "# nltk.download('punkt')\n",
    "stop_words = set(stopwords.words(\"english\"))\n",
    "\n",
    "# stop_words.add('module')\n",
    "# stop_words.add('section')\n",
    "# stop_words.add('learning')\n",
    "# stop_words.add('objective')\n",
    "# stop_words.add('description')\n",
    "# stop_words.add('instructor')\n",
    "# stop_words.add('lp')\n",
    "stop_words.add('also')\n",
    "stop_words.add('understanding')\n",
    "stop_words.add('end')\n",
    "stop_words.add('youll')\n",
    "stop_words.add('well')\n",
    "stop_words.add('include')\n",
    "stop_words.add('time')\n",
    "stop_words.add('goal')\n",
    "stop_words.add('path')\n",
    "# stop_words.add('problem')\n",
    "stop_words.add('total')\n",
    "stop_words.add('go')\n",
    "stop_words.add('students')\n",
    "stop_words.add('use')\n",
    "stop_words.add('using')\n",
    "stop_words.add('new')\n",
    "# stop_words.add('assignment')\n",
    "stop_words.add('job')\n",
    "stop_words.add('term')\n",
    "# stop_words.add('project')\n",
    "stop_words.add('find')\n",
    "stop_words.add('example')\n",
    "# stop_words.add('solution')\n",
    "stop_words.add('non')\n",
    "# stop_words.add('resource')\n",
    "stop_words.add('finally')\n",
    "stop_words.add('times')\n",
    "stop_words.add('learn')\n",
    "# stop_words.add('activity')\n",
    "stop_words.add('two')\n",
    "stop_words.add('field')\n",
    "stop_words.add('tools')\n",
    "stop_words.add('often')\n",
    "# stop_words.add('discuss')\n",
    "stop_words.add('use')\n",
    "stop_words.add('tip')\n",
    "stop_words.add('next')"
   ]
  },
  {
   "cell_type": "code",
   "execution_count": 112,
   "outputs": [],
   "source": [
    "url = 'http://localhost:4000/graphql'"
   ],
   "metadata": {
    "collapsed": false,
    "ExecuteTime": {
     "end_time": "2023-05-25T18:07:11.622393Z",
     "start_time": "2023-05-25T18:07:11.582768Z"
    }
   }
  },
  {
   "cell_type": "markdown",
   "source": [
    "# Data collection\n",
    "Get all the modules in the DB and convert it to a dataframe"
   ],
   "metadata": {
    "collapsed": false
   }
  },
  {
   "cell_type": "code",
   "execution_count": 113,
   "outputs": [],
   "source": [
    "# moduleData = requests.post(url, json={'query': '{ module(input:{}){id, name, prefix, hours, objectives, description, keywords} }'}).json()\n",
    "\n",
    "# load module data from json file\n",
    "import json\n",
    "with open('input/603_gpt.json') as json_file:\n",
    "    moduleData = json.load(json_file)\n",
    "\n",
    "# MODULE_COUNT = len(moduleData.get('data').get('module'))\n",
    "MODULE_COUNT = len(moduleData)\n",
    "CLUSTER_COUNT = np.sqrt(MODULE_COUNT)\n",
    "# CLUSTER_COUNT = 37"
   ],
   "metadata": {
    "collapsed": false,
    "ExecuteTime": {
     "end_time": "2023-05-25T18:07:11.624507Z",
     "start_time": "2023-05-25T18:07:11.585331Z"
    }
   }
  },
  {
   "cell_type": "code",
   "execution_count": 114,
   "outputs": [
    {
     "data": {
      "text/plain": "                         id                  name prefix  number  \\\n0  644827afc3faa4c9ea96a800     Linear Regression     DS      72   \n1  64496079d5fb014e40d5ea39  Statistical Analysis     DS       9   \n2  644960add5fb014e40d5ea3a            Logarithms     DS     121   \n3  644960bcd5fb014e40d5ea3b           Arithmetics     DS       2   \n4  64496111d5fb014e40d5ea3c    Euclidean distance     DS     887   \n\n                                          objectives  hours  \\\n0  [Linear Regression, Correlation, Regression An...   0.75   \n1  [Statistical Analysis, Descriptive Statistics,...   1.50   \n2  [Logarithms, Exponential Functions, Logarithmi...   2.00   \n3  [Arithmetic, Operations, Addition, Subtraction...   0.50   \n4  [Euclidean Distance, Distance Formula, Pythago...   2.25   \n\n                                         description  \\\n0  This module is designed to introduce students ...   \n1  This module is designed to teach students the ...   \n2  This module is designed to introduce students ...   \n3  This module is designed to teach students the ...   \n4  In this module, we'll be learning about the Eu...   \n\n                                            keywords  \n0  [Linear regression, Statistical technique, Mod...  \n1  [Statistical Analysis, Data Collection, Data O...  \n2  [Logarithms, Exponential equations, Problem-so...  \n3  [Arithmetic, Whole Number Operations, Fraction...  \n4  [Euclidean Distance, Mathematics, Computer Sci...  ",
      "text/html": "<div>\n<style scoped>\n    .dataframe tbody tr th:only-of-type {\n        vertical-align: middle;\n    }\n\n    .dataframe tbody tr th {\n        vertical-align: top;\n    }\n\n    .dataframe thead th {\n        text-align: right;\n    }\n</style>\n<table border=\"1\" class=\"dataframe\">\n  <thead>\n    <tr style=\"text-align: right;\">\n      <th></th>\n      <th>id</th>\n      <th>name</th>\n      <th>prefix</th>\n      <th>number</th>\n      <th>objectives</th>\n      <th>hours</th>\n      <th>description</th>\n      <th>keywords</th>\n    </tr>\n  </thead>\n  <tbody>\n    <tr>\n      <th>0</th>\n      <td>644827afc3faa4c9ea96a800</td>\n      <td>Linear Regression</td>\n      <td>DS</td>\n      <td>72</td>\n      <td>[Linear Regression, Correlation, Regression An...</td>\n      <td>0.75</td>\n      <td>This module is designed to introduce students ...</td>\n      <td>[Linear regression, Statistical technique, Mod...</td>\n    </tr>\n    <tr>\n      <th>1</th>\n      <td>64496079d5fb014e40d5ea39</td>\n      <td>Statistical Analysis</td>\n      <td>DS</td>\n      <td>9</td>\n      <td>[Statistical Analysis, Descriptive Statistics,...</td>\n      <td>1.50</td>\n      <td>This module is designed to teach students the ...</td>\n      <td>[Statistical Analysis, Data Collection, Data O...</td>\n    </tr>\n    <tr>\n      <th>2</th>\n      <td>644960add5fb014e40d5ea3a</td>\n      <td>Logarithms</td>\n      <td>DS</td>\n      <td>121</td>\n      <td>[Logarithms, Exponential Functions, Logarithmi...</td>\n      <td>2.00</td>\n      <td>This module is designed to introduce students ...</td>\n      <td>[Logarithms, Exponential equations, Problem-so...</td>\n    </tr>\n    <tr>\n      <th>3</th>\n      <td>644960bcd5fb014e40d5ea3b</td>\n      <td>Arithmetics</td>\n      <td>DS</td>\n      <td>2</td>\n      <td>[Arithmetic, Operations, Addition, Subtraction...</td>\n      <td>0.50</td>\n      <td>This module is designed to teach students the ...</td>\n      <td>[Arithmetic, Whole Number Operations, Fraction...</td>\n    </tr>\n    <tr>\n      <th>4</th>\n      <td>64496111d5fb014e40d5ea3c</td>\n      <td>Euclidean distance</td>\n      <td>DS</td>\n      <td>887</td>\n      <td>[Euclidean Distance, Distance Formula, Pythago...</td>\n      <td>2.25</td>\n      <td>In this module, we'll be learning about the Eu...</td>\n      <td>[Euclidean Distance, Mathematics, Computer Sci...</td>\n    </tr>\n  </tbody>\n</table>\n</div>"
     },
     "execution_count": 114,
     "metadata": {},
     "output_type": "execute_result"
    }
   ],
   "source": [
    "# moduleDF = pd.DataFrame(moduleData.get('data').get('module'))\n",
    "moduleDF = pd.DataFrame(moduleData)\n",
    "\n",
    "moduleDF.head()"
   ],
   "metadata": {
    "collapsed": false,
    "ExecuteTime": {
     "end_time": "2023-05-25T18:07:11.637158Z",
     "start_time": "2023-05-25T18:07:11.589763Z"
    }
   }
  },
  {
   "cell_type": "markdown",
   "source": [
    "# Verifying the sparsity of the dataset\n",
    "\n",
    "Since we have a lot of modules without a description, the results will be skewed towards the modules with a description or just overall more text content. In future works, it might be optimal to use a generative model to generate a description for the modules without one using the context clues from other features."
   ],
   "metadata": {
    "collapsed": false
   }
  },
  {
   "cell_type": "code",
   "execution_count": 115,
   "outputs": [
    {
     "data": {
      "text/plain": "Empty DataFrame\nColumns: [id, name, prefix, number, objectives, hours, description, keywords]\nIndex: []",
      "text/html": "<div>\n<style scoped>\n    .dataframe tbody tr th:only-of-type {\n        vertical-align: middle;\n    }\n\n    .dataframe tbody tr th {\n        vertical-align: top;\n    }\n\n    .dataframe thead th {\n        text-align: right;\n    }\n</style>\n<table border=\"1\" class=\"dataframe\">\n  <thead>\n    <tr style=\"text-align: right;\">\n      <th></th>\n      <th>id</th>\n      <th>name</th>\n      <th>prefix</th>\n      <th>number</th>\n      <th>objectives</th>\n      <th>hours</th>\n      <th>description</th>\n      <th>keywords</th>\n    </tr>\n  </thead>\n  <tbody>\n  </tbody>\n</table>\n</div>"
     },
     "execution_count": 115,
     "metadata": {},
     "output_type": "execute_result"
    }
   ],
   "source": [
    "moduleDF[moduleDF['description'] == '']"
   ],
   "metadata": {
    "collapsed": false,
    "ExecuteTime": {
     "end_time": "2023-05-25T18:07:11.672689Z",
     "start_time": "2023-05-25T18:07:11.607269Z"
    }
   }
  },
  {
   "cell_type": "markdown",
   "source": [
    "# Data cleaning and Feature engineering\n",
    "\n",
    "Merge all the text content into a single column for each module. This is an essential step to be able to perform the text analysis and text vectorization on the data"
   ],
   "metadata": {
    "collapsed": false
   }
  },
  {
   "cell_type": "code",
   "execution_count": 116,
   "outputs": [],
   "source": [
    "def scalar_to_str(df):\n",
    "    lst_o = list(df['objectives'])\n",
    "    lst_k = list(df['keywords'])\n",
    "\n",
    "    string_obj_feature = ''\n",
    "    string_key_feature = ''\n",
    "\n",
    "    for obj in lst_o:\n",
    "        string_obj_feature += obj + ', '\n",
    "\n",
    "    for key in lst_k:\n",
    "        string_key_feature += key + ', '\n",
    "\n",
    "    df['objectives'] = string_obj_feature\n",
    "    df['keywords'] = string_key_feature\n",
    "    return df\n",
    "\n",
    "moduleDF = moduleDF.apply(scalar_to_str, axis=1)"
   ],
   "metadata": {
    "collapsed": false,
    "ExecuteTime": {
     "end_time": "2023-05-25T18:07:11.672850Z",
     "start_time": "2023-05-25T18:07:11.607532Z"
    }
   }
  },
  {
   "cell_type": "code",
   "execution_count": 117,
   "outputs": [
    {
     "data": {
      "text/plain": "                         id true_cluster  hours  \\\n0  644827afc3faa4c9ea96a800           DS   0.75   \n1  64496079d5fb014e40d5ea39           DS   1.50   \n2  644960add5fb014e40d5ea3a           DS   2.00   \n3  644960bcd5fb014e40d5ea3b           DS   0.50   \n4  64496111d5fb014e40d5ea3c           DS   2.25   \n\n                                             feature  \n0  Linear Regression, Linear Regression, Correlat...  \n1  Statistical Analysis, Statistical Analysis, De...  \n2  Logarithms, Logarithms, Exponential Functions,...  \n3  Arithmetics, Arithmetic, Operations, Addition,...  \n4  Euclidean distance, Euclidean Distance, Distan...  ",
      "text/html": "<div>\n<style scoped>\n    .dataframe tbody tr th:only-of-type {\n        vertical-align: middle;\n    }\n\n    .dataframe tbody tr th {\n        vertical-align: top;\n    }\n\n    .dataframe thead th {\n        text-align: right;\n    }\n</style>\n<table border=\"1\" class=\"dataframe\">\n  <thead>\n    <tr style=\"text-align: right;\">\n      <th></th>\n      <th>id</th>\n      <th>true_cluster</th>\n      <th>hours</th>\n      <th>feature</th>\n    </tr>\n  </thead>\n  <tbody>\n    <tr>\n      <th>0</th>\n      <td>644827afc3faa4c9ea96a800</td>\n      <td>DS</td>\n      <td>0.75</td>\n      <td>Linear Regression, Linear Regression, Correlat...</td>\n    </tr>\n    <tr>\n      <th>1</th>\n      <td>64496079d5fb014e40d5ea39</td>\n      <td>DS</td>\n      <td>1.50</td>\n      <td>Statistical Analysis, Statistical Analysis, De...</td>\n    </tr>\n    <tr>\n      <th>2</th>\n      <td>644960add5fb014e40d5ea3a</td>\n      <td>DS</td>\n      <td>2.00</td>\n      <td>Logarithms, Logarithms, Exponential Functions,...</td>\n    </tr>\n    <tr>\n      <th>3</th>\n      <td>644960bcd5fb014e40d5ea3b</td>\n      <td>DS</td>\n      <td>0.50</td>\n      <td>Arithmetics, Arithmetic, Operations, Addition,...</td>\n    </tr>\n    <tr>\n      <th>4</th>\n      <td>64496111d5fb014e40d5ea3c</td>\n      <td>DS</td>\n      <td>2.25</td>\n      <td>Euclidean distance, Euclidean Distance, Distan...</td>\n    </tr>\n  </tbody>\n</table>\n</div>"
     },
     "execution_count": 117,
     "metadata": {},
     "output_type": "execute_result"
    }
   ],
   "source": [
    "moduleDF['feature'] = moduleDF['name'] + ', ' + moduleDF['objectives'] + ', ' + moduleDF['description'] + ', ' + moduleDF['keywords'] + ', ' + moduleDF['prefix']\n",
    "\n",
    "moduleDF.drop(['name', 'objectives', 'description', 'keywords', 'number'], axis=1, inplace=True)\n",
    "\n",
    "moduleDF.rename(columns={'prefix': 'true_cluster'}, inplace=True)\n",
    "\n",
    "moduleDF.head()"
   ],
   "metadata": {
    "collapsed": false,
    "ExecuteTime": {
     "end_time": "2023-05-25T18:07:11.672934Z",
     "start_time": "2023-05-25T18:07:11.607616Z"
    }
   }
  },
  {
   "cell_type": "code",
   "execution_count": 118,
   "outputs": [],
   "source": [
    "def _text_processing(col: pd.DataFrame()):\n",
    "    \"\"\"\n",
    "    This function takes in a column of text and performs the following:\n",
    "    1. Converts all text to lowercase\n",
    "    2. Removes all non-alphabetic characters\n",
    "    3. Removes stop words\n",
    "    5. returns the column\n",
    "    \"\"\"\n",
    "    column = col.str.lower()\n",
    "    column = column.str.replace(\"[^a-z ]\", \"\")\n",
    "\n",
    "    word_tokens = column.str.split()\n",
    "    keys = word_tokens.apply(\n",
    "        lambda x: [item for item in x if item not in stop_words]\n",
    "    )\n",
    "    for j in range(len(keys)):\n",
    "        keys[j] = \" \".join(keys[j])\n",
    "        column = keys\n",
    "    return column"
   ],
   "metadata": {
    "collapsed": false,
    "ExecuteTime": {
     "end_time": "2023-05-25T18:07:11.672984Z",
     "start_time": "2023-05-25T18:07:11.613003Z"
    }
   }
  },
  {
   "cell_type": "code",
   "execution_count": 119,
   "outputs": [
    {
     "name": "stderr",
     "output_type": "stream",
     "text": [
      "/var/folders/tp/4mcknzvj6zj5kcx78g7f5nmw0000gp/T/ipykernel_73180/2617064714.py:10: FutureWarning: The default value of regex will change from True to False in a future version.\n",
      "  column = column.str.replace(\"[^a-z ]\", \"\")\n"
     ]
    }
   ],
   "source": [
    "moduleDF['cleaned_feature'] = _text_processing(moduleDF['feature'])"
   ],
   "metadata": {
    "collapsed": false,
    "ExecuteTime": {
     "end_time": "2023-05-25T18:07:11.673066Z",
     "start_time": "2023-05-25T18:07:11.618572Z"
    }
   }
  },
  {
   "cell_type": "code",
   "execution_count": 120,
   "outputs": [],
   "source": [
    "def get_tokens(text):\n",
    "    ps = PorterStemmer()\n",
    "    payload = \"\"\n",
    "\n",
    "    tokens = word_tokenize(text)\n",
    "\n",
    "    tokens = [t for t in tokens if not t in stop_words]\n",
    "\n",
    "    for t in range(len(tokens)):\n",
    "        tokens[t] = ps.stem(tokens[t])\n",
    "\n",
    "    for token in tokens:\n",
    "        payload += token + ' '\n",
    "\n",
    "    return payload"
   ],
   "metadata": {
    "collapsed": false,
    "ExecuteTime": {
     "end_time": "2023-05-25T18:07:11.673411Z",
     "start_time": "2023-05-25T18:07:11.621505Z"
    }
   }
  },
  {
   "cell_type": "code",
   "execution_count": 121,
   "outputs": [
    {
     "data": {
      "text/plain": "                          id true_cluster  hours  \\\n0   644827afc3faa4c9ea96a800           DS  0.750   \n1   64496079d5fb014e40d5ea39           DS  1.500   \n2   644960add5fb014e40d5ea3a           DS  2.000   \n3   644960bcd5fb014e40d5ea3b           DS  0.500   \n4   64496111d5fb014e40d5ea3c           DS  2.250   \n5   64511f49f9ce74323575fffe         CSLP  0.300   \n6   64511f4bf9ce74323575ffff         CSLP  0.300   \n7   646270b939769687f2a6d858        LP-ME  0.300   \n8   646273ce39769687f2a6d860           TP  0.700   \n9   646273e539769687f2a6d861           TP  0.730   \n10  6462741d39769687f2a6d862           TP  0.525   \n11  6462745c39769687f2a6d863           TP  0.265   \n12  6462747b39769687f2a6d864           TP  0.351   \n13  6462749a39769687f2a6d865           TP  0.750   \n14  646274c539769687f2a6d866          NFM  0.225   \n15  646274e939769687f2a6d867          NFM  0.320   \n16  6462750d39769687f2a6d868          NFM  0.645   \n17  6462752e39769687f2a6d869          NFM  0.743   \n18  6462756339769687f2a6d86a          MCD  0.220   \n19  6462758c39769687f2a6d86b          MCD  0.450   \n\n                                               tokens  \n0   linear regress linear regress correl regress a...  \n1   statist analysi statist analysi descript stati...  \n2   logarithm logarithm exponenti function logarit...  \n3   arithmet arithmet oper addit subtract multipl ...  \n4   euclidean distanc euclidean distanc distanc fo...  \n5   introduct linear program model comput implemen...  \n6   comput solut lp formul linear program comput s...  \n7   linear program model linear program model line...  \n8   transport transport transport introduct transp...  \n9   transship transship transship introduct transs...  \n10  assign problem transship transport shipment tr...  \n11  shortest shortest shortest short shortest welc...  \n12  maxim flow problem maxim flow problem graph th...  \n13  travel salesman problem travel ai algorithm pr...  \n14  nonlinear profit analysisconstrain optim nonli...  \n15  facil locat problem facil locat problem facil ...  \n16  mix integ nonlinear program mix integ nonlinea...  \n17  solv unconstrain nonlinear equationsnumer unco...  \n18  program formul graphic interpret program formu...  \n19  program comput solut program comput solut comp...  ",
      "text/html": "<div>\n<style scoped>\n    .dataframe tbody tr th:only-of-type {\n        vertical-align: middle;\n    }\n\n    .dataframe tbody tr th {\n        vertical-align: top;\n    }\n\n    .dataframe thead th {\n        text-align: right;\n    }\n</style>\n<table border=\"1\" class=\"dataframe\">\n  <thead>\n    <tr style=\"text-align: right;\">\n      <th></th>\n      <th>id</th>\n      <th>true_cluster</th>\n      <th>hours</th>\n      <th>tokens</th>\n    </tr>\n  </thead>\n  <tbody>\n    <tr>\n      <th>0</th>\n      <td>644827afc3faa4c9ea96a800</td>\n      <td>DS</td>\n      <td>0.750</td>\n      <td>linear regress linear regress correl regress a...</td>\n    </tr>\n    <tr>\n      <th>1</th>\n      <td>64496079d5fb014e40d5ea39</td>\n      <td>DS</td>\n      <td>1.500</td>\n      <td>statist analysi statist analysi descript stati...</td>\n    </tr>\n    <tr>\n      <th>2</th>\n      <td>644960add5fb014e40d5ea3a</td>\n      <td>DS</td>\n      <td>2.000</td>\n      <td>logarithm logarithm exponenti function logarit...</td>\n    </tr>\n    <tr>\n      <th>3</th>\n      <td>644960bcd5fb014e40d5ea3b</td>\n      <td>DS</td>\n      <td>0.500</td>\n      <td>arithmet arithmet oper addit subtract multipl ...</td>\n    </tr>\n    <tr>\n      <th>4</th>\n      <td>64496111d5fb014e40d5ea3c</td>\n      <td>DS</td>\n      <td>2.250</td>\n      <td>euclidean distanc euclidean distanc distanc fo...</td>\n    </tr>\n    <tr>\n      <th>5</th>\n      <td>64511f49f9ce74323575fffe</td>\n      <td>CSLP</td>\n      <td>0.300</td>\n      <td>introduct linear program model comput implemen...</td>\n    </tr>\n    <tr>\n      <th>6</th>\n      <td>64511f4bf9ce74323575ffff</td>\n      <td>CSLP</td>\n      <td>0.300</td>\n      <td>comput solut lp formul linear program comput s...</td>\n    </tr>\n    <tr>\n      <th>7</th>\n      <td>646270b939769687f2a6d858</td>\n      <td>LP-ME</td>\n      <td>0.300</td>\n      <td>linear program model linear program model line...</td>\n    </tr>\n    <tr>\n      <th>8</th>\n      <td>646273ce39769687f2a6d860</td>\n      <td>TP</td>\n      <td>0.700</td>\n      <td>transport transport transport introduct transp...</td>\n    </tr>\n    <tr>\n      <th>9</th>\n      <td>646273e539769687f2a6d861</td>\n      <td>TP</td>\n      <td>0.730</td>\n      <td>transship transship transship introduct transs...</td>\n    </tr>\n    <tr>\n      <th>10</th>\n      <td>6462741d39769687f2a6d862</td>\n      <td>TP</td>\n      <td>0.525</td>\n      <td>assign problem transship transport shipment tr...</td>\n    </tr>\n    <tr>\n      <th>11</th>\n      <td>6462745c39769687f2a6d863</td>\n      <td>TP</td>\n      <td>0.265</td>\n      <td>shortest shortest shortest short shortest welc...</td>\n    </tr>\n    <tr>\n      <th>12</th>\n      <td>6462747b39769687f2a6d864</td>\n      <td>TP</td>\n      <td>0.351</td>\n      <td>maxim flow problem maxim flow problem graph th...</td>\n    </tr>\n    <tr>\n      <th>13</th>\n      <td>6462749a39769687f2a6d865</td>\n      <td>TP</td>\n      <td>0.750</td>\n      <td>travel salesman problem travel ai algorithm pr...</td>\n    </tr>\n    <tr>\n      <th>14</th>\n      <td>646274c539769687f2a6d866</td>\n      <td>NFM</td>\n      <td>0.225</td>\n      <td>nonlinear profit analysisconstrain optim nonli...</td>\n    </tr>\n    <tr>\n      <th>15</th>\n      <td>646274e939769687f2a6d867</td>\n      <td>NFM</td>\n      <td>0.320</td>\n      <td>facil locat problem facil locat problem facil ...</td>\n    </tr>\n    <tr>\n      <th>16</th>\n      <td>6462750d39769687f2a6d868</td>\n      <td>NFM</td>\n      <td>0.645</td>\n      <td>mix integ nonlinear program mix integ nonlinea...</td>\n    </tr>\n    <tr>\n      <th>17</th>\n      <td>6462752e39769687f2a6d869</td>\n      <td>NFM</td>\n      <td>0.743</td>\n      <td>solv unconstrain nonlinear equationsnumer unco...</td>\n    </tr>\n    <tr>\n      <th>18</th>\n      <td>6462756339769687f2a6d86a</td>\n      <td>MCD</td>\n      <td>0.220</td>\n      <td>program formul graphic interpret program formu...</td>\n    </tr>\n    <tr>\n      <th>19</th>\n      <td>6462758c39769687f2a6d86b</td>\n      <td>MCD</td>\n      <td>0.450</td>\n      <td>program comput solut program comput solut comp...</td>\n    </tr>\n  </tbody>\n</table>\n</div>"
     },
     "execution_count": 121,
     "metadata": {},
     "output_type": "execute_result"
    }
   ],
   "source": [
    "moduleDF['tokens'] = moduleDF['cleaned_feature'].apply(lambda x: get_tokens(x))\n",
    "\n",
    "moduleDF.drop(['feature', 'cleaned_feature'], axis=1, inplace=True)\n",
    "\n",
    "moduleDF.head(20)"
   ],
   "metadata": {
    "collapsed": false,
    "ExecuteTime": {
     "end_time": "2023-05-25T18:07:11.776471Z",
     "start_time": "2023-05-25T18:07:11.629376Z"
    }
   }
  },
  {
   "cell_type": "code",
   "execution_count": 122,
   "outputs": [
    {
     "data": {
      "text/plain": "                          id  true_cluster  hours  \\\n0   644827afc3faa4c9ea96a800             4  0.750   \n1   64496079d5fb014e40d5ea39             4  1.500   \n2   644960add5fb014e40d5ea3a             4  2.000   \n3   644960bcd5fb014e40d5ea3b             4  0.500   \n4   64496111d5fb014e40d5ea3c             4  2.250   \n5   64511f49f9ce74323575fffe             2  0.300   \n6   64511f4bf9ce74323575ffff             2  0.300   \n7   646270b939769687f2a6d858            11  0.300   \n8   646273ce39769687f2a6d860            20  0.700   \n9   646273e539769687f2a6d861            20  0.730   \n10  6462741d39769687f2a6d862            20  0.525   \n11  6462745c39769687f2a6d863            20  0.265   \n12  6462747b39769687f2a6d864            20  0.351   \n13  6462749a39769687f2a6d865            20  0.750   \n14  646274c539769687f2a6d866            16  0.225   \n15  646274e939769687f2a6d867            16  0.320   \n16  6462750d39769687f2a6d868            16  0.645   \n17  6462752e39769687f2a6d869            16  0.743   \n18  6462756339769687f2a6d86a            15  0.220   \n19  6462758c39769687f2a6d86b            15  0.450   \n\n                                               tokens  \n0   linear regress linear regress correl regress a...  \n1   statist analysi statist analysi descript stati...  \n2   logarithm logarithm exponenti function logarit...  \n3   arithmet arithmet oper addit subtract multipl ...  \n4   euclidean distanc euclidean distanc distanc fo...  \n5   introduct linear program model comput implemen...  \n6   comput solut lp formul linear program comput s...  \n7   linear program model linear program model line...  \n8   transport transport transport introduct transp...  \n9   transship transship transship introduct transs...  \n10  assign problem transship transport shipment tr...  \n11  shortest shortest shortest short shortest welc...  \n12  maxim flow problem maxim flow problem graph th...  \n13  travel salesman problem travel ai algorithm pr...  \n14  nonlinear profit analysisconstrain optim nonli...  \n15  facil locat problem facil locat problem facil ...  \n16  mix integ nonlinear program mix integ nonlinea...  \n17  solv unconstrain nonlinear equationsnumer unco...  \n18  program formul graphic interpret program formu...  \n19  program comput solut program comput solut comp...  ",
      "text/html": "<div>\n<style scoped>\n    .dataframe tbody tr th:only-of-type {\n        vertical-align: middle;\n    }\n\n    .dataframe tbody tr th {\n        vertical-align: top;\n    }\n\n    .dataframe thead th {\n        text-align: right;\n    }\n</style>\n<table border=\"1\" class=\"dataframe\">\n  <thead>\n    <tr style=\"text-align: right;\">\n      <th></th>\n      <th>id</th>\n      <th>true_cluster</th>\n      <th>hours</th>\n      <th>tokens</th>\n    </tr>\n  </thead>\n  <tbody>\n    <tr>\n      <th>0</th>\n      <td>644827afc3faa4c9ea96a800</td>\n      <td>4</td>\n      <td>0.750</td>\n      <td>linear regress linear regress correl regress a...</td>\n    </tr>\n    <tr>\n      <th>1</th>\n      <td>64496079d5fb014e40d5ea39</td>\n      <td>4</td>\n      <td>1.500</td>\n      <td>statist analysi statist analysi descript stati...</td>\n    </tr>\n    <tr>\n      <th>2</th>\n      <td>644960add5fb014e40d5ea3a</td>\n      <td>4</td>\n      <td>2.000</td>\n      <td>logarithm logarithm exponenti function logarit...</td>\n    </tr>\n    <tr>\n      <th>3</th>\n      <td>644960bcd5fb014e40d5ea3b</td>\n      <td>4</td>\n      <td>0.500</td>\n      <td>arithmet arithmet oper addit subtract multipl ...</td>\n    </tr>\n    <tr>\n      <th>4</th>\n      <td>64496111d5fb014e40d5ea3c</td>\n      <td>4</td>\n      <td>2.250</td>\n      <td>euclidean distanc euclidean distanc distanc fo...</td>\n    </tr>\n    <tr>\n      <th>5</th>\n      <td>64511f49f9ce74323575fffe</td>\n      <td>2</td>\n      <td>0.300</td>\n      <td>introduct linear program model comput implemen...</td>\n    </tr>\n    <tr>\n      <th>6</th>\n      <td>64511f4bf9ce74323575ffff</td>\n      <td>2</td>\n      <td>0.300</td>\n      <td>comput solut lp formul linear program comput s...</td>\n    </tr>\n    <tr>\n      <th>7</th>\n      <td>646270b939769687f2a6d858</td>\n      <td>11</td>\n      <td>0.300</td>\n      <td>linear program model linear program model line...</td>\n    </tr>\n    <tr>\n      <th>8</th>\n      <td>646273ce39769687f2a6d860</td>\n      <td>20</td>\n      <td>0.700</td>\n      <td>transport transport transport introduct transp...</td>\n    </tr>\n    <tr>\n      <th>9</th>\n      <td>646273e539769687f2a6d861</td>\n      <td>20</td>\n      <td>0.730</td>\n      <td>transship transship transship introduct transs...</td>\n    </tr>\n    <tr>\n      <th>10</th>\n      <td>6462741d39769687f2a6d862</td>\n      <td>20</td>\n      <td>0.525</td>\n      <td>assign problem transship transport shipment tr...</td>\n    </tr>\n    <tr>\n      <th>11</th>\n      <td>6462745c39769687f2a6d863</td>\n      <td>20</td>\n      <td>0.265</td>\n      <td>shortest shortest shortest short shortest welc...</td>\n    </tr>\n    <tr>\n      <th>12</th>\n      <td>6462747b39769687f2a6d864</td>\n      <td>20</td>\n      <td>0.351</td>\n      <td>maxim flow problem maxim flow problem graph th...</td>\n    </tr>\n    <tr>\n      <th>13</th>\n      <td>6462749a39769687f2a6d865</td>\n      <td>20</td>\n      <td>0.750</td>\n      <td>travel salesman problem travel ai algorithm pr...</td>\n    </tr>\n    <tr>\n      <th>14</th>\n      <td>646274c539769687f2a6d866</td>\n      <td>16</td>\n      <td>0.225</td>\n      <td>nonlinear profit analysisconstrain optim nonli...</td>\n    </tr>\n    <tr>\n      <th>15</th>\n      <td>646274e939769687f2a6d867</td>\n      <td>16</td>\n      <td>0.320</td>\n      <td>facil locat problem facil locat problem facil ...</td>\n    </tr>\n    <tr>\n      <th>16</th>\n      <td>6462750d39769687f2a6d868</td>\n      <td>16</td>\n      <td>0.645</td>\n      <td>mix integ nonlinear program mix integ nonlinea...</td>\n    </tr>\n    <tr>\n      <th>17</th>\n      <td>6462752e39769687f2a6d869</td>\n      <td>16</td>\n      <td>0.743</td>\n      <td>solv unconstrain nonlinear equationsnumer unco...</td>\n    </tr>\n    <tr>\n      <th>18</th>\n      <td>6462756339769687f2a6d86a</td>\n      <td>15</td>\n      <td>0.220</td>\n      <td>program formul graphic interpret program formu...</td>\n    </tr>\n    <tr>\n      <th>19</th>\n      <td>6462758c39769687f2a6d86b</td>\n      <td>15</td>\n      <td>0.450</td>\n      <td>program comput solut program comput solut comp...</td>\n    </tr>\n  </tbody>\n</table>\n</div>"
     },
     "execution_count": 122,
     "metadata": {},
     "output_type": "execute_result"
    }
   ],
   "source": [
    "from sklearn.preprocessing import LabelEncoder\n",
    "\n",
    "le = LabelEncoder()\n",
    "\n",
    "moduleDF['true_cluster'] = le.fit_transform(moduleDF['true_cluster'])\n",
    "\n",
    "moduleDF.head(20)"
   ],
   "metadata": {
    "collapsed": false,
    "ExecuteTime": {
     "end_time": "2023-05-25T18:07:11.776753Z",
     "start_time": "2023-05-25T18:07:11.721376Z"
    }
   }
  },
  {
   "cell_type": "markdown",
   "source": [
    "# Modeling"
   ],
   "metadata": {
    "collapsed": false
   }
  },
  {
   "cell_type": "code",
   "execution_count": 123,
   "outputs": [
    {
     "data": {
      "text/plain": "                         id  true_cluster  hours  \\\n0  644827afc3faa4c9ea96a800             4   0.75   \n1  64496079d5fb014e40d5ea39             4   1.50   \n2  644960add5fb014e40d5ea3a             4   2.00   \n3  644960bcd5fb014e40d5ea3b             4   0.50   \n4  64496111d5fb014e40d5ea3c             4   2.25   \n\n                                              tokens  cluster  \n0  linear regress linear regress correl regress a...        2  \n1  statist analysi statist analysi descript stati...        2  \n2  logarithm logarithm exponenti function logarit...        2  \n3  arithmet arithmet oper addit subtract multipl ...        2  \n4  euclidean distanc euclidean distanc distanc fo...        4  ",
      "text/html": "<div>\n<style scoped>\n    .dataframe tbody tr th:only-of-type {\n        vertical-align: middle;\n    }\n\n    .dataframe tbody tr th {\n        vertical-align: top;\n    }\n\n    .dataframe thead th {\n        text-align: right;\n    }\n</style>\n<table border=\"1\" class=\"dataframe\">\n  <thead>\n    <tr style=\"text-align: right;\">\n      <th></th>\n      <th>id</th>\n      <th>true_cluster</th>\n      <th>hours</th>\n      <th>tokens</th>\n      <th>cluster</th>\n    </tr>\n  </thead>\n  <tbody>\n    <tr>\n      <th>0</th>\n      <td>644827afc3faa4c9ea96a800</td>\n      <td>4</td>\n      <td>0.75</td>\n      <td>linear regress linear regress correl regress a...</td>\n      <td>2</td>\n    </tr>\n    <tr>\n      <th>1</th>\n      <td>64496079d5fb014e40d5ea39</td>\n      <td>4</td>\n      <td>1.50</td>\n      <td>statist analysi statist analysi descript stati...</td>\n      <td>2</td>\n    </tr>\n    <tr>\n      <th>2</th>\n      <td>644960add5fb014e40d5ea3a</td>\n      <td>4</td>\n      <td>2.00</td>\n      <td>logarithm logarithm exponenti function logarit...</td>\n      <td>2</td>\n    </tr>\n    <tr>\n      <th>3</th>\n      <td>644960bcd5fb014e40d5ea3b</td>\n      <td>4</td>\n      <td>0.50</td>\n      <td>arithmet arithmet oper addit subtract multipl ...</td>\n      <td>2</td>\n    </tr>\n    <tr>\n      <th>4</th>\n      <td>64496111d5fb014e40d5ea3c</td>\n      <td>4</td>\n      <td>2.25</td>\n      <td>euclidean distanc euclidean distanc distanc fo...</td>\n      <td>4</td>\n    </tr>\n  </tbody>\n</table>\n</div>"
     },
     "execution_count": 123,
     "metadata": {},
     "output_type": "execute_result"
    }
   ],
   "source": [
    "from sklearn.cluster import KMeans\n",
    "\n",
    "vectorizer = TfidfVectorizer()\n",
    "\n",
    "moduleDF['cluster'] = 0\n",
    "\n",
    "X = vectorizer.fit_transform(moduleDF['tokens'])\n",
    "Y = moduleDF['cluster']\n",
    "\n",
    "kmeans = KMeans(n_clusters=int(CLUSTER_COUNT), random_state=42, n_init=100, max_iter=1000).fit(X)\n",
    "\n",
    "moduleDF['cluster'] = kmeans.predict(X)\n",
    "\n",
    "moduleDF.head()"
   ],
   "metadata": {
    "collapsed": false,
    "ExecuteTime": {
     "end_time": "2023-05-25T18:07:12.148951Z",
     "start_time": "2023-05-25T18:07:11.729943Z"
    }
   }
  },
  {
   "cell_type": "code",
   "execution_count": 124,
   "outputs": [],
   "source": [
    "from sklearn.decomposition import PCA\n",
    "\n",
    "pca = PCA(n_components=int(CLUSTER_COUNT), random_state=42)\n",
    "\n",
    "reduced_features = pca.fit_transform(X.toarray())\n",
    "\n",
    "x0 = reduced_features[:, 0]\n",
    "x1 = reduced_features[:, 1]\n",
    "\n",
    "moduleDF['x0'] = x0\n",
    "moduleDF['x1'] = x1"
   ],
   "metadata": {
    "collapsed": false,
    "ExecuteTime": {
     "end_time": "2023-05-25T18:07:14.029694Z",
     "start_time": "2023-05-25T18:07:12.149140Z"
    }
   }
  },
  {
   "cell_type": "code",
   "execution_count": 125,
   "outputs": [
    {
     "name": "stdout",
     "output_type": "stream",
     "text": [
      "\n",
      "Cluster 0\n",
      "predict,process,transit,probabl,state,system,ergod,absorb,chain,markov\n",
      "\n",
      "Cluster 1\n",
      "sensit,solv,solut,program,model,method,linear,problem,simplex,lp\n",
      "\n",
      "Cluster 2\n",
      "statist,regress,problem,network,sensit,facil,locat,flow,analysi,model\n",
      "\n",
      "Cluster 3\n",
      "simplex,solv,interpret,solut,model,object,graphic,problem,linear,program\n",
      "\n",
      "Cluster 4\n",
      "alloc,program,distanc,project,algorithm,medic,assign,problem,shortest,dynam\n",
      "\n",
      "Cluster 5\n",
      "solv,mix,equat,make,profit,decis,numer,optim,program,nonlinear\n",
      "\n",
      "Cluster 6\n",
      "algorithm,solv,comput,techniqu,select,set,solut,problem,program,integ\n",
      "\n",
      "Cluster 7\n",
      "strategi,concept,work,advantag,conclus,reallif,economi,global,busi,transship\n",
      "\n",
      "Cluster 8\n",
      "finit,multipl,custom,design,perform,servic,server,queue,system,queu\n"
     ]
    },
    {
     "data": {
      "text/plain": "  Cluster 0 Cluster 1 Cluster 2  Cluster 3  Cluster 4  Cluster 5  Cluster 6  \\\n0   predict    sensit   statist    simplex      alloc       solv  algorithm   \n1   process      solv   regress       solv    program        mix       solv   \n2   transit     solut   problem  interpret    distanc      equat     comput   \n3   probabl   program   network      solut    project       make   techniqu   \n4     state     model    sensit      model  algorithm     profit     select   \n5    system    method     facil     object      medic      decis        set   \n6     ergod    linear     locat    graphic     assign      numer      solut   \n7    absorb   problem      flow    problem    problem      optim    problem   \n8     chain   simplex   analysi     linear   shortest    program    program   \n9    markov        lp     model    program      dynam  nonlinear      integ   \n\n   Cluster 7 Cluster 8  \n0   strategi     finit  \n1    concept   multipl  \n2       work    custom  \n3   advantag    design  \n4    conclus   perform  \n5    reallif    servic  \n6    economi    server  \n7     global     queue  \n8       busi    system  \n9  transship      queu  ",
      "text/html": "<div>\n<style scoped>\n    .dataframe tbody tr th:only-of-type {\n        vertical-align: middle;\n    }\n\n    .dataframe tbody tr th {\n        vertical-align: top;\n    }\n\n    .dataframe thead th {\n        text-align: right;\n    }\n</style>\n<table border=\"1\" class=\"dataframe\">\n  <thead>\n    <tr style=\"text-align: right;\">\n      <th></th>\n      <th>Cluster 0</th>\n      <th>Cluster 1</th>\n      <th>Cluster 2</th>\n      <th>Cluster 3</th>\n      <th>Cluster 4</th>\n      <th>Cluster 5</th>\n      <th>Cluster 6</th>\n      <th>Cluster 7</th>\n      <th>Cluster 8</th>\n    </tr>\n  </thead>\n  <tbody>\n    <tr>\n      <th>0</th>\n      <td>predict</td>\n      <td>sensit</td>\n      <td>statist</td>\n      <td>simplex</td>\n      <td>alloc</td>\n      <td>solv</td>\n      <td>algorithm</td>\n      <td>strategi</td>\n      <td>finit</td>\n    </tr>\n    <tr>\n      <th>1</th>\n      <td>process</td>\n      <td>solv</td>\n      <td>regress</td>\n      <td>solv</td>\n      <td>program</td>\n      <td>mix</td>\n      <td>solv</td>\n      <td>concept</td>\n      <td>multipl</td>\n    </tr>\n    <tr>\n      <th>2</th>\n      <td>transit</td>\n      <td>solut</td>\n      <td>problem</td>\n      <td>interpret</td>\n      <td>distanc</td>\n      <td>equat</td>\n      <td>comput</td>\n      <td>work</td>\n      <td>custom</td>\n    </tr>\n    <tr>\n      <th>3</th>\n      <td>probabl</td>\n      <td>program</td>\n      <td>network</td>\n      <td>solut</td>\n      <td>project</td>\n      <td>make</td>\n      <td>techniqu</td>\n      <td>advantag</td>\n      <td>design</td>\n    </tr>\n    <tr>\n      <th>4</th>\n      <td>state</td>\n      <td>model</td>\n      <td>sensit</td>\n      <td>model</td>\n      <td>algorithm</td>\n      <td>profit</td>\n      <td>select</td>\n      <td>conclus</td>\n      <td>perform</td>\n    </tr>\n    <tr>\n      <th>5</th>\n      <td>system</td>\n      <td>method</td>\n      <td>facil</td>\n      <td>object</td>\n      <td>medic</td>\n      <td>decis</td>\n      <td>set</td>\n      <td>reallif</td>\n      <td>servic</td>\n    </tr>\n    <tr>\n      <th>6</th>\n      <td>ergod</td>\n      <td>linear</td>\n      <td>locat</td>\n      <td>graphic</td>\n      <td>assign</td>\n      <td>numer</td>\n      <td>solut</td>\n      <td>economi</td>\n      <td>server</td>\n    </tr>\n    <tr>\n      <th>7</th>\n      <td>absorb</td>\n      <td>problem</td>\n      <td>flow</td>\n      <td>problem</td>\n      <td>problem</td>\n      <td>optim</td>\n      <td>problem</td>\n      <td>global</td>\n      <td>queue</td>\n    </tr>\n    <tr>\n      <th>8</th>\n      <td>chain</td>\n      <td>simplex</td>\n      <td>analysi</td>\n      <td>linear</td>\n      <td>shortest</td>\n      <td>program</td>\n      <td>program</td>\n      <td>busi</td>\n      <td>system</td>\n    </tr>\n    <tr>\n      <th>9</th>\n      <td>markov</td>\n      <td>lp</td>\n      <td>model</td>\n      <td>program</td>\n      <td>dynam</td>\n      <td>nonlinear</td>\n      <td>integ</td>\n      <td>transship</td>\n      <td>queu</td>\n    </tr>\n  </tbody>\n</table>\n</div>"
     },
     "execution_count": 125,
     "metadata": {},
     "output_type": "execute_result"
    }
   ],
   "source": [
    "def get_top_keywords(n_terms):\n",
    "    \"\"\"This function returns the keywords for each centroid of the KMeans\"\"\"\n",
    "    df = pd.DataFrame(X.todense()).groupby(moduleDF['cluster']).mean() # groups the TF-IDF vector by cluster\n",
    "    terms = vectorizer.get_feature_names_out() # access tf-idf terms\n",
    "    for k,r in df.iterrows():\n",
    "        print('\\nCluster {}'.format(k))\n",
    "        print(','.join([terms[t] for t in np.argsort(r)[-n_terms:]])) # for each row of the dataframe, find the n terms that have the highest tf idf score\n",
    "\n",
    "    termsDF = pd.DataFrame()\n",
    "    for k,r in df.iterrows():\n",
    "        termsDF['Cluster {}'.format(k)] = [terms[t] for t in np.argsort(r)[-n_terms:]]\n",
    "    return termsDF\n",
    "\n",
    "\n",
    "get_top_keywords(10)"
   ],
   "metadata": {
    "collapsed": false,
    "ExecuteTime": {
     "end_time": "2023-05-25T18:07:14.097387Z",
     "start_time": "2023-05-25T18:07:14.032582Z"
    }
   }
  },
  {
   "cell_type": "code",
   "execution_count": 126,
   "outputs": [
    {
     "data": {
      "text/plain": "                          id  true_cluster  hours  \\\n0   644827afc3faa4c9ea96a800             4  0.750   \n1   64496079d5fb014e40d5ea39             4  1.500   \n2   644960add5fb014e40d5ea3a             4  2.000   \n3   644960bcd5fb014e40d5ea3b             4  0.500   \n4   64496111d5fb014e40d5ea3c             4  2.250   \n5   64511f49f9ce74323575fffe             2  0.300   \n6   64511f4bf9ce74323575ffff             2  0.300   \n7   646270b939769687f2a6d858            11  0.300   \n8   646273ce39769687f2a6d860            20  0.700   \n9   646273e539769687f2a6d861            20  0.730   \n10  6462741d39769687f2a6d862            20  0.525   \n11  6462745c39769687f2a6d863            20  0.265   \n12  6462747b39769687f2a6d864            20  0.351   \n13  6462749a39769687f2a6d865            20  0.750   \n14  646274c539769687f2a6d866            16  0.225   \n15  646274e939769687f2a6d867            16  0.320   \n16  6462750d39769687f2a6d868            16  0.645   \n17  6462752e39769687f2a6d869            16  0.743   \n18  6462756339769687f2a6d86a            15  0.220   \n19  6462758c39769687f2a6d86b            15  0.450   \n\n                                               tokens  cluster        x0  \\\n0   linear regress linear regress correl regress a...        2  0.058042   \n1   statist analysi statist analysi descript stati...        2  0.139747   \n2   logarithm logarithm exponenti function logarit...        2  0.096681   \n3   arithmet arithmet oper addit subtract multipl ...        2  0.090430   \n4   euclidean distanc euclidean distanc distanc fo...        4  0.121293   \n5   introduct linear program model comput implemen...        2 -0.041217   \n6   comput solut lp formul linear program comput s...        1 -0.195583   \n7   linear program model linear program model line...        3 -0.350579   \n8   transport transport transport introduct transp...        2  0.097184   \n9   transship transship transship introduct transs...        7  0.122101   \n10  assign problem transship transport shipment tr...        4 -0.015236   \n11  shortest shortest shortest short shortest welc...        4  0.067801   \n12  maxim flow problem maxim flow problem graph th...        2  0.047481   \n13  travel salesman problem travel ai algorithm pr...        4  0.017118   \n14  nonlinear profit analysisconstrain optim nonli...        5  0.003405   \n15  facil locat problem facil locat problem facil ...        2  0.072599   \n16  mix integ nonlinear program mix integ nonlinea...        5 -0.217042   \n17  solv unconstrain nonlinear equationsnumer unco...        5  0.003174   \n18  program formul graphic interpret program formu...        3 -0.239875   \n19  program comput solut program comput solut comp...        6 -0.230524   \n\n          x1  \n0  -0.155002  \n1  -0.240526  \n2  -0.162188  \n3  -0.169339  \n4  -0.178086  \n5  -0.154605  \n6  -0.040641  \n7   0.232063  \n8  -0.173355  \n9  -0.214346  \n10 -0.095429  \n11 -0.159889  \n12 -0.133367  \n13 -0.104208  \n14 -0.179375  \n15 -0.175771  \n16  0.154963  \n17 -0.151228  \n18  0.071059  \n19  0.165235  ",
      "text/html": "<div>\n<style scoped>\n    .dataframe tbody tr th:only-of-type {\n        vertical-align: middle;\n    }\n\n    .dataframe tbody tr th {\n        vertical-align: top;\n    }\n\n    .dataframe thead th {\n        text-align: right;\n    }\n</style>\n<table border=\"1\" class=\"dataframe\">\n  <thead>\n    <tr style=\"text-align: right;\">\n      <th></th>\n      <th>id</th>\n      <th>true_cluster</th>\n      <th>hours</th>\n      <th>tokens</th>\n      <th>cluster</th>\n      <th>x0</th>\n      <th>x1</th>\n    </tr>\n  </thead>\n  <tbody>\n    <tr>\n      <th>0</th>\n      <td>644827afc3faa4c9ea96a800</td>\n      <td>4</td>\n      <td>0.750</td>\n      <td>linear regress linear regress correl regress a...</td>\n      <td>2</td>\n      <td>0.058042</td>\n      <td>-0.155002</td>\n    </tr>\n    <tr>\n      <th>1</th>\n      <td>64496079d5fb014e40d5ea39</td>\n      <td>4</td>\n      <td>1.500</td>\n      <td>statist analysi statist analysi descript stati...</td>\n      <td>2</td>\n      <td>0.139747</td>\n      <td>-0.240526</td>\n    </tr>\n    <tr>\n      <th>2</th>\n      <td>644960add5fb014e40d5ea3a</td>\n      <td>4</td>\n      <td>2.000</td>\n      <td>logarithm logarithm exponenti function logarit...</td>\n      <td>2</td>\n      <td>0.096681</td>\n      <td>-0.162188</td>\n    </tr>\n    <tr>\n      <th>3</th>\n      <td>644960bcd5fb014e40d5ea3b</td>\n      <td>4</td>\n      <td>0.500</td>\n      <td>arithmet arithmet oper addit subtract multipl ...</td>\n      <td>2</td>\n      <td>0.090430</td>\n      <td>-0.169339</td>\n    </tr>\n    <tr>\n      <th>4</th>\n      <td>64496111d5fb014e40d5ea3c</td>\n      <td>4</td>\n      <td>2.250</td>\n      <td>euclidean distanc euclidean distanc distanc fo...</td>\n      <td>4</td>\n      <td>0.121293</td>\n      <td>-0.178086</td>\n    </tr>\n    <tr>\n      <th>5</th>\n      <td>64511f49f9ce74323575fffe</td>\n      <td>2</td>\n      <td>0.300</td>\n      <td>introduct linear program model comput implemen...</td>\n      <td>2</td>\n      <td>-0.041217</td>\n      <td>-0.154605</td>\n    </tr>\n    <tr>\n      <th>6</th>\n      <td>64511f4bf9ce74323575ffff</td>\n      <td>2</td>\n      <td>0.300</td>\n      <td>comput solut lp formul linear program comput s...</td>\n      <td>1</td>\n      <td>-0.195583</td>\n      <td>-0.040641</td>\n    </tr>\n    <tr>\n      <th>7</th>\n      <td>646270b939769687f2a6d858</td>\n      <td>11</td>\n      <td>0.300</td>\n      <td>linear program model linear program model line...</td>\n      <td>3</td>\n      <td>-0.350579</td>\n      <td>0.232063</td>\n    </tr>\n    <tr>\n      <th>8</th>\n      <td>646273ce39769687f2a6d860</td>\n      <td>20</td>\n      <td>0.700</td>\n      <td>transport transport transport introduct transp...</td>\n      <td>2</td>\n      <td>0.097184</td>\n      <td>-0.173355</td>\n    </tr>\n    <tr>\n      <th>9</th>\n      <td>646273e539769687f2a6d861</td>\n      <td>20</td>\n      <td>0.730</td>\n      <td>transship transship transship introduct transs...</td>\n      <td>7</td>\n      <td>0.122101</td>\n      <td>-0.214346</td>\n    </tr>\n    <tr>\n      <th>10</th>\n      <td>6462741d39769687f2a6d862</td>\n      <td>20</td>\n      <td>0.525</td>\n      <td>assign problem transship transport shipment tr...</td>\n      <td>4</td>\n      <td>-0.015236</td>\n      <td>-0.095429</td>\n    </tr>\n    <tr>\n      <th>11</th>\n      <td>6462745c39769687f2a6d863</td>\n      <td>20</td>\n      <td>0.265</td>\n      <td>shortest shortest shortest short shortest welc...</td>\n      <td>4</td>\n      <td>0.067801</td>\n      <td>-0.159889</td>\n    </tr>\n    <tr>\n      <th>12</th>\n      <td>6462747b39769687f2a6d864</td>\n      <td>20</td>\n      <td>0.351</td>\n      <td>maxim flow problem maxim flow problem graph th...</td>\n      <td>2</td>\n      <td>0.047481</td>\n      <td>-0.133367</td>\n    </tr>\n    <tr>\n      <th>13</th>\n      <td>6462749a39769687f2a6d865</td>\n      <td>20</td>\n      <td>0.750</td>\n      <td>travel salesman problem travel ai algorithm pr...</td>\n      <td>4</td>\n      <td>0.017118</td>\n      <td>-0.104208</td>\n    </tr>\n    <tr>\n      <th>14</th>\n      <td>646274c539769687f2a6d866</td>\n      <td>16</td>\n      <td>0.225</td>\n      <td>nonlinear profit analysisconstrain optim nonli...</td>\n      <td>5</td>\n      <td>0.003405</td>\n      <td>-0.179375</td>\n    </tr>\n    <tr>\n      <th>15</th>\n      <td>646274e939769687f2a6d867</td>\n      <td>16</td>\n      <td>0.320</td>\n      <td>facil locat problem facil locat problem facil ...</td>\n      <td>2</td>\n      <td>0.072599</td>\n      <td>-0.175771</td>\n    </tr>\n    <tr>\n      <th>16</th>\n      <td>6462750d39769687f2a6d868</td>\n      <td>16</td>\n      <td>0.645</td>\n      <td>mix integ nonlinear program mix integ nonlinea...</td>\n      <td>5</td>\n      <td>-0.217042</td>\n      <td>0.154963</td>\n    </tr>\n    <tr>\n      <th>17</th>\n      <td>6462752e39769687f2a6d869</td>\n      <td>16</td>\n      <td>0.743</td>\n      <td>solv unconstrain nonlinear equationsnumer unco...</td>\n      <td>5</td>\n      <td>0.003174</td>\n      <td>-0.151228</td>\n    </tr>\n    <tr>\n      <th>18</th>\n      <td>6462756339769687f2a6d86a</td>\n      <td>15</td>\n      <td>0.220</td>\n      <td>program formul graphic interpret program formu...</td>\n      <td>3</td>\n      <td>-0.239875</td>\n      <td>0.071059</td>\n    </tr>\n    <tr>\n      <th>19</th>\n      <td>6462758c39769687f2a6d86b</td>\n      <td>15</td>\n      <td>0.450</td>\n      <td>program comput solut program comput solut comp...</td>\n      <td>6</td>\n      <td>-0.230524</td>\n      <td>0.165235</td>\n    </tr>\n  </tbody>\n</table>\n</div>"
     },
     "execution_count": 126,
     "metadata": {},
     "output_type": "execute_result"
    }
   ],
   "source": [
    "moduleDF.head(20)"
   ],
   "metadata": {
    "collapsed": false,
    "ExecuteTime": {
     "end_time": "2023-05-25T18:07:14.098215Z",
     "start_time": "2023-05-25T18:07:14.060135Z"
    }
   }
  },
  {
   "cell_type": "code",
   "execution_count": 127,
   "outputs": [
    {
     "data": {
      "text/plain": "<AxesSubplot:title={'center':'TF-IDF + Ground Truth clustering'}, xlabel='X0', ylabel='x1'>"
     },
     "execution_count": 127,
     "metadata": {},
     "output_type": "execute_result"
    },
    {
     "data": {
      "text/plain": "<Figure size 2000x1400 with 2 Axes>",
      "image/png": "[encoded data removed]"
     },
     "metadata": {},
     "output_type": "display_data"
    }
   ],
   "source": [
    "fig, axs = plt.subplots(1, 2, figsize=(20, 14))\n",
    "for ax in axs.flat:\n",
    "    ax.set(xlabel='X0', ylabel='X1')\n",
    "    ax.label_outer()\n",
    "    ax.set_aspect(1)\n",
    "\n",
    "axs[0].set_title('TF-IDF + KMeans clustering')\n",
    "axs[1].set_title('TF-IDF + Ground Truth clustering')\n",
    "\n",
    "sns.scatterplot(data=moduleDF, x='x0', y='x1', hue='cluster', palette=\"tab10\", ax=axs[0])\n",
    "sns.scatterplot(data=moduleDF, x='x0', y='x1', hue='true_cluster', palette=\"tab20\", ax=axs[1], legend=False)"
   ],
   "metadata": {
    "collapsed": false,
    "ExecuteTime": {
     "end_time": "2023-05-25T18:07:14.371458Z",
     "start_time": "2023-05-25T18:07:14.089817Z"
    }
   }
  },
  {
   "cell_type": "code",
   "execution_count": 128,
   "outputs": [
    {
     "data": {
      "text/plain": "cluster\n2    19.844402\n4    11.538752\n0    10.812385\n3    10.307585\n5     9.414316\n1     9.005588\n6     8.451804\n8     4.783075\n7     1.444769\nName: hours, dtype: float64"
     },
     "execution_count": 128,
     "metadata": {},
     "output_type": "execute_result"
    }
   ],
   "source": [
    "# sum the number of hours for each cluster\n",
    "moduleDF.groupby('cluster')['hours'].sum().sort_values(ascending=False)"
   ],
   "metadata": {
    "collapsed": false,
    "ExecuteTime": {
     "end_time": "2023-05-25T18:07:14.375838Z",
     "start_time": "2023-05-25T18:07:14.371896Z"
    }
   }
  },
  {
   "cell_type": "code",
   "execution_count": 129,
   "outputs": [
    {
     "data": {
      "text/plain": "<AxesSubplot:title={'center':'ENMA 603 - Total Hours and Module count per Cluster'}, xlabel='Cluster', ylabel='Hours & Count'>"
     },
     "execution_count": 129,
     "metadata": {},
     "output_type": "execute_result"
    },
    {
     "data": {
      "text/plain": "<Figure size 2000x700 with 1 Axes>",
      "image/png": "[encoded data removed]"
     },
     "metadata": {},
     "output_type": "display_data"
    }
   ],
   "source": [
    "pd.concat(\n",
    "    [\n",
    "        moduleDF.groupby('cluster')['hours'].sum().rename('hours'),\n",
    "        moduleDF.groupby('cluster')['id'].count().rename('count')\n",
    "    ],\n",
    "    axis=1\n",
    ").plot(kind='bar', figsize=(20, 7), title='ENMA 603 - Total Hours and Module count per Cluster', xlabel='Cluster', ylabel='Hours & Count', legend=['Hours', 'Count'])"
   ],
   "metadata": {
    "collapsed": false,
    "ExecuteTime": {
     "end_time": "2023-05-25T18:07:14.531030Z",
     "start_time": "2023-05-25T18:07:14.380323Z"
    }
   }
  },
  {
   "cell_type": "code",
   "execution_count": 130,
   "outputs": [
    {
     "data": {
      "text/plain": "array([[<AxesSubplot:title={'center':'hours'}>]], dtype=object)"
     },
     "execution_count": 130,
     "metadata": {},
     "output_type": "execute_result"
    },
    {
     "data": {
      "text/plain": "<Figure size 1000x400 with 1 Axes>",
      "image/png": "[encoded data removed]"
     },
     "metadata": {},
     "output_type": "display_data"
    }
   ],
   "source": [
    "moduleDF.hist(figsize=(10, 4), bins=8, column='hours')"
   ],
   "metadata": {
    "collapsed": false,
    "ExecuteTime": {
     "end_time": "2023-05-25T18:07:14.638529Z",
     "start_time": "2023-05-25T18:07:14.507531Z"
    }
   }
  },
  {
   "cell_type": "markdown",
   "source": [
    "# Evaluating the model"
   ],
   "metadata": {
    "collapsed": false
   }
  },
  {
   "cell_type": "code",
   "execution_count": 143,
   "outputs": [
    {
     "data": {
      "text/plain": "0.11155439159216911"
     },
     "execution_count": 143,
     "metadata": {},
     "output_type": "execute_result"
    }
   ],
   "source": [
    "from sklearn.metrics import silhouette_score\n",
    "\n",
    "silhouette_score(X, moduleDF['cluster'])"
   ],
   "metadata": {
    "collapsed": false,
    "ExecuteTime": {
     "end_time": "2023-05-25T18:21:01.016854Z",
     "start_time": "2023-05-25T18:21:01.008575Z"
    }
   }
  },
  {
   "cell_type": "code",
   "execution_count": 156,
   "outputs": [
    {
     "data": {
      "text/plain": "                                                name prefix  \\\n0  Course Introduction, History, and Tools for Co...    INT   \n1  Variation, Normal Distribution, Sampling, Popu...   MATH   \n2                       Control Charts for Variables     CC   \n3  Start, Interpret X and R Control Charts, Trial...     CC   \n4  Rational Subgroups, Process Capability Assessment   MATH   \n\n                                            features  hours  cluster  \n0  Welcome to the Quality System Controls course!...   0.32        1  \n1  In this module, we will explore the fundamenta...   2.08        2  \n2  In this module, we will dive into the variable...   1.87        3  \n3  In this module, we will begin our journey into...   0.98        3  \n4  In this module, we will explore the importance...   1.48        2  ",
      "text/html": "<div>\n<style scoped>\n    .dataframe tbody tr th:only-of-type {\n        vertical-align: middle;\n    }\n\n    .dataframe tbody tr th {\n        vertical-align: top;\n    }\n\n    .dataframe thead th {\n        text-align: right;\n    }\n</style>\n<table border=\"1\" class=\"dataframe\">\n  <thead>\n    <tr style=\"text-align: right;\">\n      <th></th>\n      <th>name</th>\n      <th>prefix</th>\n      <th>features</th>\n      <th>hours</th>\n      <th>cluster</th>\n    </tr>\n  </thead>\n  <tbody>\n    <tr>\n      <th>0</th>\n      <td>Course Introduction, History, and Tools for Co...</td>\n      <td>INT</td>\n      <td>Welcome to the Quality System Controls course!...</td>\n      <td>0.32</td>\n      <td>1</td>\n    </tr>\n    <tr>\n      <th>1</th>\n      <td>Variation, Normal Distribution, Sampling, Popu...</td>\n      <td>MATH</td>\n      <td>In this module, we will explore the fundamenta...</td>\n      <td>2.08</td>\n      <td>2</td>\n    </tr>\n    <tr>\n      <th>2</th>\n      <td>Control Charts for Variables</td>\n      <td>CC</td>\n      <td>In this module, we will dive into the variable...</td>\n      <td>1.87</td>\n      <td>3</td>\n    </tr>\n    <tr>\n      <th>3</th>\n      <td>Start, Interpret X and R Control Charts, Trial...</td>\n      <td>CC</td>\n      <td>In this module, we will begin our journey into...</td>\n      <td>0.98</td>\n      <td>3</td>\n    </tr>\n    <tr>\n      <th>4</th>\n      <td>Rational Subgroups, Process Capability Assessment</td>\n      <td>MATH</td>\n      <td>In this module, we will explore the importance...</td>\n      <td>1.48</td>\n      <td>2</td>\n    </tr>\n  </tbody>\n</table>\n</div>"
     },
     "execution_count": 156,
     "metadata": {},
     "output_type": "execute_result"
    }
   ],
   "source": [
    "# create new dataframe with test data and evaluate the model\n",
    "testDF = pd.read_csv('input/614_num.tsv', sep='\\t')\n",
    "\n",
    "testDF.head()"
   ],
   "metadata": {
    "collapsed": false,
    "ExecuteTime": {
     "end_time": "2023-05-25T18:28:56.195746Z",
     "start_time": "2023-05-25T18:28:56.184400Z"
    }
   }
  },
  {
   "cell_type": "code",
   "execution_count": 157,
   "outputs": [
    {
     "name": "stderr",
     "output_type": "stream",
     "text": [
      "/var/folders/tp/4mcknzvj6zj5kcx78g7f5nmw0000gp/T/ipykernel_73180/2617064714.py:10: FutureWarning: The default value of regex will change from True to False in a future version.\n",
      "  column = column.str.replace(\"[^a-z ]\", \"\")\n"
     ]
    },
    {
     "data": {
      "text/plain": "                                                name prefix  hours  \\\n0  Course Introduction, History, and Tools for Co...    INT   0.32   \n1  Variation, Normal Distribution, Sampling, Popu...   MATH   2.08   \n2                       Control Charts for Variables     CC   1.87   \n3  Start, Interpret X and R Control Charts, Trial...     CC   0.98   \n4  Rational Subgroups, Process Capability Assessment   MATH   1.48   \n\n                                              tokens  \n0  welcom qualiti system control cours throughout...  \n1  modul explor fundament concept variat normal d...  \n2  modul dive variabl control chart control limit...  \n3  modul begin journey world control chart focus ...  \n4  modul explor import ration subgroup control ch...  ",
      "text/html": "<div>\n<style scoped>\n    .dataframe tbody tr th:only-of-type {\n        vertical-align: middle;\n    }\n\n    .dataframe tbody tr th {\n        vertical-align: top;\n    }\n\n    .dataframe thead th {\n        text-align: right;\n    }\n</style>\n<table border=\"1\" class=\"dataframe\">\n  <thead>\n    <tr style=\"text-align: right;\">\n      <th></th>\n      <th>name</th>\n      <th>prefix</th>\n      <th>hours</th>\n      <th>tokens</th>\n    </tr>\n  </thead>\n  <tbody>\n    <tr>\n      <th>0</th>\n      <td>Course Introduction, History, and Tools for Co...</td>\n      <td>INT</td>\n      <td>0.32</td>\n      <td>welcom qualiti system control cours throughout...</td>\n    </tr>\n    <tr>\n      <th>1</th>\n      <td>Variation, Normal Distribution, Sampling, Popu...</td>\n      <td>MATH</td>\n      <td>2.08</td>\n      <td>modul explor fundament concept variat normal d...</td>\n    </tr>\n    <tr>\n      <th>2</th>\n      <td>Control Charts for Variables</td>\n      <td>CC</td>\n      <td>1.87</td>\n      <td>modul dive variabl control chart control limit...</td>\n    </tr>\n    <tr>\n      <th>3</th>\n      <td>Start, Interpret X and R Control Charts, Trial...</td>\n      <td>CC</td>\n      <td>0.98</td>\n      <td>modul begin journey world control chart focus ...</td>\n    </tr>\n    <tr>\n      <th>4</th>\n      <td>Rational Subgroups, Process Capability Assessment</td>\n      <td>MATH</td>\n      <td>1.48</td>\n      <td>modul explor import ration subgroup control ch...</td>\n    </tr>\n  </tbody>\n</table>\n</div>"
     },
     "execution_count": 157,
     "metadata": {},
     "output_type": "execute_result"
    }
   ],
   "source": [
    "testDF['cleaned_feature'] = _text_processing(testDF['features'])\n",
    "\n",
    "testDF['tokens'] = testDF['cleaned_feature'].apply(lambda x: get_tokens(x))\n",
    "\n",
    "testDF.drop(['features', 'cleaned_feature', 'cluster'], axis=1, inplace=True)\n",
    "\n",
    "testDF.head()"
   ],
   "metadata": {
    "collapsed": false,
    "ExecuteTime": {
     "end_time": "2023-05-25T18:28:57.042072Z",
     "start_time": "2023-05-25T18:28:57.038131Z"
    }
   }
  },
  {
   "cell_type": "code",
   "execution_count": 158,
   "outputs": [
    {
     "data": {
      "text/plain": "                                                name prefix  hours  \\\n0  Course Introduction, History, and Tools for Co...    INT   0.32   \n1  Variation, Normal Distribution, Sampling, Popu...   MATH   2.08   \n2                       Control Charts for Variables     CC   1.87   \n3  Start, Interpret X and R Control Charts, Trial...     CC   0.98   \n4  Rational Subgroups, Process Capability Assessment   MATH   1.48   \n5       Statistics for Control Charts for Attributes    CTR   0.35   \n6              Control Charts for Fraction Defective    CTR   0.62   \n7                 Design and Analysis of Experiments     DA   1.97   \n8                                  Quality Standards      Q   0.35   \n9                        Quality Function Deployment      Q   1.04   \n\n                                              tokens  cluster  \n0  welcom qualiti system control cours throughout...        2  \n1  modul explor fundament concept variat normal d...        2  \n2  modul dive variabl control chart control limit...        2  \n3  modul begin journey world control chart focus ...        2  \n4  modul explor import ration subgroup control ch...        2  \n5  chapter shift focu control chart attribut use ...        2  \n6  chapter delv control chart specif design monit...        2  \n7  chapter embark journey realm experiment design...        2  \n8  chapter delv world qualiti standard signific e...        2  \n9  chapter dive qualiti function deploy qfd power...        2  ",
      "text/html": "<div>\n<style scoped>\n    .dataframe tbody tr th:only-of-type {\n        vertical-align: middle;\n    }\n\n    .dataframe tbody tr th {\n        vertical-align: top;\n    }\n\n    .dataframe thead th {\n        text-align: right;\n    }\n</style>\n<table border=\"1\" class=\"dataframe\">\n  <thead>\n    <tr style=\"text-align: right;\">\n      <th></th>\n      <th>name</th>\n      <th>prefix</th>\n      <th>hours</th>\n      <th>tokens</th>\n      <th>cluster</th>\n    </tr>\n  </thead>\n  <tbody>\n    <tr>\n      <th>0</th>\n      <td>Course Introduction, History, and Tools for Co...</td>\n      <td>INT</td>\n      <td>0.32</td>\n      <td>welcom qualiti system control cours throughout...</td>\n      <td>2</td>\n    </tr>\n    <tr>\n      <th>1</th>\n      <td>Variation, Normal Distribution, Sampling, Popu...</td>\n      <td>MATH</td>\n      <td>2.08</td>\n      <td>modul explor fundament concept variat normal d...</td>\n      <td>2</td>\n    </tr>\n    <tr>\n      <th>2</th>\n      <td>Control Charts for Variables</td>\n      <td>CC</td>\n      <td>1.87</td>\n      <td>modul dive variabl control chart control limit...</td>\n      <td>2</td>\n    </tr>\n    <tr>\n      <th>3</th>\n      <td>Start, Interpret X and R Control Charts, Trial...</td>\n      <td>CC</td>\n      <td>0.98</td>\n      <td>modul begin journey world control chart focus ...</td>\n      <td>2</td>\n    </tr>\n    <tr>\n      <th>4</th>\n      <td>Rational Subgroups, Process Capability Assessment</td>\n      <td>MATH</td>\n      <td>1.48</td>\n      <td>modul explor import ration subgroup control ch...</td>\n      <td>2</td>\n    </tr>\n    <tr>\n      <th>5</th>\n      <td>Statistics for Control Charts for Attributes</td>\n      <td>CTR</td>\n      <td>0.35</td>\n      <td>chapter shift focu control chart attribut use ...</td>\n      <td>2</td>\n    </tr>\n    <tr>\n      <th>6</th>\n      <td>Control Charts for Fraction Defective</td>\n      <td>CTR</td>\n      <td>0.62</td>\n      <td>chapter delv control chart specif design monit...</td>\n      <td>2</td>\n    </tr>\n    <tr>\n      <th>7</th>\n      <td>Design and Analysis of Experiments</td>\n      <td>DA</td>\n      <td>1.97</td>\n      <td>chapter embark journey realm experiment design...</td>\n      <td>2</td>\n    </tr>\n    <tr>\n      <th>8</th>\n      <td>Quality Standards</td>\n      <td>Q</td>\n      <td>0.35</td>\n      <td>chapter delv world qualiti standard signific e...</td>\n      <td>2</td>\n    </tr>\n    <tr>\n      <th>9</th>\n      <td>Quality Function Deployment</td>\n      <td>Q</td>\n      <td>1.04</td>\n      <td>chapter dive qualiti function deploy qfd power...</td>\n      <td>2</td>\n    </tr>\n  </tbody>\n</table>\n</div>"
     },
     "execution_count": 158,
     "metadata": {},
     "output_type": "execute_result"
    }
   ],
   "source": [
    "X_test = vectorizer.transform(testDF['tokens'])\n",
    "\n",
    "testDF['cluster'] = kmeans.predict(X_test)\n",
    "\n",
    "testDF.head(20)"
   ],
   "metadata": {
    "collapsed": false,
    "ExecuteTime": {
     "end_time": "2023-05-25T18:29:00.767655Z",
     "start_time": "2023-05-25T18:29:00.749489Z"
    }
   }
  },
  {
   "cell_type": "markdown",
   "source": [
    "# Exporting to JSON"
   ],
   "metadata": {
    "collapsed": false
   }
  },
  {
   "cell_type": "code",
   "execution_count": 132,
   "outputs": [
    {
     "name": "stdout",
     "output_type": "stream",
     "text": [
      "{\n",
      "  \"collections\": [\n",
      "    {\n",
      "      \"id\": \"4a3d84aa872d4c4d90cc30bcba01e42d\",\n",
      "      \"number\": 0,\n",
      "      \"modules\": [\n",
      "        {\n",
      "          \"id\": \"64627a0e39769687f2a6d872\"\n",
      "        },\n",
      "        {\n",
      "          \"id\": \"64627a2739769687f2a6d873\"\n",
      "        },\n",
      "        {\n",
      "          \"id\": \"64627a3b39769687f2a6d874\"\n",
      "        },\n",
      "        {\n",
      "          \"id\": \"64627c5239769687f2a6d875\"\n",
      "        },\n",
      "        {\n",
      "          \"id\": \"646506f68019c4d441f6ec38\"\n",
      "        },\n",
      "        {\n",
      "          \"id\": \"646506f78019c4d441f6ec39\"\n",
      "        },\n",
      "        {\n",
      "          \"id\": \"646506f78019c4d441f6ec3a\"\n",
      "        },\n",
      "        {\n",
      "          \"id\": \"646506f78019c4d441f6ec3b\"\n",
      "        },\n",
      "        {\n",
      "          \"id\": \"646506f78019c4d441f6ec3c\"\n",
      "        }\n",
      "      ]\n",
      "    },\n",
      "    {\n",
      "      \"id\": \"d9364d6f9f1c4c75abc165de5a432531\",\n",
      "      \"number\": 1,\n",
      "      \"modules\": [\n",
      "        {\n",
      "          \"id\": \"64511f4bf9ce74323575ffff\"\n",
      "        },\n",
      "        {\n",
      "          \"id\": \"646506c28019c4d441f6ec0f\"\n",
      "        },\n",
      "        {\n",
      "          \"id\": \"646506c38019c4d441f6ec12\"\n",
      "        },\n",
      "        {\n",
      "          \"id\": \"646506f18019c4d441f6ec13\"\n",
      "        },\n",
      "        {\n",
      "          \"id\": \"646506f18019c4d441f6ec14\"\n",
      "        },\n",
      "        {\n",
      "          \"id\": \"646506f18019c4d441f6ec15\"\n",
      "        },\n",
      "        {\n",
      "          \"id\": \"646506f28019c4d441f6ec18\"\n",
      "        },\n",
      "        {\n",
      "          \"id\": \"646506f28019c4d441f6ec1a\"\n",
      "        },\n",
      "        {\n",
      "          \"id\": \"646506f38019c4d441f6ec24\"\n",
      "        }\n",
      "      ]\n",
      "    },\n",
      "    {\n",
      "      \"id\": \"7ddbcd2476c34a8488ccebf2da0e430d\",\n",
      "      \"number\": 2,\n",
      "      \"modules\": [\n",
      "        {\n",
      "          \"id\": \"644827afc3faa4c9ea96a800\"\n",
      "        },\n",
      "        {\n",
      "          \"id\": \"64496079d5fb014e40d5ea39\"\n",
      "        },\n",
      "        {\n",
      "          \"id\": \"644960add5fb014e40d5ea3a\"\n",
      "        },\n",
      "        {\n",
      "          \"id\": \"644960bcd5fb014e40d5ea3b\"\n",
      "        },\n",
      "        {\n",
      "          \"id\": \"64511f49f9ce74323575fffe\"\n",
      "        },\n",
      "        {\n",
      "          \"id\": \"646273ce39769687f2a6d860\"\n",
      "        },\n",
      "        {\n",
      "          \"id\": \"6462747b39769687f2a6d864\"\n",
      "        },\n",
      "        {\n",
      "          \"id\": \"646274e939769687f2a6d867\"\n",
      "        },\n",
      "        {\n",
      "          \"id\": \"646506c28019c4d441f6ec0a\"\n",
      "        },\n",
      "        {\n",
      "          \"id\": \"646506c28019c4d441f6ec0b\"\n",
      "        },\n",
      "        {\n",
      "          \"id\": \"646506c28019c4d441f6ec0c\"\n",
      "        },\n",
      "        {\n",
      "          \"id\": \"646506c28019c4d441f6ec0d\"\n",
      "        },\n",
      "        {\n",
      "          \"id\": \"646506c28019c4d441f6ec0e\"\n",
      "        },\n",
      "        {\n",
      "          \"id\": \"646506c28019c4d441f6ec10\"\n",
      "        },\n",
      "        {\n",
      "          \"id\": \"646506f28019c4d441f6ec19\"\n",
      "        },\n",
      "        {\n",
      "          \"id\": \"646506f28019c4d441f6ec1b\"\n",
      "        },\n",
      "        {\n",
      "          \"id\": \"646506f28019c4d441f6ec1c\"\n",
      "        },\n",
      "        {\n",
      "          \"id\": \"646506f48019c4d441f6ec27\"\n",
      "        },\n",
      "        {\n",
      "          \"id\": \"646506f48019c4d441f6ec29\"\n",
      "        }\n",
      "      ]\n",
      "    },\n",
      "    {\n",
      "      \"id\": \"e4f3ddec64014d228b437b2f2f66b443\",\n",
      "      \"number\": 3,\n",
      "      \"modules\": [\n",
      "        {\n",
      "          \"id\": \"646270b939769687f2a6d858\"\n",
      "        },\n",
      "        {\n",
      "          \"id\": \"6462756339769687f2a6d86a\"\n",
      "        },\n",
      "        {\n",
      "          \"id\": \"646506c28019c4d441f6ec11\"\n",
      "        },\n",
      "        {\n",
      "          \"id\": \"646506f18019c4d441f6ec16\"\n",
      "        },\n",
      "        {\n",
      "          \"id\": \"646506f28019c4d441f6ec17\"\n",
      "        },\n",
      "        {\n",
      "          \"id\": \"646506f48019c4d441f6ec2c\"\n",
      "        },\n",
      "        {\n",
      "          \"id\": \"646506f48019c4d441f6ec2d\"\n",
      "        },\n",
      "        {\n",
      "          \"id\": \"646506f48019c4d441f6ec2e\"\n",
      "        },\n",
      "        {\n",
      "          \"id\": \"646506f58019c4d441f6ec30\"\n",
      "        }\n",
      "      ]\n",
      "    },\n",
      "    {\n",
      "      \"id\": \"cd640013c65246bfb37e6eb5e2460208\",\n",
      "      \"number\": 4,\n",
      "      \"modules\": [\n",
      "        {\n",
      "          \"id\": \"64496111d5fb014e40d5ea3c\"\n",
      "        },\n",
      "        {\n",
      "          \"id\": \"6462741d39769687f2a6d862\"\n",
      "        },\n",
      "        {\n",
      "          \"id\": \"6462745c39769687f2a6d863\"\n",
      "        },\n",
      "        {\n",
      "          \"id\": \"6462749a39769687f2a6d865\"\n",
      "        },\n",
      "        {\n",
      "          \"id\": \"646275ce39769687f2a6d86d\"\n",
      "        },\n",
      "        {\n",
      "          \"id\": \"646275e739769687f2a6d86e\"\n",
      "        },\n",
      "        {\n",
      "          \"id\": \"646506f28019c4d441f6ec1d\"\n",
      "        },\n",
      "        {\n",
      "          \"id\": \"646506f38019c4d441f6ec26\"\n",
      "        },\n",
      "        {\n",
      "          \"id\": \"646506f58019c4d441f6ec31\"\n",
      "        },\n",
      "        {\n",
      "          \"id\": \"646506f58019c4d441f6ec32\"\n",
      "        }\n",
      "      ]\n",
      "    },\n",
      "    {\n",
      "      \"id\": \"aa2b9a253f524f5fad158caf60f8b8eb\",\n",
      "      \"number\": 5,\n",
      "      \"modules\": [\n",
      "        {\n",
      "          \"id\": \"646274c539769687f2a6d866\"\n",
      "        },\n",
      "        {\n",
      "          \"id\": \"6462750d39769687f2a6d868\"\n",
      "        },\n",
      "        {\n",
      "          \"id\": \"6462752e39769687f2a6d869\"\n",
      "        },\n",
      "        {\n",
      "          \"id\": \"646275a839769687f2a6d86c\"\n",
      "        },\n",
      "        {\n",
      "          \"id\": \"646506f48019c4d441f6ec28\"\n",
      "        },\n",
      "        {\n",
      "          \"id\": \"646506f48019c4d441f6ec2a\"\n",
      "        },\n",
      "        {\n",
      "          \"id\": \"646506f48019c4d441f6ec2b\"\n",
      "        },\n",
      "        {\n",
      "          \"id\": \"646506f58019c4d441f6ec2f\"\n",
      "        },\n",
      "        {\n",
      "          \"id\": \"646506f58019c4d441f6ec33\"\n",
      "        },\n",
      "        {\n",
      "          \"id\": \"646506f68019c4d441f6ec37\"\n",
      "        }\n",
      "      ]\n",
      "    },\n",
      "    {\n",
      "      \"id\": \"b0ff18c2f7864a31baa392b3961958c0\",\n",
      "      \"number\": 6,\n",
      "      \"modules\": [\n",
      "        {\n",
      "          \"id\": \"6462758c39769687f2a6d86b\"\n",
      "        },\n",
      "        {\n",
      "          \"id\": \"646506f28019c4d441f6ec1e\"\n",
      "        },\n",
      "        {\n",
      "          \"id\": \"646506f38019c4d441f6ec1f\"\n",
      "        },\n",
      "        {\n",
      "          \"id\": \"646506f38019c4d441f6ec20\"\n",
      "        },\n",
      "        {\n",
      "          \"id\": \"646506f38019c4d441f6ec21\"\n",
      "        },\n",
      "        {\n",
      "          \"id\": \"646506f38019c4d441f6ec22\"\n",
      "        },\n",
      "        {\n",
      "          \"id\": \"646506f38019c4d441f6ec23\"\n",
      "        }\n",
      "      ]\n",
      "    },\n",
      "    {\n",
      "      \"id\": \"cdd477536d1d403c938d630a48a14474\",\n",
      "      \"number\": 7,\n",
      "      \"modules\": [\n",
      "        {\n",
      "          \"id\": \"646273e539769687f2a6d861\"\n",
      "        },\n",
      "        {\n",
      "          \"id\": \"646506f38019c4d441f6ec25\"\n",
      "        }\n",
      "      ]\n",
      "    },\n",
      "    {\n",
      "      \"id\": \"381b04ea58e640fab69283bf6cc39cee\",\n",
      "      \"number\": 8,\n",
      "      \"modules\": [\n",
      "        {\n",
      "          \"id\": \"6462763e39769687f2a6d86f\"\n",
      "        },\n",
      "        {\n",
      "          \"id\": \"6462765939769687f2a6d870\"\n",
      "        },\n",
      "        {\n",
      "          \"id\": \"6462768539769687f2a6d871\"\n",
      "        },\n",
      "        {\n",
      "          \"id\": \"646506f68019c4d441f6ec34\"\n",
      "        },\n",
      "        {\n",
      "          \"id\": \"646506f68019c4d441f6ec35\"\n",
      "        },\n",
      "        {\n",
      "          \"id\": \"646506f68019c4d441f6ec36\"\n",
      "        }\n",
      "      ]\n",
      "    }\n",
      "  ]\n",
      "}\n"
     ]
    }
   ],
   "source": [
    "import uuid\n",
    "\n",
    "# create a json list of objects from the moduleDF where each module is grouped by the cluster number.\n",
    "# The result should be a list of collection objects with a modules key that is representative of the cluster's modules\n",
    "\n",
    "# create a list of clusters\n",
    "clusters = moduleDF['cluster'].unique().tolist()\n",
    "\n",
    "# create a list of modules\n",
    "modules = moduleDF['id'].unique().tolist()\n",
    "\n",
    "jsonList = []\n",
    "\n",
    "for cluster in clusters:\n",
    "    jsonList.append({\n",
    "        'id': uuid.uuid4().hex,\n",
    "        'number': cluster,\n",
    "        'modules': [\n",
    "             # create a list of objects for each module in the cluster with a single key of id\n",
    "            {\n",
    "                'id': module\n",
    "            } for module in modules if moduleDF.loc[moduleDF['id'] == module, 'cluster'].iloc[0] == cluster\n",
    "        ]\n",
    "    })\n",
    "\n",
    "payload = {\n",
    "    \"collections\": sorted(jsonList, key=lambda x: x['number'])\n",
    "}\n",
    "\n",
    "json_payload = json.dumps(payload, indent=2)\n",
    "\n",
    "print(json_payload)"
   ],
   "metadata": {
    "collapsed": false,
    "ExecuteTime": {
     "end_time": "2023-05-25T18:08:02.439593Z",
     "start_time": "2023-05-25T18:08:02.438184Z"
    }
   }
  },
  {
   "cell_type": "code",
   "execution_count": 133,
   "outputs": [],
   "source": [
    "# save json payload as json file\n",
    "\n",
    "with open('enma603.json', 'w') as outfile:\n",
    "    json.dump(payload, outfile, indent=2)"
   ],
   "metadata": {
    "collapsed": false,
    "ExecuteTime": {
     "end_time": "2023-05-25T18:08:13.693817Z",
     "start_time": "2023-05-25T18:08:13.688393Z"
    }
   }
  },
  {
   "cell_type": "markdown",
   "source": [
    "TODO:\n",
    "1. Separate the clusters into groups of sections based on the similarity of the modules within the cluster. More similar clusters should be grouped together\n",
    "2. Map the created sections to existing sections for the given course from the DB\n",
    "3. Generate a learning path for the single course, it's sections, it's collections, and it's modules\n",
    "4. Generate learning outcomes for the course, based on the sections that are mapped to the course\n",
    "5. Aggregate the number of hours for the entire path and add the value to the hours satisfies property in the final path json object\n"
   ],
   "metadata": {
    "collapsed": false
   }
  },
  {
   "cell_type": "code",
   "execution_count": 139,
   "outputs": [
    {
     "data": {
      "text/plain": "          2         4         1         3         7         5         6  \\\n2  1.000000  0.260004  0.417841  0.434058  0.069046  0.272894  0.272448   \n4  0.260004  1.000000  0.225192  0.311935  0.070460  0.186420  0.289590   \n1  0.417841  0.225192  1.000000  0.581854  0.041660  0.246758  0.310582   \n3  0.434058  0.311935  0.581854  1.000000  0.058133  0.379184  0.578027   \n7  0.069046  0.070460  0.041660  0.058133  1.000000  0.044488  0.051475   \n5  0.272894  0.186420  0.246758  0.379184  0.044488  1.000000  0.325593   \n6  0.272448  0.289590  0.310582  0.578027  0.051475  0.325593  1.000000   \n8  0.164716  0.061729  0.063970  0.070912  0.033422  0.061030  0.053577   \n0  0.122356  0.055778  0.068952  0.067981  0.024852  0.062531  0.049425   \n\n          8         0  \n2  0.164716  0.122356  \n4  0.061729  0.055778  \n1  0.063970  0.068952  \n3  0.070912  0.067981  \n7  0.033422  0.024852  \n5  0.061030  0.062531  \n6  0.053577  0.049425  \n8  1.000000  0.106605  \n0  0.106605  1.000000  ",
      "text/html": "<div>\n<style scoped>\n    .dataframe tbody tr th:only-of-type {\n        vertical-align: middle;\n    }\n\n    .dataframe tbody tr th {\n        vertical-align: top;\n    }\n\n    .dataframe thead th {\n        text-align: right;\n    }\n</style>\n<table border=\"1\" class=\"dataframe\">\n  <thead>\n    <tr style=\"text-align: right;\">\n      <th></th>\n      <th>2</th>\n      <th>4</th>\n      <th>1</th>\n      <th>3</th>\n      <th>7</th>\n      <th>5</th>\n      <th>6</th>\n      <th>8</th>\n      <th>0</th>\n    </tr>\n  </thead>\n  <tbody>\n    <tr>\n      <th>2</th>\n      <td>1.000000</td>\n      <td>0.260004</td>\n      <td>0.417841</td>\n      <td>0.434058</td>\n      <td>0.069046</td>\n      <td>0.272894</td>\n      <td>0.272448</td>\n      <td>0.164716</td>\n      <td>0.122356</td>\n    </tr>\n    <tr>\n      <th>4</th>\n      <td>0.260004</td>\n      <td>1.000000</td>\n      <td>0.225192</td>\n      <td>0.311935</td>\n      <td>0.070460</td>\n      <td>0.186420</td>\n      <td>0.289590</td>\n      <td>0.061729</td>\n      <td>0.055778</td>\n    </tr>\n    <tr>\n      <th>1</th>\n      <td>0.417841</td>\n      <td>0.225192</td>\n      <td>1.000000</td>\n      <td>0.581854</td>\n      <td>0.041660</td>\n      <td>0.246758</td>\n      <td>0.310582</td>\n      <td>0.063970</td>\n      <td>0.068952</td>\n    </tr>\n    <tr>\n      <th>3</th>\n      <td>0.434058</td>\n      <td>0.311935</td>\n      <td>0.581854</td>\n      <td>1.000000</td>\n      <td>0.058133</td>\n      <td>0.379184</td>\n      <td>0.578027</td>\n      <td>0.070912</td>\n      <td>0.067981</td>\n    </tr>\n    <tr>\n      <th>7</th>\n      <td>0.069046</td>\n      <td>0.070460</td>\n      <td>0.041660</td>\n      <td>0.058133</td>\n      <td>1.000000</td>\n      <td>0.044488</td>\n      <td>0.051475</td>\n      <td>0.033422</td>\n      <td>0.024852</td>\n    </tr>\n    <tr>\n      <th>5</th>\n      <td>0.272894</td>\n      <td>0.186420</td>\n      <td>0.246758</td>\n      <td>0.379184</td>\n      <td>0.044488</td>\n      <td>1.000000</td>\n      <td>0.325593</td>\n      <td>0.061030</td>\n      <td>0.062531</td>\n    </tr>\n    <tr>\n      <th>6</th>\n      <td>0.272448</td>\n      <td>0.289590</td>\n      <td>0.310582</td>\n      <td>0.578027</td>\n      <td>0.051475</td>\n      <td>0.325593</td>\n      <td>1.000000</td>\n      <td>0.053577</td>\n      <td>0.049425</td>\n    </tr>\n    <tr>\n      <th>8</th>\n      <td>0.164716</td>\n      <td>0.061729</td>\n      <td>0.063970</td>\n      <td>0.070912</td>\n      <td>0.033422</td>\n      <td>0.061030</td>\n      <td>0.053577</td>\n      <td>1.000000</td>\n      <td>0.106605</td>\n    </tr>\n    <tr>\n      <th>0</th>\n      <td>0.122356</td>\n      <td>0.055778</td>\n      <td>0.068952</td>\n      <td>0.067981</td>\n      <td>0.024852</td>\n      <td>0.062531</td>\n      <td>0.049425</td>\n      <td>0.106605</td>\n      <td>1.000000</td>\n    </tr>\n  </tbody>\n</table>\n</div>"
     },
     "execution_count": 139,
     "metadata": {},
     "output_type": "execute_result"
    }
   ],
   "source": [
    "# calculate the similarity between each collection\n",
    "\n",
    "from sklearn.metrics.pairwise import cosine_similarity\n",
    "\n",
    "cluster_similarity_df = pd.DataFrame(columns=clusters, index=clusters)\n",
    "\n",
    "for cluster in clusters:\n",
    "    for cluster2 in clusters:\n",
    "        cluster_similarity_df.loc[cluster, cluster2] = cosine_similarity(\n",
    "            np.asarray(X[moduleDF.loc[moduleDF['cluster'] == cluster].index.tolist()].mean(axis=0)),\n",
    "            np.asarray(X[moduleDF.loc[moduleDF['cluster'] == cluster2].index.tolist()].mean(axis=0))\n",
    "        )[0][0]\n",
    "\n",
    "cluster_similarity_df = cluster_similarity_df.astype(float)\n",
    "\n",
    "cluster_similarity_df.head(20)"
   ],
   "metadata": {
    "collapsed": false,
    "ExecuteTime": {
     "end_time": "2023-05-25T18:11:13.686948Z",
     "start_time": "2023-05-25T18:11:13.633414Z"
    }
   }
  },
  {
   "cell_type": "code",
   "execution_count": 140,
   "outputs": [
    {
     "data": {
      "text/plain": "<Figure size 1000x1000 with 2 Axes>",
      "image/png": "[encoded data removed]"
     },
     "metadata": {},
     "output_type": "display_data"
    }
   ],
   "source": [
    "# visualize the similarity between clusters\n",
    "\n",
    "fig, ax = plt.subplots(figsize=(10, 10))\n",
    "\n",
    "sns.heatmap(cluster_similarity_df, annot=True, ax=ax)\n",
    "\n",
    "ax.set_title('ENMA 603 - Cluster Similarity')\n",
    "\n",
    "plt.show()"
   ],
   "metadata": {
    "collapsed": false,
    "ExecuteTime": {
     "end_time": "2023-05-25T18:11:23.679997Z",
     "start_time": "2023-05-25T18:11:23.504882Z"
    }
   }
  },
  {
   "cell_type": "markdown",
   "source": [
    "From the heatmap we can see that\n",
    "- clusters 3, 6 and 1 are the most similar to each other\n",
    "- clusters 2, 4 and 5 are somewhat similar to each other\n",
    "- clusters 0, 7 and 8 are the least similar to every other cluster, so they should be seperated into their own sections"
   ],
   "metadata": {
    "collapsed": false
   }
  },
  {
   "cell_type": "code",
   "execution_count": 176,
   "outputs": [
    {
     "data": {
      "text/plain": "[[2, 1, 3, 6, 4, 5], [4, 3, 2, 1, 6, 5], [7], [8], [0]]"
     },
     "execution_count": 176,
     "metadata": {},
     "output_type": "execute_result"
    }
   ],
   "source": [
    "# create a list of sections based on the similarity of the clusters\n",
    "# each cluster should only be in a single section\n",
    "# the sections should be a list of clusters\n",
    "\n",
    "sections = []\n",
    "\n",
    "for cluster in clusters:\n",
    "    if cluster not in [item for sublist in sections for item in sublist]:\n",
    "        sections.append([cluster])\n",
    "\n",
    "    for cluster2 in clusters:\n",
    "        if cluster != cluster2 and cluster_similarity_df.loc[cluster, cluster2] > 0.3:\n",
    "            for section in sections:\n",
    "                if cluster in section and cluster2 not in section:\n",
    "                    section.append(cluster2)\n",
    "                    break\n",
    "                else:\n",
    "                    if cluster not in [item for sublist in sections for item in sublist]:\n",
    "                        sections.append([cluster])\n",
    "                    if cluster2 not in [item for sublist in sections for item in sublist]:\n",
    "                        sections.append([cluster2])\n",
    "\n",
    "sections"
   ],
   "metadata": {
    "collapsed": false,
    "ExecuteTime": {
     "end_time": "2023-05-25T18:42:45.627484Z",
     "start_time": "2023-05-25T18:42:45.617254Z"
    }
   }
  },
  {
   "cell_type": "code",
   "execution_count": 174,
   "outputs": [
    {
     "name": "stdout",
     "output_type": "stream",
     "text": [
      "{\n",
      "  \"id\": \"97baa2a36ead4a43abdcace5e92f2a75\",\n",
      "  \"sections\": [\n",
      "    {\n",
      "      \"id\": \"6fca1705f4ed40768441055370d73280\",\n",
      "      \"number\": 0,\n",
      "      \"collections\": [\n",
      "        {\n",
      "          \"id\": \"9b4a6a6894044eb6bd69c0e3c1c1ad3d\",\n",
      "          \"cluster\": 2,\n",
      "          \"modules\": [\n",
      "            {\n",
      "              \"id\": \"644827afc3faa4c9ea96a800\"\n",
      "            },\n",
      "            {\n",
      "              \"id\": \"64496079d5fb014e40d5ea39\"\n",
      "            },\n",
      "            {\n",
      "              \"id\": \"644960add5fb014e40d5ea3a\"\n",
      "            },\n",
      "            {\n",
      "              \"id\": \"644960bcd5fb014e40d5ea3b\"\n",
      "            },\n",
      "            {\n",
      "              \"id\": \"64511f49f9ce74323575fffe\"\n",
      "            },\n",
      "            {\n",
      "              \"id\": \"646273ce39769687f2a6d860\"\n",
      "            },\n",
      "            {\n",
      "              \"id\": \"6462747b39769687f2a6d864\"\n",
      "            },\n",
      "            {\n",
      "              \"id\": \"646274e939769687f2a6d867\"\n",
      "            },\n",
      "            {\n",
      "              \"id\": \"646506c28019c4d441f6ec0a\"\n",
      "            },\n",
      "            {\n",
      "              \"id\": \"646506c28019c4d441f6ec0b\"\n",
      "            },\n",
      "            {\n",
      "              \"id\": \"646506c28019c4d441f6ec0c\"\n",
      "            },\n",
      "            {\n",
      "              \"id\": \"646506c28019c4d441f6ec0d\"\n",
      "            },\n",
      "            {\n",
      "              \"id\": \"646506c28019c4d441f6ec0e\"\n",
      "            },\n",
      "            {\n",
      "              \"id\": \"646506c28019c4d441f6ec10\"\n",
      "            },\n",
      "            {\n",
      "              \"id\": \"646506f28019c4d441f6ec19\"\n",
      "            },\n",
      "            {\n",
      "              \"id\": \"646506f28019c4d441f6ec1b\"\n",
      "            },\n",
      "            {\n",
      "              \"id\": \"646506f28019c4d441f6ec1c\"\n",
      "            },\n",
      "            {\n",
      "              \"id\": \"646506f48019c4d441f6ec27\"\n",
      "            },\n",
      "            {\n",
      "              \"id\": \"646506f48019c4d441f6ec29\"\n",
      "            }\n",
      "          ]\n",
      "        },\n",
      "        {\n",
      "          \"id\": \"eab92041da354fe1b0215ec0dff126fe\",\n",
      "          \"cluster\": 1,\n",
      "          \"modules\": [\n",
      "            {\n",
      "              \"id\": \"64511f4bf9ce74323575ffff\"\n",
      "            },\n",
      "            {\n",
      "              \"id\": \"646506c28019c4d441f6ec0f\"\n",
      "            },\n",
      "            {\n",
      "              \"id\": \"646506c38019c4d441f6ec12\"\n",
      "            },\n",
      "            {\n",
      "              \"id\": \"646506f18019c4d441f6ec13\"\n",
      "            },\n",
      "            {\n",
      "              \"id\": \"646506f18019c4d441f6ec14\"\n",
      "            },\n",
      "            {\n",
      "              \"id\": \"646506f18019c4d441f6ec15\"\n",
      "            },\n",
      "            {\n",
      "              \"id\": \"646506f28019c4d441f6ec18\"\n",
      "            },\n",
      "            {\n",
      "              \"id\": \"646506f28019c4d441f6ec1a\"\n",
      "            },\n",
      "            {\n",
      "              \"id\": \"646506f38019c4d441f6ec24\"\n",
      "            }\n",
      "          ]\n",
      "        },\n",
      "        {\n",
      "          \"id\": \"0b1c8e6780bf44de954b014452bfec0d\",\n",
      "          \"cluster\": 3,\n",
      "          \"modules\": [\n",
      "            {\n",
      "              \"id\": \"646270b939769687f2a6d858\"\n",
      "            },\n",
      "            {\n",
      "              \"id\": \"6462756339769687f2a6d86a\"\n",
      "            },\n",
      "            {\n",
      "              \"id\": \"646506c28019c4d441f6ec11\"\n",
      "            },\n",
      "            {\n",
      "              \"id\": \"646506f18019c4d441f6ec16\"\n",
      "            },\n",
      "            {\n",
      "              \"id\": \"646506f28019c4d441f6ec17\"\n",
      "            },\n",
      "            {\n",
      "              \"id\": \"646506f48019c4d441f6ec2c\"\n",
      "            },\n",
      "            {\n",
      "              \"id\": \"646506f48019c4d441f6ec2d\"\n",
      "            },\n",
      "            {\n",
      "              \"id\": \"646506f48019c4d441f6ec2e\"\n",
      "            },\n",
      "            {\n",
      "              \"id\": \"646506f58019c4d441f6ec30\"\n",
      "            }\n",
      "          ]\n",
      "        },\n",
      "        {\n",
      "          \"id\": \"80899943ff3741b88901ae088f3acb41\",\n",
      "          \"cluster\": 6,\n",
      "          \"modules\": [\n",
      "            {\n",
      "              \"id\": \"6462758c39769687f2a6d86b\"\n",
      "            },\n",
      "            {\n",
      "              \"id\": \"646506f28019c4d441f6ec1e\"\n",
      "            },\n",
      "            {\n",
      "              \"id\": \"646506f38019c4d441f6ec1f\"\n",
      "            },\n",
      "            {\n",
      "              \"id\": \"646506f38019c4d441f6ec20\"\n",
      "            },\n",
      "            {\n",
      "              \"id\": \"646506f38019c4d441f6ec21\"\n",
      "            },\n",
      "            {\n",
      "              \"id\": \"646506f38019c4d441f6ec22\"\n",
      "            },\n",
      "            {\n",
      "              \"id\": \"646506f38019c4d441f6ec23\"\n",
      "            }\n",
      "          ]\n",
      "        },\n",
      "        {\n",
      "          \"id\": \"87827d5f6e4a47398256f808cb9383fd\",\n",
      "          \"cluster\": 4,\n",
      "          \"modules\": [\n",
      "            {\n",
      "              \"id\": \"64496111d5fb014e40d5ea3c\"\n",
      "            },\n",
      "            {\n",
      "              \"id\": \"6462741d39769687f2a6d862\"\n",
      "            },\n",
      "            {\n",
      "              \"id\": \"6462745c39769687f2a6d863\"\n",
      "            },\n",
      "            {\n",
      "              \"id\": \"6462749a39769687f2a6d865\"\n",
      "            },\n",
      "            {\n",
      "              \"id\": \"646275ce39769687f2a6d86d\"\n",
      "            },\n",
      "            {\n",
      "              \"id\": \"646275e739769687f2a6d86e\"\n",
      "            },\n",
      "            {\n",
      "              \"id\": \"646506f28019c4d441f6ec1d\"\n",
      "            },\n",
      "            {\n",
      "              \"id\": \"646506f38019c4d441f6ec26\"\n",
      "            },\n",
      "            {\n",
      "              \"id\": \"646506f58019c4d441f6ec31\"\n",
      "            },\n",
      "            {\n",
      "              \"id\": \"646506f58019c4d441f6ec32\"\n",
      "            }\n",
      "          ]\n",
      "        },\n",
      "        {\n",
      "          \"id\": \"8b47b6bd3d6740209bf430fa0f973eae\",\n",
      "          \"cluster\": 5,\n",
      "          \"modules\": [\n",
      "            {\n",
      "              \"id\": \"646274c539769687f2a6d866\"\n",
      "            },\n",
      "            {\n",
      "              \"id\": \"6462750d39769687f2a6d868\"\n",
      "            },\n",
      "            {\n",
      "              \"id\": \"6462752e39769687f2a6d869\"\n",
      "            },\n",
      "            {\n",
      "              \"id\": \"646275a839769687f2a6d86c\"\n",
      "            },\n",
      "            {\n",
      "              \"id\": \"646506f48019c4d441f6ec28\"\n",
      "            },\n",
      "            {\n",
      "              \"id\": \"646506f48019c4d441f6ec2a\"\n",
      "            },\n",
      "            {\n",
      "              \"id\": \"646506f48019c4d441f6ec2b\"\n",
      "            },\n",
      "            {\n",
      "              \"id\": \"646506f58019c4d441f6ec2f\"\n",
      "            },\n",
      "            {\n",
      "              \"id\": \"646506f58019c4d441f6ec33\"\n",
      "            },\n",
      "            {\n",
      "              \"id\": \"646506f68019c4d441f6ec37\"\n",
      "            }\n",
      "          ]\n",
      "        }\n",
      "      ]\n",
      "    },\n",
      "    {\n",
      "      \"id\": \"43c1a1565e644551aab82dff339e0619\",\n",
      "      \"number\": 1,\n",
      "      \"collections\": [\n",
      "        {\n",
      "          \"id\": \"c52dc4bd64364353b502280a76fc67c8\",\n",
      "          \"cluster\": 4,\n",
      "          \"modules\": [\n",
      "            {\n",
      "              \"id\": \"64496111d5fb014e40d5ea3c\"\n",
      "            },\n",
      "            {\n",
      "              \"id\": \"6462741d39769687f2a6d862\"\n",
      "            },\n",
      "            {\n",
      "              \"id\": \"6462745c39769687f2a6d863\"\n",
      "            },\n",
      "            {\n",
      "              \"id\": \"6462749a39769687f2a6d865\"\n",
      "            },\n",
      "            {\n",
      "              \"id\": \"646275ce39769687f2a6d86d\"\n",
      "            },\n",
      "            {\n",
      "              \"id\": \"646275e739769687f2a6d86e\"\n",
      "            },\n",
      "            {\n",
      "              \"id\": \"646506f28019c4d441f6ec1d\"\n",
      "            },\n",
      "            {\n",
      "              \"id\": \"646506f38019c4d441f6ec26\"\n",
      "            },\n",
      "            {\n",
      "              \"id\": \"646506f58019c4d441f6ec31\"\n",
      "            },\n",
      "            {\n",
      "              \"id\": \"646506f58019c4d441f6ec32\"\n",
      "            }\n",
      "          ]\n",
      "        },\n",
      "        {\n",
      "          \"id\": \"944c3c7f01804acd981b8d2105ab32b9\",\n",
      "          \"cluster\": 3,\n",
      "          \"modules\": [\n",
      "            {\n",
      "              \"id\": \"646270b939769687f2a6d858\"\n",
      "            },\n",
      "            {\n",
      "              \"id\": \"6462756339769687f2a6d86a\"\n",
      "            },\n",
      "            {\n",
      "              \"id\": \"646506c28019c4d441f6ec11\"\n",
      "            },\n",
      "            {\n",
      "              \"id\": \"646506f18019c4d441f6ec16\"\n",
      "            },\n",
      "            {\n",
      "              \"id\": \"646506f28019c4d441f6ec17\"\n",
      "            },\n",
      "            {\n",
      "              \"id\": \"646506f48019c4d441f6ec2c\"\n",
      "            },\n",
      "            {\n",
      "              \"id\": \"646506f48019c4d441f6ec2d\"\n",
      "            },\n",
      "            {\n",
      "              \"id\": \"646506f48019c4d441f6ec2e\"\n",
      "            },\n",
      "            {\n",
      "              \"id\": \"646506f58019c4d441f6ec30\"\n",
      "            }\n",
      "          ]\n",
      "        },\n",
      "        {\n",
      "          \"id\": \"e41f2466f34f41fabaf3f1111285f6ae\",\n",
      "          \"cluster\": 2,\n",
      "          \"modules\": [\n",
      "            {\n",
      "              \"id\": \"644827afc3faa4c9ea96a800\"\n",
      "            },\n",
      "            {\n",
      "              \"id\": \"64496079d5fb014e40d5ea39\"\n",
      "            },\n",
      "            {\n",
      "              \"id\": \"644960add5fb014e40d5ea3a\"\n",
      "            },\n",
      "            {\n",
      "              \"id\": \"644960bcd5fb014e40d5ea3b\"\n",
      "            },\n",
      "            {\n",
      "              \"id\": \"64511f49f9ce74323575fffe\"\n",
      "            },\n",
      "            {\n",
      "              \"id\": \"646273ce39769687f2a6d860\"\n",
      "            },\n",
      "            {\n",
      "              \"id\": \"6462747b39769687f2a6d864\"\n",
      "            },\n",
      "            {\n",
      "              \"id\": \"646274e939769687f2a6d867\"\n",
      "            },\n",
      "            {\n",
      "              \"id\": \"646506c28019c4d441f6ec0a\"\n",
      "            },\n",
      "            {\n",
      "              \"id\": \"646506c28019c4d441f6ec0b\"\n",
      "            },\n",
      "            {\n",
      "              \"id\": \"646506c28019c4d441f6ec0c\"\n",
      "            },\n",
      "            {\n",
      "              \"id\": \"646506c28019c4d441f6ec0d\"\n",
      "            },\n",
      "            {\n",
      "              \"id\": \"646506c28019c4d441f6ec0e\"\n",
      "            },\n",
      "            {\n",
      "              \"id\": \"646506c28019c4d441f6ec10\"\n",
      "            },\n",
      "            {\n",
      "              \"id\": \"646506f28019c4d441f6ec19\"\n",
      "            },\n",
      "            {\n",
      "              \"id\": \"646506f28019c4d441f6ec1b\"\n",
      "            },\n",
      "            {\n",
      "              \"id\": \"646506f28019c4d441f6ec1c\"\n",
      "            },\n",
      "            {\n",
      "              \"id\": \"646506f48019c4d441f6ec27\"\n",
      "            },\n",
      "            {\n",
      "              \"id\": \"646506f48019c4d441f6ec29\"\n",
      "            }\n",
      "          ]\n",
      "        },\n",
      "        {\n",
      "          \"id\": \"f87fe65b24a04ea994f10995e08e8bea\",\n",
      "          \"cluster\": 1,\n",
      "          \"modules\": [\n",
      "            {\n",
      "              \"id\": \"64511f4bf9ce74323575ffff\"\n",
      "            },\n",
      "            {\n",
      "              \"id\": \"646506c28019c4d441f6ec0f\"\n",
      "            },\n",
      "            {\n",
      "              \"id\": \"646506c38019c4d441f6ec12\"\n",
      "            },\n",
      "            {\n",
      "              \"id\": \"646506f18019c4d441f6ec13\"\n",
      "            },\n",
      "            {\n",
      "              \"id\": \"646506f18019c4d441f6ec14\"\n",
      "            },\n",
      "            {\n",
      "              \"id\": \"646506f18019c4d441f6ec15\"\n",
      "            },\n",
      "            {\n",
      "              \"id\": \"646506f28019c4d441f6ec18\"\n",
      "            },\n",
      "            {\n",
      "              \"id\": \"646506f28019c4d441f6ec1a\"\n",
      "            },\n",
      "            {\n",
      "              \"id\": \"646506f38019c4d441f6ec24\"\n",
      "            }\n",
      "          ]\n",
      "        },\n",
      "        {\n",
      "          \"id\": \"18d6d3b81dd24fd1a99e741843e9b62c\",\n",
      "          \"cluster\": 6,\n",
      "          \"modules\": [\n",
      "            {\n",
      "              \"id\": \"6462758c39769687f2a6d86b\"\n",
      "            },\n",
      "            {\n",
      "              \"id\": \"646506f28019c4d441f6ec1e\"\n",
      "            },\n",
      "            {\n",
      "              \"id\": \"646506f38019c4d441f6ec1f\"\n",
      "            },\n",
      "            {\n",
      "              \"id\": \"646506f38019c4d441f6ec20\"\n",
      "            },\n",
      "            {\n",
      "              \"id\": \"646506f38019c4d441f6ec21\"\n",
      "            },\n",
      "            {\n",
      "              \"id\": \"646506f38019c4d441f6ec22\"\n",
      "            },\n",
      "            {\n",
      "              \"id\": \"646506f38019c4d441f6ec23\"\n",
      "            }\n",
      "          ]\n",
      "        },\n",
      "        {\n",
      "          \"id\": \"4f9d5af962704a5c9b1d997454d9adf3\",\n",
      "          \"cluster\": 5,\n",
      "          \"modules\": [\n",
      "            {\n",
      "              \"id\": \"646274c539769687f2a6d866\"\n",
      "            },\n",
      "            {\n",
      "              \"id\": \"6462750d39769687f2a6d868\"\n",
      "            },\n",
      "            {\n",
      "              \"id\": \"6462752e39769687f2a6d869\"\n",
      "            },\n",
      "            {\n",
      "              \"id\": \"646275a839769687f2a6d86c\"\n",
      "            },\n",
      "            {\n",
      "              \"id\": \"646506f48019c4d441f6ec28\"\n",
      "            },\n",
      "            {\n",
      "              \"id\": \"646506f48019c4d441f6ec2a\"\n",
      "            },\n",
      "            {\n",
      "              \"id\": \"646506f48019c4d441f6ec2b\"\n",
      "            },\n",
      "            {\n",
      "              \"id\": \"646506f58019c4d441f6ec2f\"\n",
      "            },\n",
      "            {\n",
      "              \"id\": \"646506f58019c4d441f6ec33\"\n",
      "            },\n",
      "            {\n",
      "              \"id\": \"646506f68019c4d441f6ec37\"\n",
      "            }\n",
      "          ]\n",
      "        }\n",
      "      ]\n",
      "    },\n",
      "    {\n",
      "      \"id\": \"fed9cd8bb02947c5a178d444879ef610\",\n",
      "      \"number\": 2,\n",
      "      \"collections\": [\n",
      "        {\n",
      "          \"id\": \"ce39f84e47fe4cd5b235c4ce6832fed3\",\n",
      "          \"cluster\": 7,\n",
      "          \"modules\": [\n",
      "            {\n",
      "              \"id\": \"646273e539769687f2a6d861\"\n",
      "            },\n",
      "            {\n",
      "              \"id\": \"646506f38019c4d441f6ec25\"\n",
      "            }\n",
      "          ]\n",
      "        }\n",
      "      ]\n",
      "    },\n",
      "    {\n",
      "      \"id\": \"52abb5a88e8d45949b04f5701dd602c2\",\n",
      "      \"number\": 3,\n",
      "      \"collections\": [\n",
      "        {\n",
      "          \"id\": \"0def0942f4a84f0db63220cb73d35e4e\",\n",
      "          \"cluster\": 8,\n",
      "          \"modules\": [\n",
      "            {\n",
      "              \"id\": \"6462763e39769687f2a6d86f\"\n",
      "            },\n",
      "            {\n",
      "              \"id\": \"6462765939769687f2a6d870\"\n",
      "            },\n",
      "            {\n",
      "              \"id\": \"6462768539769687f2a6d871\"\n",
      "            },\n",
      "            {\n",
      "              \"id\": \"646506f68019c4d441f6ec34\"\n",
      "            },\n",
      "            {\n",
      "              \"id\": \"646506f68019c4d441f6ec35\"\n",
      "            },\n",
      "            {\n",
      "              \"id\": \"646506f68019c4d441f6ec36\"\n",
      "            }\n",
      "          ]\n",
      "        }\n",
      "      ]\n",
      "    },\n",
      "    {\n",
      "      \"id\": \"288972cfca1e4e44a048b6798c517a8f\",\n",
      "      \"number\": 4,\n",
      "      \"collections\": [\n",
      "        {\n",
      "          \"id\": \"403d2792451c462f8f75396635ffe4cb\",\n",
      "          \"cluster\": 0,\n",
      "          \"modules\": [\n",
      "            {\n",
      "              \"id\": \"64627a0e39769687f2a6d872\"\n",
      "            },\n",
      "            {\n",
      "              \"id\": \"64627a2739769687f2a6d873\"\n",
      "            },\n",
      "            {\n",
      "              \"id\": \"64627a3b39769687f2a6d874\"\n",
      "            },\n",
      "            {\n",
      "              \"id\": \"64627c5239769687f2a6d875\"\n",
      "            },\n",
      "            {\n",
      "              \"id\": \"646506f68019c4d441f6ec38\"\n",
      "            },\n",
      "            {\n",
      "              \"id\": \"646506f78019c4d441f6ec39\"\n",
      "            },\n",
      "            {\n",
      "              \"id\": \"646506f78019c4d441f6ec3a\"\n",
      "            },\n",
      "            {\n",
      "              \"id\": \"646506f78019c4d441f6ec3b\"\n",
      "            },\n",
      "            {\n",
      "              \"id\": \"646506f78019c4d441f6ec3c\"\n",
      "            }\n",
      "          ]\n",
      "        }\n",
      "      ]\n",
      "    }\n",
      "  ]\n",
      "}\n"
     ]
    }
   ],
   "source": [
    "# convert the sections list to a json object with its list of clusters and each clusters list of modules\n",
    "# TODO: filter out duplicate clusters from the sections list before converting to json\n",
    "\n",
    "jsonList = []\n",
    "\n",
    "for section in sections:\n",
    "    jsonList.append({\n",
    "        'id': uuid.uuid4().hex,\n",
    "        'number': sections.index(section),\n",
    "        'collections': [\n",
    "            {\n",
    "                'id': uuid.uuid4().hex,\n",
    "                'cluster': cluster,\n",
    "                'modules': [\n",
    "                    {\n",
    "                        'id': module\n",
    "                    } for module in modules if moduleDF.loc[moduleDF['id'] == module, 'cluster'].iloc[0] == cluster\n",
    "                ]\n",
    "            } for cluster in section\n",
    "        ]\n",
    "    })\n",
    "\n",
    "payload = {\n",
    "    'id': uuid.uuid4().hex,\n",
    "    \"sections\": sorted(jsonList, key=lambda x: x['number'])\n",
    "}\n",
    "\n",
    "json_payload = json.dumps(payload, indent=2)\n",
    "\n",
    "print(json_payload)"
   ],
   "metadata": {
    "collapsed": false,
    "ExecuteTime": {
     "end_time": "2023-05-25T18:40:16.103018Z",
     "start_time": "2023-05-25T18:40:16.064574Z"
    }
   }
  },
  {
   "cell_type": "code",
   "execution_count": 175,
   "outputs": [],
   "source": [
    "# save json payload as json file\n",
    "\n",
    "with open('enma603_sections.json', 'w') as outfile:\n",
    "    json.dump(payload, outfile, indent=2)"
   ],
   "metadata": {
    "collapsed": false,
    "ExecuteTime": {
     "end_time": "2023-05-25T18:40:40.254210Z",
     "start_time": "2023-05-25T18:40:40.230653Z"
    }
   }
  }
 ],
 "metadata": {
  "kernelspec": {
   "display_name": "Python 3",
   "language": "python",
   "name": "python3"
  },
  "language_info": {
   "codemirror_mode": {
    "name": "ipython",
    "version": 2
   },
   "file_extension": ".py",
   "mimetype": "text/x-python",
   "name": "python",
   "nbconvert_exporter": "python",
   "pygments_lexer": "ipython2",
   "version": "2.7.6"
  }
 },
 "nbformat": 4,
 "nbformat_minor": 0
}
