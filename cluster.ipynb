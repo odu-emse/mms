{
 "cells": [
  {
   "cell_type": "code",
   "execution_count": 189,
   "metadata": {
    "collapsed": true,
    "ExecuteTime": {
     "end_time": "2023-05-25T16:33:24.056785Z",
     "start_time": "2023-05-25T16:33:24.041282Z"
    }
   },
   "outputs": [],
   "source": [
    "import numpy as np\n",
    "import requests\n",
    "import pandas as pd\n",
    "import nltk\n",
    "from nltk import word_tokenize\n",
    "from nltk.stem import PorterStemmer\n",
    "from sklearn.feature_extraction.text import CountVectorizer\n",
    "from sklearn.feature_extraction.text import TfidfVectorizer\n",
    "from sklearn.metrics import silhouette_score\n",
    "from nltk.corpus import stopwords\n",
    "from matplotlib import pyplot as plt\n",
    "import seaborn as sns\n",
    "cv = CountVectorizer()\n",
    "# nltk.download(\"stopwords\")\n",
    "# nltk.download('punkt')\n",
    "stop_words = set(stopwords.words(\"english\"))\n",
    "\n",
    "# stop_words.add('module')\n",
    "# stop_words.add('section')\n",
    "# stop_words.add('learning')\n",
    "# stop_words.add('objective')\n",
    "# stop_words.add('description')\n",
    "# stop_words.add('instructor')\n",
    "# stop_words.add('lp')\n",
    "stop_words.add('also')\n",
    "stop_words.add('understanding')\n",
    "stop_words.add('end')\n",
    "stop_words.add('youll')\n",
    "stop_words.add('well')\n",
    "stop_words.add('include')\n",
    "stop_words.add('time')\n",
    "stop_words.add('goal')\n",
    "stop_words.add('path')\n",
    "# stop_words.add('problem')\n",
    "stop_words.add('total')\n",
    "stop_words.add('go')\n",
    "stop_words.add('students')\n",
    "stop_words.add('use')\n",
    "stop_words.add('using')\n",
    "stop_words.add('new')\n",
    "# stop_words.add('assignment')\n",
    "stop_words.add('job')\n",
    "stop_words.add('term')\n",
    "# stop_words.add('project')\n",
    "stop_words.add('find')\n",
    "stop_words.add('example')\n",
    "# stop_words.add('solution')\n",
    "stop_words.add('non')\n",
    "# stop_words.add('resource')\n",
    "stop_words.add('finally')\n",
    "stop_words.add('times')\n",
    "stop_words.add('learn')\n",
    "# stop_words.add('activity')\n",
    "stop_words.add('two')\n",
    "stop_words.add('field')\n",
    "stop_words.add('tools')\n",
    "stop_words.add('often')\n",
    "# stop_words.add('discuss')\n",
    "stop_words.add('use')\n",
    "stop_words.add('tip')\n",
    "stop_words.add('next')"
   ]
  },
  {
   "cell_type": "code",
   "execution_count": 190,
   "outputs": [],
   "source": [
    "url = 'http://localhost:4000/graphql'"
   ],
   "metadata": {
    "collapsed": false,
    "ExecuteTime": {
     "end_time": "2023-05-25T16:33:24.057572Z",
     "start_time": "2023-05-25T16:33:24.044787Z"
    }
   }
  },
  {
   "cell_type": "markdown",
   "source": [
    "# Data collection\n",
    "Get all the modules in the DB and convert it to a dataframe"
   ],
   "metadata": {
    "collapsed": false
   }
  },
  {
   "cell_type": "code",
   "execution_count": 191,
   "outputs": [],
   "source": [
    "# moduleData = requests.post(url, json={'query': '{ module(input:{}){id, name, prefix, hours, objectives, description, keywords} }'}).json()\n",
    "\n",
    "# load module data from json file\n",
    "import json\n",
    "with open('input/603_gpt.json') as json_file:\n",
    "    moduleData = json.load(json_file)\n",
    "\n",
    "# MODULE_COUNT = len(moduleData.get('data').get('module'))\n",
    "MODULE_COUNT = len(moduleData)\n",
    "CLUSTER_COUNT = np.sqrt(MODULE_COUNT)\n",
    "# CLUSTER_COUNT = 37"
   ],
   "metadata": {
    "collapsed": false,
    "ExecuteTime": {
     "end_time": "2023-05-25T16:33:24.071842Z",
     "start_time": "2023-05-25T16:33:24.047340Z"
    }
   }
  },
  {
   "cell_type": "code",
   "execution_count": 192,
   "outputs": [
    {
     "data": {
      "text/plain": "                         id                  name prefix  number  \\\n0  644827afc3faa4c9ea96a800     Linear Regression     DS      72   \n1  64496079d5fb014e40d5ea39  Statistical Analysis     DS       9   \n2  644960add5fb014e40d5ea3a            Logarithms     DS     121   \n3  644960bcd5fb014e40d5ea3b           Arithmetics     DS       2   \n4  64496111d5fb014e40d5ea3c    Euclidean distance     DS     887   \n\n                                          objectives  hours  \\\n0  [Linear Regression, Correlation, Regression An...   0.75   \n1  [Statistical Analysis, Descriptive Statistics,...   1.50   \n2  [Logarithms, Exponential Functions, Logarithmi...   2.00   \n3  [Arithmetic, Operations, Addition, Subtraction...   0.50   \n4  [Euclidean Distance, Distance Formula, Pythago...   2.25   \n\n                                         description  \\\n0  This module is designed to introduce students ...   \n1  This module is designed to teach students the ...   \n2  This module is designed to introduce students ...   \n3  This module is designed to teach students the ...   \n4  In this module, we'll be learning about the Eu...   \n\n                                            keywords  \n0  [Linear regression, Statistical technique, Mod...  \n1  [Statistical Analysis, Data Collection, Data O...  \n2  [Logarithms, Exponential equations, Problem-so...  \n3  [Arithmetic, Whole Number Operations, Fraction...  \n4  [Euclidean Distance, Mathematics, Computer Sci...  ",
      "text/html": "<div>\n<style scoped>\n    .dataframe tbody tr th:only-of-type {\n        vertical-align: middle;\n    }\n\n    .dataframe tbody tr th {\n        vertical-align: top;\n    }\n\n    .dataframe thead th {\n        text-align: right;\n    }\n</style>\n<table border=\"1\" class=\"dataframe\">\n  <thead>\n    <tr style=\"text-align: right;\">\n      <th></th>\n      <th>id</th>\n      <th>name</th>\n      <th>prefix</th>\n      <th>number</th>\n      <th>objectives</th>\n      <th>hours</th>\n      <th>description</th>\n      <th>keywords</th>\n    </tr>\n  </thead>\n  <tbody>\n    <tr>\n      <th>0</th>\n      <td>644827afc3faa4c9ea96a800</td>\n      <td>Linear Regression</td>\n      <td>DS</td>\n      <td>72</td>\n      <td>[Linear Regression, Correlation, Regression An...</td>\n      <td>0.75</td>\n      <td>This module is designed to introduce students ...</td>\n      <td>[Linear regression, Statistical technique, Mod...</td>\n    </tr>\n    <tr>\n      <th>1</th>\n      <td>64496079d5fb014e40d5ea39</td>\n      <td>Statistical Analysis</td>\n      <td>DS</td>\n      <td>9</td>\n      <td>[Statistical Analysis, Descriptive Statistics,...</td>\n      <td>1.50</td>\n      <td>This module is designed to teach students the ...</td>\n      <td>[Statistical Analysis, Data Collection, Data O...</td>\n    </tr>\n    <tr>\n      <th>2</th>\n      <td>644960add5fb014e40d5ea3a</td>\n      <td>Logarithms</td>\n      <td>DS</td>\n      <td>121</td>\n      <td>[Logarithms, Exponential Functions, Logarithmi...</td>\n      <td>2.00</td>\n      <td>This module is designed to introduce students ...</td>\n      <td>[Logarithms, Exponential equations, Problem-so...</td>\n    </tr>\n    <tr>\n      <th>3</th>\n      <td>644960bcd5fb014e40d5ea3b</td>\n      <td>Arithmetics</td>\n      <td>DS</td>\n      <td>2</td>\n      <td>[Arithmetic, Operations, Addition, Subtraction...</td>\n      <td>0.50</td>\n      <td>This module is designed to teach students the ...</td>\n      <td>[Arithmetic, Whole Number Operations, Fraction...</td>\n    </tr>\n    <tr>\n      <th>4</th>\n      <td>64496111d5fb014e40d5ea3c</td>\n      <td>Euclidean distance</td>\n      <td>DS</td>\n      <td>887</td>\n      <td>[Euclidean Distance, Distance Formula, Pythago...</td>\n      <td>2.25</td>\n      <td>In this module, we'll be learning about the Eu...</td>\n      <td>[Euclidean Distance, Mathematics, Computer Sci...</td>\n    </tr>\n  </tbody>\n</table>\n</div>"
     },
     "execution_count": 192,
     "metadata": {},
     "output_type": "execute_result"
    }
   ],
   "source": [
    "# moduleDF = pd.DataFrame(moduleData.get('data').get('module'))\n",
    "moduleDF = pd.DataFrame(moduleData)\n",
    "\n",
    "moduleDF.head()"
   ],
   "metadata": {
    "collapsed": false,
    "ExecuteTime": {
     "end_time": "2023-05-25T16:33:24.117950Z",
     "start_time": "2023-05-25T16:33:24.055948Z"
    }
   }
  },
  {
   "cell_type": "markdown",
   "source": [
    "# Verifying the sparsity of the dataset\n",
    "\n",
    "Since we have a lot of modules without a description, the results will be skewed towards the modules with a description or just overall more text content. In future works, it might be optimal to use a generative model to generate a description for the modules without one using the context clues from other features."
   ],
   "metadata": {
    "collapsed": false
   }
  },
  {
   "cell_type": "code",
   "execution_count": 193,
   "outputs": [
    {
     "data": {
      "text/plain": "Empty DataFrame\nColumns: [id, name, prefix, number, objectives, hours, description, keywords]\nIndex: []",
      "text/html": "<div>\n<style scoped>\n    .dataframe tbody tr th:only-of-type {\n        vertical-align: middle;\n    }\n\n    .dataframe tbody tr th {\n        vertical-align: top;\n    }\n\n    .dataframe thead th {\n        text-align: right;\n    }\n</style>\n<table border=\"1\" class=\"dataframe\">\n  <thead>\n    <tr style=\"text-align: right;\">\n      <th></th>\n      <th>id</th>\n      <th>name</th>\n      <th>prefix</th>\n      <th>number</th>\n      <th>objectives</th>\n      <th>hours</th>\n      <th>description</th>\n      <th>keywords</th>\n    </tr>\n  </thead>\n  <tbody>\n  </tbody>\n</table>\n</div>"
     },
     "execution_count": 193,
     "metadata": {},
     "output_type": "execute_result"
    }
   ],
   "source": [
    "moduleDF[moduleDF['description'] == '']"
   ],
   "metadata": {
    "collapsed": false,
    "ExecuteTime": {
     "end_time": "2023-05-25T16:33:24.118149Z",
     "start_time": "2023-05-25T16:33:24.060017Z"
    }
   }
  },
  {
   "cell_type": "markdown",
   "source": [
    "# Data cleaning and Feature engineering\n",
    "\n",
    "Merge all the text content into a single column for each module. This is an essential step to be able to perform the text analysis and text vectorization on the data"
   ],
   "metadata": {
    "collapsed": false
   }
  },
  {
   "cell_type": "code",
   "execution_count": 194,
   "outputs": [],
   "source": [
    "def scalar_to_str(df):\n",
    "    lst_o = list(df['objectives'])\n",
    "    lst_k = list(df['keywords'])\n",
    "\n",
    "    string_obj_feature = ''\n",
    "    string_key_feature = ''\n",
    "\n",
    "    for obj in lst_o:\n",
    "        string_obj_feature += obj + ', '\n",
    "\n",
    "    for key in lst_k:\n",
    "        string_key_feature += key + ', '\n",
    "\n",
    "    df['objectives'] = string_obj_feature\n",
    "    df['keywords'] = string_key_feature\n",
    "    return df\n",
    "\n",
    "moduleDF = moduleDF.apply(scalar_to_str, axis=1)"
   ],
   "metadata": {
    "collapsed": false,
    "ExecuteTime": {
     "end_time": "2023-05-25T16:33:24.118191Z",
     "start_time": "2023-05-25T16:33:24.066164Z"
    }
   }
  },
  {
   "cell_type": "code",
   "execution_count": 195,
   "outputs": [
    {
     "data": {
      "text/plain": "                         id true_cluster  hours  \\\n0  644827afc3faa4c9ea96a800           DS   0.75   \n1  64496079d5fb014e40d5ea39           DS   1.50   \n2  644960add5fb014e40d5ea3a           DS   2.00   \n3  644960bcd5fb014e40d5ea3b           DS   0.50   \n4  64496111d5fb014e40d5ea3c           DS   2.25   \n\n                                             feature  \n0  Linear Regression, Linear Regression, Correlat...  \n1  Statistical Analysis, Statistical Analysis, De...  \n2  Logarithms, Logarithms, Exponential Functions,...  \n3  Arithmetics, Arithmetic, Operations, Addition,...  \n4  Euclidean distance, Euclidean Distance, Distan...  ",
      "text/html": "<div>\n<style scoped>\n    .dataframe tbody tr th:only-of-type {\n        vertical-align: middle;\n    }\n\n    .dataframe tbody tr th {\n        vertical-align: top;\n    }\n\n    .dataframe thead th {\n        text-align: right;\n    }\n</style>\n<table border=\"1\" class=\"dataframe\">\n  <thead>\n    <tr style=\"text-align: right;\">\n      <th></th>\n      <th>id</th>\n      <th>true_cluster</th>\n      <th>hours</th>\n      <th>feature</th>\n    </tr>\n  </thead>\n  <tbody>\n    <tr>\n      <th>0</th>\n      <td>644827afc3faa4c9ea96a800</td>\n      <td>DS</td>\n      <td>0.75</td>\n      <td>Linear Regression, Linear Regression, Correlat...</td>\n    </tr>\n    <tr>\n      <th>1</th>\n      <td>64496079d5fb014e40d5ea39</td>\n      <td>DS</td>\n      <td>1.50</td>\n      <td>Statistical Analysis, Statistical Analysis, De...</td>\n    </tr>\n    <tr>\n      <th>2</th>\n      <td>644960add5fb014e40d5ea3a</td>\n      <td>DS</td>\n      <td>2.00</td>\n      <td>Logarithms, Logarithms, Exponential Functions,...</td>\n    </tr>\n    <tr>\n      <th>3</th>\n      <td>644960bcd5fb014e40d5ea3b</td>\n      <td>DS</td>\n      <td>0.50</td>\n      <td>Arithmetics, Arithmetic, Operations, Addition,...</td>\n    </tr>\n    <tr>\n      <th>4</th>\n      <td>64496111d5fb014e40d5ea3c</td>\n      <td>DS</td>\n      <td>2.25</td>\n      <td>Euclidean distance, Euclidean Distance, Distan...</td>\n    </tr>\n  </tbody>\n</table>\n</div>"
     },
     "execution_count": 195,
     "metadata": {},
     "output_type": "execute_result"
    }
   ],
   "source": [
    "moduleDF['feature'] = moduleDF['name'] + ', ' + moduleDF['objectives'] + ', ' + moduleDF['description'] + ', ' + moduleDF['keywords'] + ', ' + moduleDF['prefix']\n",
    "\n",
    "moduleDF.drop(['name', 'objectives', 'description', 'keywords', 'number'], axis=1, inplace=True)\n",
    "\n",
    "moduleDF.rename(columns={'prefix': 'true_cluster'}, inplace=True)\n",
    "\n",
    "moduleDF.head()"
   ],
   "metadata": {
    "collapsed": false,
    "ExecuteTime": {
     "end_time": "2023-05-25T16:33:24.118625Z",
     "start_time": "2023-05-25T16:33:24.071635Z"
    }
   }
  },
  {
   "cell_type": "code",
   "execution_count": 196,
   "outputs": [],
   "source": [
    "def _text_processing(col: pd.DataFrame()):\n",
    "    \"\"\"\n",
    "    This function takes in a column of text and performs the following:\n",
    "    1. Converts all text to lowercase\n",
    "    2. Removes all non-alphabetic characters\n",
    "    3. Removes stop words\n",
    "    5. returns the column\n",
    "    \"\"\"\n",
    "    column = col.str.lower()\n",
    "    column = column.str.replace(\"[^a-z ]\", \"\")\n",
    "\n",
    "    word_tokens = column.str.split()\n",
    "    keys = word_tokens.apply(\n",
    "        lambda x: [item for item in x if item not in stop_words]\n",
    "    )\n",
    "    for j in range(len(keys)):\n",
    "        keys[j] = \" \".join(keys[j])\n",
    "        column = keys\n",
    "    return column"
   ],
   "metadata": {
    "collapsed": false,
    "ExecuteTime": {
     "end_time": "2023-05-25T16:33:24.118683Z",
     "start_time": "2023-05-25T16:33:24.074864Z"
    }
   }
  },
  {
   "cell_type": "code",
   "execution_count": 197,
   "outputs": [
    {
     "name": "stderr",
     "output_type": "stream",
     "text": [
      "/var/folders/tp/4mcknzvj6zj5kcx78g7f5nmw0000gp/T/ipykernel_56347/2617064714.py:10: FutureWarning: The default value of regex will change from True to False in a future version.\n",
      "  column = column.str.replace(\"[^a-z ]\", \"\")\n"
     ]
    }
   ],
   "source": [
    "moduleDF['cleaned_feature'] = _text_processing(moduleDF['feature'])"
   ],
   "metadata": {
    "collapsed": false,
    "ExecuteTime": {
     "end_time": "2023-05-25T16:33:24.118759Z",
     "start_time": "2023-05-25T16:33:24.080200Z"
    }
   }
  },
  {
   "cell_type": "code",
   "execution_count": 198,
   "outputs": [],
   "source": [
    "def get_tokens(text):\n",
    "    ps = PorterStemmer()\n",
    "    payload = \"\"\n",
    "\n",
    "    tokens = word_tokenize(text)\n",
    "\n",
    "    tokens = [t for t in tokens if not t in stop_words]\n",
    "\n",
    "    for t in range(len(tokens)):\n",
    "        tokens[t] = ps.stem(tokens[t])\n",
    "\n",
    "    for token in tokens:\n",
    "        payload += token + ' '\n",
    "\n",
    "    return payload"
   ],
   "metadata": {
    "collapsed": false,
    "ExecuteTime": {
     "end_time": "2023-05-25T16:33:24.118798Z",
     "start_time": "2023-05-25T16:33:24.083023Z"
    }
   }
  },
  {
   "cell_type": "code",
   "execution_count": 199,
   "outputs": [
    {
     "data": {
      "text/plain": "                          id true_cluster  hours  \\\n0   644827afc3faa4c9ea96a800           DS  0.750   \n1   64496079d5fb014e40d5ea39           DS  1.500   \n2   644960add5fb014e40d5ea3a           DS  2.000   \n3   644960bcd5fb014e40d5ea3b           DS  0.500   \n4   64496111d5fb014e40d5ea3c           DS  2.250   \n5   64511f49f9ce74323575fffe         CSLP  0.300   \n6   64511f4bf9ce74323575ffff         CSLP  0.300   \n7   646270b939769687f2a6d858        LP-ME  0.300   \n8   646273ce39769687f2a6d860           TP  0.700   \n9   646273e539769687f2a6d861           TP  0.730   \n10  6462741d39769687f2a6d862           TP  0.525   \n11  6462745c39769687f2a6d863           TP  0.265   \n12  6462747b39769687f2a6d864           TP  0.351   \n13  6462749a39769687f2a6d865           TP  0.750   \n14  646274c539769687f2a6d866          NFM  0.225   \n15  646274e939769687f2a6d867          NFM  0.320   \n16  6462750d39769687f2a6d868          NFM  0.645   \n17  6462752e39769687f2a6d869          NFM  0.743   \n18  6462756339769687f2a6d86a          MCD  0.220   \n19  6462758c39769687f2a6d86b          MCD  0.450   \n\n                                               tokens  \n0   linear regress linear regress correl regress a...  \n1   statist analysi statist analysi descript stati...  \n2   logarithm logarithm exponenti function logarit...  \n3   arithmet arithmet oper addit subtract multipl ...  \n4   euclidean distanc euclidean distanc distanc fo...  \n5   introduct linear program model comput implemen...  \n6   comput solut lp formul linear program comput s...  \n7   linear program model linear program model line...  \n8   transport transport transport introduct transp...  \n9   transship transship transship introduct transs...  \n10  assign problem transship transport shipment tr...  \n11  shortest shortest shortest short shortest welc...  \n12  maxim flow problem maxim flow problem graph th...  \n13  travel salesman problem travel ai algorithm pr...  \n14  nonlinear profit analysisconstrain optim nonli...  \n15  facil locat problem facil locat problem facil ...  \n16  mix integ nonlinear program mix integ nonlinea...  \n17  solv unconstrain nonlinear equationsnumer unco...  \n18  program formul graphic interpret program formu...  \n19  program comput solut program comput solut comp...  ",
      "text/html": "<div>\n<style scoped>\n    .dataframe tbody tr th:only-of-type {\n        vertical-align: middle;\n    }\n\n    .dataframe tbody tr th {\n        vertical-align: top;\n    }\n\n    .dataframe thead th {\n        text-align: right;\n    }\n</style>\n<table border=\"1\" class=\"dataframe\">\n  <thead>\n    <tr style=\"text-align: right;\">\n      <th></th>\n      <th>id</th>\n      <th>true_cluster</th>\n      <th>hours</th>\n      <th>tokens</th>\n    </tr>\n  </thead>\n  <tbody>\n    <tr>\n      <th>0</th>\n      <td>644827afc3faa4c9ea96a800</td>\n      <td>DS</td>\n      <td>0.750</td>\n      <td>linear regress linear regress correl regress a...</td>\n    </tr>\n    <tr>\n      <th>1</th>\n      <td>64496079d5fb014e40d5ea39</td>\n      <td>DS</td>\n      <td>1.500</td>\n      <td>statist analysi statist analysi descript stati...</td>\n    </tr>\n    <tr>\n      <th>2</th>\n      <td>644960add5fb014e40d5ea3a</td>\n      <td>DS</td>\n      <td>2.000</td>\n      <td>logarithm logarithm exponenti function logarit...</td>\n    </tr>\n    <tr>\n      <th>3</th>\n      <td>644960bcd5fb014e40d5ea3b</td>\n      <td>DS</td>\n      <td>0.500</td>\n      <td>arithmet arithmet oper addit subtract multipl ...</td>\n    </tr>\n    <tr>\n      <th>4</th>\n      <td>64496111d5fb014e40d5ea3c</td>\n      <td>DS</td>\n      <td>2.250</td>\n      <td>euclidean distanc euclidean distanc distanc fo...</td>\n    </tr>\n    <tr>\n      <th>5</th>\n      <td>64511f49f9ce74323575fffe</td>\n      <td>CSLP</td>\n      <td>0.300</td>\n      <td>introduct linear program model comput implemen...</td>\n    </tr>\n    <tr>\n      <th>6</th>\n      <td>64511f4bf9ce74323575ffff</td>\n      <td>CSLP</td>\n      <td>0.300</td>\n      <td>comput solut lp formul linear program comput s...</td>\n    </tr>\n    <tr>\n      <th>7</th>\n      <td>646270b939769687f2a6d858</td>\n      <td>LP-ME</td>\n      <td>0.300</td>\n      <td>linear program model linear program model line...</td>\n    </tr>\n    <tr>\n      <th>8</th>\n      <td>646273ce39769687f2a6d860</td>\n      <td>TP</td>\n      <td>0.700</td>\n      <td>transport transport transport introduct transp...</td>\n    </tr>\n    <tr>\n      <th>9</th>\n      <td>646273e539769687f2a6d861</td>\n      <td>TP</td>\n      <td>0.730</td>\n      <td>transship transship transship introduct transs...</td>\n    </tr>\n    <tr>\n      <th>10</th>\n      <td>6462741d39769687f2a6d862</td>\n      <td>TP</td>\n      <td>0.525</td>\n      <td>assign problem transship transport shipment tr...</td>\n    </tr>\n    <tr>\n      <th>11</th>\n      <td>6462745c39769687f2a6d863</td>\n      <td>TP</td>\n      <td>0.265</td>\n      <td>shortest shortest shortest short shortest welc...</td>\n    </tr>\n    <tr>\n      <th>12</th>\n      <td>6462747b39769687f2a6d864</td>\n      <td>TP</td>\n      <td>0.351</td>\n      <td>maxim flow problem maxim flow problem graph th...</td>\n    </tr>\n    <tr>\n      <th>13</th>\n      <td>6462749a39769687f2a6d865</td>\n      <td>TP</td>\n      <td>0.750</td>\n      <td>travel salesman problem travel ai algorithm pr...</td>\n    </tr>\n    <tr>\n      <th>14</th>\n      <td>646274c539769687f2a6d866</td>\n      <td>NFM</td>\n      <td>0.225</td>\n      <td>nonlinear profit analysisconstrain optim nonli...</td>\n    </tr>\n    <tr>\n      <th>15</th>\n      <td>646274e939769687f2a6d867</td>\n      <td>NFM</td>\n      <td>0.320</td>\n      <td>facil locat problem facil locat problem facil ...</td>\n    </tr>\n    <tr>\n      <th>16</th>\n      <td>6462750d39769687f2a6d868</td>\n      <td>NFM</td>\n      <td>0.645</td>\n      <td>mix integ nonlinear program mix integ nonlinea...</td>\n    </tr>\n    <tr>\n      <th>17</th>\n      <td>6462752e39769687f2a6d869</td>\n      <td>NFM</td>\n      <td>0.743</td>\n      <td>solv unconstrain nonlinear equationsnumer unco...</td>\n    </tr>\n    <tr>\n      <th>18</th>\n      <td>6462756339769687f2a6d86a</td>\n      <td>MCD</td>\n      <td>0.220</td>\n      <td>program formul graphic interpret program formu...</td>\n    </tr>\n    <tr>\n      <th>19</th>\n      <td>6462758c39769687f2a6d86b</td>\n      <td>MCD</td>\n      <td>0.450</td>\n      <td>program comput solut program comput solut comp...</td>\n    </tr>\n  </tbody>\n</table>\n</div>"
     },
     "execution_count": 199,
     "metadata": {},
     "output_type": "execute_result"
    }
   ],
   "source": [
    "moduleDF['tokens'] = moduleDF['cleaned_feature'].apply(lambda x: get_tokens(x))\n",
    "\n",
    "moduleDF.drop(['feature', 'cleaned_feature'], axis=1, inplace=True)\n",
    "\n",
    "moduleDF.head(20)"
   ],
   "metadata": {
    "collapsed": false,
    "ExecuteTime": {
     "end_time": "2023-05-25T16:33:24.257922Z",
     "start_time": "2023-05-25T16:33:24.135655Z"
    }
   }
  },
  {
   "cell_type": "code",
   "execution_count": 200,
   "outputs": [
    {
     "data": {
      "text/plain": "                          id  true_cluster  hours  \\\n0   644827afc3faa4c9ea96a800             4  0.750   \n1   64496079d5fb014e40d5ea39             4  1.500   \n2   644960add5fb014e40d5ea3a             4  2.000   \n3   644960bcd5fb014e40d5ea3b             4  0.500   \n4   64496111d5fb014e40d5ea3c             4  2.250   \n5   64511f49f9ce74323575fffe             2  0.300   \n6   64511f4bf9ce74323575ffff             2  0.300   \n7   646270b939769687f2a6d858            11  0.300   \n8   646273ce39769687f2a6d860            20  0.700   \n9   646273e539769687f2a6d861            20  0.730   \n10  6462741d39769687f2a6d862            20  0.525   \n11  6462745c39769687f2a6d863            20  0.265   \n12  6462747b39769687f2a6d864            20  0.351   \n13  6462749a39769687f2a6d865            20  0.750   \n14  646274c539769687f2a6d866            16  0.225   \n15  646274e939769687f2a6d867            16  0.320   \n16  6462750d39769687f2a6d868            16  0.645   \n17  6462752e39769687f2a6d869            16  0.743   \n18  6462756339769687f2a6d86a            15  0.220   \n19  6462758c39769687f2a6d86b            15  0.450   \n\n                                               tokens  \n0   linear regress linear regress correl regress a...  \n1   statist analysi statist analysi descript stati...  \n2   logarithm logarithm exponenti function logarit...  \n3   arithmet arithmet oper addit subtract multipl ...  \n4   euclidean distanc euclidean distanc distanc fo...  \n5   introduct linear program model comput implemen...  \n6   comput solut lp formul linear program comput s...  \n7   linear program model linear program model line...  \n8   transport transport transport introduct transp...  \n9   transship transship transship introduct transs...  \n10  assign problem transship transport shipment tr...  \n11  shortest shortest shortest short shortest welc...  \n12  maxim flow problem maxim flow problem graph th...  \n13  travel salesman problem travel ai algorithm pr...  \n14  nonlinear profit analysisconstrain optim nonli...  \n15  facil locat problem facil locat problem facil ...  \n16  mix integ nonlinear program mix integ nonlinea...  \n17  solv unconstrain nonlinear equationsnumer unco...  \n18  program formul graphic interpret program formu...  \n19  program comput solut program comput solut comp...  ",
      "text/html": "<div>\n<style scoped>\n    .dataframe tbody tr th:only-of-type {\n        vertical-align: middle;\n    }\n\n    .dataframe tbody tr th {\n        vertical-align: top;\n    }\n\n    .dataframe thead th {\n        text-align: right;\n    }\n</style>\n<table border=\"1\" class=\"dataframe\">\n  <thead>\n    <tr style=\"text-align: right;\">\n      <th></th>\n      <th>id</th>\n      <th>true_cluster</th>\n      <th>hours</th>\n      <th>tokens</th>\n    </tr>\n  </thead>\n  <tbody>\n    <tr>\n      <th>0</th>\n      <td>644827afc3faa4c9ea96a800</td>\n      <td>4</td>\n      <td>0.750</td>\n      <td>linear regress linear regress correl regress a...</td>\n    </tr>\n    <tr>\n      <th>1</th>\n      <td>64496079d5fb014e40d5ea39</td>\n      <td>4</td>\n      <td>1.500</td>\n      <td>statist analysi statist analysi descript stati...</td>\n    </tr>\n    <tr>\n      <th>2</th>\n      <td>644960add5fb014e40d5ea3a</td>\n      <td>4</td>\n      <td>2.000</td>\n      <td>logarithm logarithm exponenti function logarit...</td>\n    </tr>\n    <tr>\n      <th>3</th>\n      <td>644960bcd5fb014e40d5ea3b</td>\n      <td>4</td>\n      <td>0.500</td>\n      <td>arithmet arithmet oper addit subtract multipl ...</td>\n    </tr>\n    <tr>\n      <th>4</th>\n      <td>64496111d5fb014e40d5ea3c</td>\n      <td>4</td>\n      <td>2.250</td>\n      <td>euclidean distanc euclidean distanc distanc fo...</td>\n    </tr>\n    <tr>\n      <th>5</th>\n      <td>64511f49f9ce74323575fffe</td>\n      <td>2</td>\n      <td>0.300</td>\n      <td>introduct linear program model comput implemen...</td>\n    </tr>\n    <tr>\n      <th>6</th>\n      <td>64511f4bf9ce74323575ffff</td>\n      <td>2</td>\n      <td>0.300</td>\n      <td>comput solut lp formul linear program comput s...</td>\n    </tr>\n    <tr>\n      <th>7</th>\n      <td>646270b939769687f2a6d858</td>\n      <td>11</td>\n      <td>0.300</td>\n      <td>linear program model linear program model line...</td>\n    </tr>\n    <tr>\n      <th>8</th>\n      <td>646273ce39769687f2a6d860</td>\n      <td>20</td>\n      <td>0.700</td>\n      <td>transport transport transport introduct transp...</td>\n    </tr>\n    <tr>\n      <th>9</th>\n      <td>646273e539769687f2a6d861</td>\n      <td>20</td>\n      <td>0.730</td>\n      <td>transship transship transship introduct transs...</td>\n    </tr>\n    <tr>\n      <th>10</th>\n      <td>6462741d39769687f2a6d862</td>\n      <td>20</td>\n      <td>0.525</td>\n      <td>assign problem transship transport shipment tr...</td>\n    </tr>\n    <tr>\n      <th>11</th>\n      <td>6462745c39769687f2a6d863</td>\n      <td>20</td>\n      <td>0.265</td>\n      <td>shortest shortest shortest short shortest welc...</td>\n    </tr>\n    <tr>\n      <th>12</th>\n      <td>6462747b39769687f2a6d864</td>\n      <td>20</td>\n      <td>0.351</td>\n      <td>maxim flow problem maxim flow problem graph th...</td>\n    </tr>\n    <tr>\n      <th>13</th>\n      <td>6462749a39769687f2a6d865</td>\n      <td>20</td>\n      <td>0.750</td>\n      <td>travel salesman problem travel ai algorithm pr...</td>\n    </tr>\n    <tr>\n      <th>14</th>\n      <td>646274c539769687f2a6d866</td>\n      <td>16</td>\n      <td>0.225</td>\n      <td>nonlinear profit analysisconstrain optim nonli...</td>\n    </tr>\n    <tr>\n      <th>15</th>\n      <td>646274e939769687f2a6d867</td>\n      <td>16</td>\n      <td>0.320</td>\n      <td>facil locat problem facil locat problem facil ...</td>\n    </tr>\n    <tr>\n      <th>16</th>\n      <td>6462750d39769687f2a6d868</td>\n      <td>16</td>\n      <td>0.645</td>\n      <td>mix integ nonlinear program mix integ nonlinea...</td>\n    </tr>\n    <tr>\n      <th>17</th>\n      <td>6462752e39769687f2a6d869</td>\n      <td>16</td>\n      <td>0.743</td>\n      <td>solv unconstrain nonlinear equationsnumer unco...</td>\n    </tr>\n    <tr>\n      <th>18</th>\n      <td>6462756339769687f2a6d86a</td>\n      <td>15</td>\n      <td>0.220</td>\n      <td>program formul graphic interpret program formu...</td>\n    </tr>\n    <tr>\n      <th>19</th>\n      <td>6462758c39769687f2a6d86b</td>\n      <td>15</td>\n      <td>0.450</td>\n      <td>program comput solut program comput solut comp...</td>\n    </tr>\n  </tbody>\n</table>\n</div>"
     },
     "execution_count": 200,
     "metadata": {},
     "output_type": "execute_result"
    }
   ],
   "source": [
    "from sklearn.preprocessing import LabelEncoder\n",
    "\n",
    "le = LabelEncoder()\n",
    "\n",
    "moduleDF['true_cluster'] = le.fit_transform(moduleDF['true_cluster'])\n",
    "\n",
    "moduleDF.head(20)"
   ],
   "metadata": {
    "collapsed": false,
    "ExecuteTime": {
     "end_time": "2023-05-25T16:33:24.272935Z",
     "start_time": "2023-05-25T16:33:24.183181Z"
    }
   }
  },
  {
   "cell_type": "markdown",
   "source": [
    "# Modeling"
   ],
   "metadata": {
    "collapsed": false
   }
  },
  {
   "cell_type": "code",
   "execution_count": 201,
   "outputs": [
    {
     "data": {
      "text/plain": "                         id  true_cluster  hours  \\\n0  644827afc3faa4c9ea96a800             4   0.75   \n1  64496079d5fb014e40d5ea39             4   1.50   \n2  644960add5fb014e40d5ea3a             4   2.00   \n3  644960bcd5fb014e40d5ea3b             4   0.50   \n4  64496111d5fb014e40d5ea3c             4   2.25   \n\n                                              tokens  cluster  \n0  linear regress linear regress correl regress a...        2  \n1  statist analysi statist analysi descript stati...        2  \n2  logarithm logarithm exponenti function logarit...        2  \n3  arithmet arithmet oper addit subtract multipl ...        2  \n4  euclidean distanc euclidean distanc distanc fo...        4  ",
      "text/html": "<div>\n<style scoped>\n    .dataframe tbody tr th:only-of-type {\n        vertical-align: middle;\n    }\n\n    .dataframe tbody tr th {\n        vertical-align: top;\n    }\n\n    .dataframe thead th {\n        text-align: right;\n    }\n</style>\n<table border=\"1\" class=\"dataframe\">\n  <thead>\n    <tr style=\"text-align: right;\">\n      <th></th>\n      <th>id</th>\n      <th>true_cluster</th>\n      <th>hours</th>\n      <th>tokens</th>\n      <th>cluster</th>\n    </tr>\n  </thead>\n  <tbody>\n    <tr>\n      <th>0</th>\n      <td>644827afc3faa4c9ea96a800</td>\n      <td>4</td>\n      <td>0.75</td>\n      <td>linear regress linear regress correl regress a...</td>\n      <td>2</td>\n    </tr>\n    <tr>\n      <th>1</th>\n      <td>64496079d5fb014e40d5ea39</td>\n      <td>4</td>\n      <td>1.50</td>\n      <td>statist analysi statist analysi descript stati...</td>\n      <td>2</td>\n    </tr>\n    <tr>\n      <th>2</th>\n      <td>644960add5fb014e40d5ea3a</td>\n      <td>4</td>\n      <td>2.00</td>\n      <td>logarithm logarithm exponenti function logarit...</td>\n      <td>2</td>\n    </tr>\n    <tr>\n      <th>3</th>\n      <td>644960bcd5fb014e40d5ea3b</td>\n      <td>4</td>\n      <td>0.50</td>\n      <td>arithmet arithmet oper addit subtract multipl ...</td>\n      <td>2</td>\n    </tr>\n    <tr>\n      <th>4</th>\n      <td>64496111d5fb014e40d5ea3c</td>\n      <td>4</td>\n      <td>2.25</td>\n      <td>euclidean distanc euclidean distanc distanc fo...</td>\n      <td>4</td>\n    </tr>\n  </tbody>\n</table>\n</div>"
     },
     "execution_count": 201,
     "metadata": {},
     "output_type": "execute_result"
    }
   ],
   "source": [
    "from sklearn.cluster import KMeans\n",
    "\n",
    "vectorizer = TfidfVectorizer()\n",
    "\n",
    "moduleDF['cluster'] = 0\n",
    "\n",
    "X = vectorizer.fit_transform(moduleDF['tokens'])\n",
    "Y = moduleDF['cluster']\n",
    "\n",
    "kmeans = KMeans(n_clusters=int(CLUSTER_COUNT), random_state=42, n_init=100, max_iter=1000).fit(X)\n",
    "\n",
    "moduleDF['cluster'] = kmeans.predict(X)\n",
    "\n",
    "moduleDF.head()"
   ],
   "metadata": {
    "collapsed": false,
    "ExecuteTime": {
     "end_time": "2023-05-25T16:33:24.550877Z",
     "start_time": "2023-05-25T16:33:24.191825Z"
    }
   }
  },
  {
   "cell_type": "code",
   "execution_count": 202,
   "outputs": [],
   "source": [
    "from sklearn.decomposition import PCA\n",
    "\n",
    "pca = PCA(n_components=int(CLUSTER_COUNT), random_state=42)\n",
    "\n",
    "reduced_features = pca.fit_transform(X.toarray())\n",
    "\n",
    "x0 = reduced_features[:, 0]\n",
    "x1 = reduced_features[:, 1]\n",
    "\n",
    "moduleDF['x0'] = x0\n",
    "moduleDF['x1'] = x1"
   ],
   "metadata": {
    "collapsed": false,
    "ExecuteTime": {
     "end_time": "2023-05-25T16:33:25.797828Z",
     "start_time": "2023-05-25T16:33:24.551042Z"
    }
   }
  },
  {
   "cell_type": "code",
   "execution_count": 203,
   "outputs": [
    {
     "name": "stdout",
     "output_type": "stream",
     "text": [
      "\n",
      "Cluster 0\n",
      "predict,process,transit,probabl,state,system,ergod,absorb,chain,markov\n",
      "\n",
      "Cluster 1\n",
      "sensit,solv,solut,program,model,method,linear,problem,simplex,lp\n",
      "\n",
      "Cluster 2\n",
      "statist,regress,problem,network,sensit,facil,locat,flow,analysi,model\n",
      "\n",
      "Cluster 3\n",
      "simplex,solv,interpret,solut,model,object,graphic,problem,linear,program\n",
      "\n",
      "Cluster 4\n",
      "alloc,program,distanc,project,algorithm,medic,assign,problem,shortest,dynam\n",
      "\n",
      "Cluster 5\n",
      "solv,mix,equat,make,profit,decis,numer,optim,program,nonlinear\n",
      "\n",
      "Cluster 6\n",
      "algorithm,solv,comput,techniqu,select,set,solut,problem,program,integ\n",
      "\n",
      "Cluster 7\n",
      "strategi,concept,work,advantag,conclus,reallif,economi,global,busi,transship\n",
      "\n",
      "Cluster 8\n",
      "finit,multipl,custom,design,perform,servic,server,queue,system,queu\n"
     ]
    }
   ],
   "source": [
    "def get_top_keywords(n_terms):\n",
    "    \"\"\"This function returns the keywords for each centroid of the KMeans\"\"\"\n",
    "    df = pd.DataFrame(X.todense()).groupby(moduleDF['cluster']).mean() # groups the TF-IDF vector by cluster\n",
    "    terms = vectorizer.get_feature_names_out() # access tf-idf terms\n",
    "    for k,r in df.iterrows():\n",
    "        print('\\nCluster {}'.format(k))\n",
    "        print(','.join([terms[t] for t in np.argsort(r)[-n_terms:]])) # for each row of the dataframe, find the n terms that have the highest tf idf score\n",
    "\n",
    "get_top_keywords(10)"
   ],
   "metadata": {
    "collapsed": false,
    "ExecuteTime": {
     "end_time": "2023-05-25T16:33:25.798111Z",
     "start_time": "2023-05-25T16:33:25.779310Z"
    }
   }
  },
  {
   "cell_type": "code",
   "execution_count": 204,
   "outputs": [],
   "source": [
    "# cluster_map = {\n",
    "#     0: 'Introduction to Operations Research Model Formulation and Break-even Analysis',\n",
    "#     1: 'Linear Programming - Graphical Solution',\n",
    "#     2: 'Linear Programming Solutions and Sensitivity Analysis',\n",
    "#     3: 'Linear Programming - Modeling Examples',\n",
    "#     4: 'Linear Programming - Applications',\n",
    "#     5: \"Integer Programming\",\n",
    "#     6: \"Integer Programs - Modeling Examples\",\n",
    "#     7: \"Transportation, Transshipment and Assignment Discussion\",\n",
    "#     8: \"Network Flow Models\",\n",
    "#     9: \"Multi - Criteria Decision Making: Goal Programming\",\n",
    "#     10: \"Goal Programming Discussion\",\n",
    "#     11: \"Non-Linear Programming\",\n",
    "#     12: 'Non-Linear Programming Discussion',\n",
    "#     13: 'Applications of Markov Analysis'\n",
    "# }\n",
    "#\n",
    "# moduleDF['cluster'] = moduleDF['cluster'].map(cluster_map)"
   ],
   "metadata": {
    "collapsed": false,
    "ExecuteTime": {
     "end_time": "2023-05-25T16:33:25.798159Z",
     "start_time": "2023-05-25T16:33:25.786069Z"
    }
   }
  },
  {
   "cell_type": "code",
   "execution_count": 205,
   "outputs": [
    {
     "data": {
      "text/plain": "                          id  true_cluster  hours  \\\n0   644827afc3faa4c9ea96a800             4  0.750   \n1   64496079d5fb014e40d5ea39             4  1.500   \n2   644960add5fb014e40d5ea3a             4  2.000   \n3   644960bcd5fb014e40d5ea3b             4  0.500   \n4   64496111d5fb014e40d5ea3c             4  2.250   \n5   64511f49f9ce74323575fffe             2  0.300   \n6   64511f4bf9ce74323575ffff             2  0.300   \n7   646270b939769687f2a6d858            11  0.300   \n8   646273ce39769687f2a6d860            20  0.700   \n9   646273e539769687f2a6d861            20  0.730   \n10  6462741d39769687f2a6d862            20  0.525   \n11  6462745c39769687f2a6d863            20  0.265   \n12  6462747b39769687f2a6d864            20  0.351   \n13  6462749a39769687f2a6d865            20  0.750   \n14  646274c539769687f2a6d866            16  0.225   \n15  646274e939769687f2a6d867            16  0.320   \n16  6462750d39769687f2a6d868            16  0.645   \n17  6462752e39769687f2a6d869            16  0.743   \n18  6462756339769687f2a6d86a            15  0.220   \n19  6462758c39769687f2a6d86b            15  0.450   \n\n                                               tokens  cluster        x0  \\\n0   linear regress linear regress correl regress a...        2  0.058042   \n1   statist analysi statist analysi descript stati...        2  0.139747   \n2   logarithm logarithm exponenti function logarit...        2  0.096681   \n3   arithmet arithmet oper addit subtract multipl ...        2  0.090430   \n4   euclidean distanc euclidean distanc distanc fo...        4  0.121293   \n5   introduct linear program model comput implemen...        2 -0.041217   \n6   comput solut lp formul linear program comput s...        1 -0.195583   \n7   linear program model linear program model line...        3 -0.350579   \n8   transport transport transport introduct transp...        2  0.097184   \n9   transship transship transship introduct transs...        7  0.122101   \n10  assign problem transship transport shipment tr...        4 -0.015236   \n11  shortest shortest shortest short shortest welc...        4  0.067801   \n12  maxim flow problem maxim flow problem graph th...        2  0.047481   \n13  travel salesman problem travel ai algorithm pr...        4  0.017118   \n14  nonlinear profit analysisconstrain optim nonli...        5  0.003405   \n15  facil locat problem facil locat problem facil ...        2  0.072599   \n16  mix integ nonlinear program mix integ nonlinea...        5 -0.217042   \n17  solv unconstrain nonlinear equationsnumer unco...        5  0.003174   \n18  program formul graphic interpret program formu...        3 -0.239875   \n19  program comput solut program comput solut comp...        6 -0.230524   \n\n          x1  \n0  -0.155002  \n1  -0.240526  \n2  -0.162188  \n3  -0.169339  \n4  -0.178086  \n5  -0.154605  \n6  -0.040641  \n7   0.232063  \n8  -0.173355  \n9  -0.214346  \n10 -0.095429  \n11 -0.159889  \n12 -0.133367  \n13 -0.104208  \n14 -0.179375  \n15 -0.175771  \n16  0.154963  \n17 -0.151228  \n18  0.071059  \n19  0.165235  ",
      "text/html": "<div>\n<style scoped>\n    .dataframe tbody tr th:only-of-type {\n        vertical-align: middle;\n    }\n\n    .dataframe tbody tr th {\n        vertical-align: top;\n    }\n\n    .dataframe thead th {\n        text-align: right;\n    }\n</style>\n<table border=\"1\" class=\"dataframe\">\n  <thead>\n    <tr style=\"text-align: right;\">\n      <th></th>\n      <th>id</th>\n      <th>true_cluster</th>\n      <th>hours</th>\n      <th>tokens</th>\n      <th>cluster</th>\n      <th>x0</th>\n      <th>x1</th>\n    </tr>\n  </thead>\n  <tbody>\n    <tr>\n      <th>0</th>\n      <td>644827afc3faa4c9ea96a800</td>\n      <td>4</td>\n      <td>0.750</td>\n      <td>linear regress linear regress correl regress a...</td>\n      <td>2</td>\n      <td>0.058042</td>\n      <td>-0.155002</td>\n    </tr>\n    <tr>\n      <th>1</th>\n      <td>64496079d5fb014e40d5ea39</td>\n      <td>4</td>\n      <td>1.500</td>\n      <td>statist analysi statist analysi descript stati...</td>\n      <td>2</td>\n      <td>0.139747</td>\n      <td>-0.240526</td>\n    </tr>\n    <tr>\n      <th>2</th>\n      <td>644960add5fb014e40d5ea3a</td>\n      <td>4</td>\n      <td>2.000</td>\n      <td>logarithm logarithm exponenti function logarit...</td>\n      <td>2</td>\n      <td>0.096681</td>\n      <td>-0.162188</td>\n    </tr>\n    <tr>\n      <th>3</th>\n      <td>644960bcd5fb014e40d5ea3b</td>\n      <td>4</td>\n      <td>0.500</td>\n      <td>arithmet arithmet oper addit subtract multipl ...</td>\n      <td>2</td>\n      <td>0.090430</td>\n      <td>-0.169339</td>\n    </tr>\n    <tr>\n      <th>4</th>\n      <td>64496111d5fb014e40d5ea3c</td>\n      <td>4</td>\n      <td>2.250</td>\n      <td>euclidean distanc euclidean distanc distanc fo...</td>\n      <td>4</td>\n      <td>0.121293</td>\n      <td>-0.178086</td>\n    </tr>\n    <tr>\n      <th>5</th>\n      <td>64511f49f9ce74323575fffe</td>\n      <td>2</td>\n      <td>0.300</td>\n      <td>introduct linear program model comput implemen...</td>\n      <td>2</td>\n      <td>-0.041217</td>\n      <td>-0.154605</td>\n    </tr>\n    <tr>\n      <th>6</th>\n      <td>64511f4bf9ce74323575ffff</td>\n      <td>2</td>\n      <td>0.300</td>\n      <td>comput solut lp formul linear program comput s...</td>\n      <td>1</td>\n      <td>-0.195583</td>\n      <td>-0.040641</td>\n    </tr>\n    <tr>\n      <th>7</th>\n      <td>646270b939769687f2a6d858</td>\n      <td>11</td>\n      <td>0.300</td>\n      <td>linear program model linear program model line...</td>\n      <td>3</td>\n      <td>-0.350579</td>\n      <td>0.232063</td>\n    </tr>\n    <tr>\n      <th>8</th>\n      <td>646273ce39769687f2a6d860</td>\n      <td>20</td>\n      <td>0.700</td>\n      <td>transport transport transport introduct transp...</td>\n      <td>2</td>\n      <td>0.097184</td>\n      <td>-0.173355</td>\n    </tr>\n    <tr>\n      <th>9</th>\n      <td>646273e539769687f2a6d861</td>\n      <td>20</td>\n      <td>0.730</td>\n      <td>transship transship transship introduct transs...</td>\n      <td>7</td>\n      <td>0.122101</td>\n      <td>-0.214346</td>\n    </tr>\n    <tr>\n      <th>10</th>\n      <td>6462741d39769687f2a6d862</td>\n      <td>20</td>\n      <td>0.525</td>\n      <td>assign problem transship transport shipment tr...</td>\n      <td>4</td>\n      <td>-0.015236</td>\n      <td>-0.095429</td>\n    </tr>\n    <tr>\n      <th>11</th>\n      <td>6462745c39769687f2a6d863</td>\n      <td>20</td>\n      <td>0.265</td>\n      <td>shortest shortest shortest short shortest welc...</td>\n      <td>4</td>\n      <td>0.067801</td>\n      <td>-0.159889</td>\n    </tr>\n    <tr>\n      <th>12</th>\n      <td>6462747b39769687f2a6d864</td>\n      <td>20</td>\n      <td>0.351</td>\n      <td>maxim flow problem maxim flow problem graph th...</td>\n      <td>2</td>\n      <td>0.047481</td>\n      <td>-0.133367</td>\n    </tr>\n    <tr>\n      <th>13</th>\n      <td>6462749a39769687f2a6d865</td>\n      <td>20</td>\n      <td>0.750</td>\n      <td>travel salesman problem travel ai algorithm pr...</td>\n      <td>4</td>\n      <td>0.017118</td>\n      <td>-0.104208</td>\n    </tr>\n    <tr>\n      <th>14</th>\n      <td>646274c539769687f2a6d866</td>\n      <td>16</td>\n      <td>0.225</td>\n      <td>nonlinear profit analysisconstrain optim nonli...</td>\n      <td>5</td>\n      <td>0.003405</td>\n      <td>-0.179375</td>\n    </tr>\n    <tr>\n      <th>15</th>\n      <td>646274e939769687f2a6d867</td>\n      <td>16</td>\n      <td>0.320</td>\n      <td>facil locat problem facil locat problem facil ...</td>\n      <td>2</td>\n      <td>0.072599</td>\n      <td>-0.175771</td>\n    </tr>\n    <tr>\n      <th>16</th>\n      <td>6462750d39769687f2a6d868</td>\n      <td>16</td>\n      <td>0.645</td>\n      <td>mix integ nonlinear program mix integ nonlinea...</td>\n      <td>5</td>\n      <td>-0.217042</td>\n      <td>0.154963</td>\n    </tr>\n    <tr>\n      <th>17</th>\n      <td>6462752e39769687f2a6d869</td>\n      <td>16</td>\n      <td>0.743</td>\n      <td>solv unconstrain nonlinear equationsnumer unco...</td>\n      <td>5</td>\n      <td>0.003174</td>\n      <td>-0.151228</td>\n    </tr>\n    <tr>\n      <th>18</th>\n      <td>6462756339769687f2a6d86a</td>\n      <td>15</td>\n      <td>0.220</td>\n      <td>program formul graphic interpret program formu...</td>\n      <td>3</td>\n      <td>-0.239875</td>\n      <td>0.071059</td>\n    </tr>\n    <tr>\n      <th>19</th>\n      <td>6462758c39769687f2a6d86b</td>\n      <td>15</td>\n      <td>0.450</td>\n      <td>program comput solut program comput solut comp...</td>\n      <td>6</td>\n      <td>-0.230524</td>\n      <td>0.165235</td>\n    </tr>\n  </tbody>\n</table>\n</div>"
     },
     "execution_count": 205,
     "metadata": {},
     "output_type": "execute_result"
    }
   ],
   "source": [
    "moduleDF.head(20)"
   ],
   "metadata": {
    "collapsed": false,
    "ExecuteTime": {
     "end_time": "2023-05-25T16:33:25.813814Z",
     "start_time": "2023-05-25T16:33:25.796310Z"
    }
   }
  },
  {
   "cell_type": "code",
   "execution_count": 208,
   "outputs": [
    {
     "data": {
      "text/plain": "<AxesSubplot:title={'center':'TF-IDF + Ground Truth clustering'}, xlabel='X0', ylabel='x1'>"
     },
     "execution_count": 208,
     "metadata": {},
     "output_type": "execute_result"
    },
    {
     "data": {
      "text/plain": "<Figure size 2000x1400 with 2 Axes>",
      "image/png": "[encoded data removed]"
     },
     "metadata": {},
     "output_type": "display_data"
    }
   ],
   "source": [
    "fig, axs = plt.subplots(1, 2, figsize=(20, 14))\n",
    "for ax in axs.flat:\n",
    "    ax.set(xlabel='X0', ylabel='X1')\n",
    "    ax.label_outer()\n",
    "    ax.set_aspect(1)\n",
    "\n",
    "axs[0].set_title('TF-IDF + KMeans clustering')\n",
    "axs[1].set_title('TF-IDF + Ground Truth clustering')\n",
    "\n",
    "sns.scatterplot(data=moduleDF, x='x0', y='x1', hue='cluster', palette=\"tab10\", ax=axs[0])\n",
    "sns.scatterplot(data=moduleDF, x='x0', y='x1', hue='true_cluster', palette=\"tab20\", ax=axs[1], legend=False)"
   ],
   "metadata": {
    "collapsed": false,
    "ExecuteTime": {
     "end_time": "2023-05-25T16:33:26.494295Z",
     "start_time": "2023-05-25T16:33:26.278255Z"
    }
   }
  },
  {
   "cell_type": "code",
   "execution_count": 209,
   "outputs": [
    {
     "data": {
      "text/plain": "cluster\n2    19.844402\n4    11.538752\n0    10.812385\n3    10.307585\n5     9.414316\n1     9.005588\n6     8.451804\n8     4.783075\n7     1.444769\nName: hours, dtype: float64"
     },
     "execution_count": 209,
     "metadata": {},
     "output_type": "execute_result"
    }
   ],
   "source": [
    "# sum the number of hours for each cluster\n",
    "moduleDF.groupby('cluster')['hours'].sum().sort_values(ascending=False)"
   ],
   "metadata": {
    "collapsed": false,
    "ExecuteTime": {
     "end_time": "2023-05-25T16:33:26.496648Z",
     "start_time": "2023-05-25T16:33:26.494443Z"
    }
   }
  },
  {
   "cell_type": "code",
   "execution_count": 210,
   "outputs": [
    {
     "data": {
      "text/plain": "<AxesSubplot:title={'center':'ENMA 603 - Total Hours and Module count per Cluster'}, xlabel='Cluster', ylabel='Hours & Count'>"
     },
     "execution_count": 210,
     "metadata": {},
     "output_type": "execute_result"
    },
    {
     "data": {
      "text/plain": "<Figure size 2000x700 with 1 Axes>",
      "image/png": "[encoded data removed]"
     },
     "metadata": {},
     "output_type": "display_data"
    }
   ],
   "source": [
    "pd.concat(\n",
    "    [\n",
    "        moduleDF.groupby('cluster')['hours'].sum().rename('hours'),\n",
    "        moduleDF.groupby('cluster')['id'].count().rename('count')\n",
    "    ],\n",
    "    axis=1\n",
    ").plot(kind='bar', figsize=(20, 7), title='ENMA 603 - Total Hours and Module count per Cluster', xlabel='Cluster', ylabel='Hours & Count', legend=['Hours', 'Count'])"
   ],
   "metadata": {
    "collapsed": false,
    "ExecuteTime": {
     "end_time": "2023-05-25T16:33:26.633955Z",
     "start_time": "2023-05-25T16:33:26.499147Z"
    }
   }
  },
  {
   "cell_type": "code",
   "execution_count": 211,
   "outputs": [
    {
     "data": {
      "text/plain": "                          id  true_cluster     hours  \\\n26  64627a0e39769687f2a6d872            10  0.500000   \n76  646506f68019c4d441f6ec38            19  1.957619   \n78  646506f78019c4d441f6ec3a            19  0.802423   \n80  646506f78019c4d441f6ec3c             1  1.553647   \n29  64627c5239769687f2a6d875             0  1.250000   \n..                       ...           ...       ...   \n43  646506f28019c4d441f6ec17            11  1.661044   \n68  646506f58019c4d441f6ec30             6  1.179394   \n50  646506f28019c4d441f6ec1e             7  1.622044   \n52  646506f38019c4d441f6ec20             7  0.738020   \n66  646506f48019c4d441f6ec2e             5  1.034748   \n\n                                               tokens  cluster        x0  \\\n26  introduct markov chain markov chain introduct ...        0  0.722681   \n76  introduct markov chain demonstr concept state ...        0  0.717446   \n78  absorb markov chain demonstr fundament markov ...        0  0.690102   \n80  appli markov chain demonstr markov chain proce...        0  0.681710   \n29  appli markov chain markov chain appli markov c...        0  0.631102   \n..                                                ...      ...       ...   \n43  linear program model exampl understand fundame...        3 -0.387425   \n68  program discuss develop fundament program diff...        3 -0.387841   \n50  integ program understand basic integ program a...        6 -0.401725   \n52  integ program exampl discuss concept techniqu ...        6 -0.404583   \n66  program comput solut understand concept progra...        3 -0.421433   \n\n          x1  \n26  0.445400  \n76  0.457096  \n78  0.419414  \n80  0.365745  \n29  0.385881  \n..       ...  \n43  0.230542  \n68  0.287235  \n50  0.399003  \n52  0.384765  \n66  0.316051  \n\n[81 rows x 7 columns]",
      "text/html": "<div>\n<style scoped>\n    .dataframe tbody tr th:only-of-type {\n        vertical-align: middle;\n    }\n\n    .dataframe tbody tr th {\n        vertical-align: top;\n    }\n\n    .dataframe thead th {\n        text-align: right;\n    }\n</style>\n<table border=\"1\" class=\"dataframe\">\n  <thead>\n    <tr style=\"text-align: right;\">\n      <th></th>\n      <th>id</th>\n      <th>true_cluster</th>\n      <th>hours</th>\n      <th>tokens</th>\n      <th>cluster</th>\n      <th>x0</th>\n      <th>x1</th>\n    </tr>\n  </thead>\n  <tbody>\n    <tr>\n      <th>26</th>\n      <td>64627a0e39769687f2a6d872</td>\n      <td>10</td>\n      <td>0.500000</td>\n      <td>introduct markov chain markov chain introduct ...</td>\n      <td>0</td>\n      <td>0.722681</td>\n      <td>0.445400</td>\n    </tr>\n    <tr>\n      <th>76</th>\n      <td>646506f68019c4d441f6ec38</td>\n      <td>19</td>\n      <td>1.957619</td>\n      <td>introduct markov chain demonstr concept state ...</td>\n      <td>0</td>\n      <td>0.717446</td>\n      <td>0.457096</td>\n    </tr>\n    <tr>\n      <th>78</th>\n      <td>646506f78019c4d441f6ec3a</td>\n      <td>19</td>\n      <td>0.802423</td>\n      <td>absorb markov chain demonstr fundament markov ...</td>\n      <td>0</td>\n      <td>0.690102</td>\n      <td>0.419414</td>\n    </tr>\n    <tr>\n      <th>80</th>\n      <td>646506f78019c4d441f6ec3c</td>\n      <td>1</td>\n      <td>1.553647</td>\n      <td>appli markov chain demonstr markov chain proce...</td>\n      <td>0</td>\n      <td>0.681710</td>\n      <td>0.365745</td>\n    </tr>\n    <tr>\n      <th>29</th>\n      <td>64627c5239769687f2a6d875</td>\n      <td>0</td>\n      <td>1.250000</td>\n      <td>appli markov chain markov chain appli markov c...</td>\n      <td>0</td>\n      <td>0.631102</td>\n      <td>0.385881</td>\n    </tr>\n    <tr>\n      <th>...</th>\n      <td>...</td>\n      <td>...</td>\n      <td>...</td>\n      <td>...</td>\n      <td>...</td>\n      <td>...</td>\n      <td>...</td>\n    </tr>\n    <tr>\n      <th>43</th>\n      <td>646506f28019c4d441f6ec17</td>\n      <td>11</td>\n      <td>1.661044</td>\n      <td>linear program model exampl understand fundame...</td>\n      <td>3</td>\n      <td>-0.387425</td>\n      <td>0.230542</td>\n    </tr>\n    <tr>\n      <th>68</th>\n      <td>646506f58019c4d441f6ec30</td>\n      <td>6</td>\n      <td>1.179394</td>\n      <td>program discuss develop fundament program diff...</td>\n      <td>3</td>\n      <td>-0.387841</td>\n      <td>0.287235</td>\n    </tr>\n    <tr>\n      <th>50</th>\n      <td>646506f28019c4d441f6ec1e</td>\n      <td>7</td>\n      <td>1.622044</td>\n      <td>integ program understand basic integ program a...</td>\n      <td>6</td>\n      <td>-0.401725</td>\n      <td>0.399003</td>\n    </tr>\n    <tr>\n      <th>52</th>\n      <td>646506f38019c4d441f6ec20</td>\n      <td>7</td>\n      <td>0.738020</td>\n      <td>integ program exampl discuss concept techniqu ...</td>\n      <td>6</td>\n      <td>-0.404583</td>\n      <td>0.384765</td>\n    </tr>\n    <tr>\n      <th>66</th>\n      <td>646506f48019c4d441f6ec2e</td>\n      <td>5</td>\n      <td>1.034748</td>\n      <td>program comput solut understand concept progra...</td>\n      <td>3</td>\n      <td>-0.421433</td>\n      <td>0.316051</td>\n    </tr>\n  </tbody>\n</table>\n<p>81 rows × 7 columns</p>\n</div>"
     },
     "execution_count": 211,
     "metadata": {},
     "output_type": "execute_result"
    }
   ],
   "source": [
    "moduleDF.sort_values(by=['x0', 'x1'], ascending=False)"
   ],
   "metadata": {
    "collapsed": false,
    "ExecuteTime": {
     "end_time": "2023-05-25T16:33:26.641792Z",
     "start_time": "2023-05-25T16:33:26.628610Z"
    }
   }
  },
  {
   "cell_type": "code",
   "execution_count": 212,
   "outputs": [
    {
     "data": {
      "text/plain": "array([[<AxesSubplot:title={'center':'hours'}>]], dtype=object)"
     },
     "execution_count": 212,
     "metadata": {},
     "output_type": "execute_result"
    },
    {
     "data": {
      "text/plain": "<Figure size 1000x400 with 1 Axes>",
      "image/png": "[encoded data removed]"
     },
     "metadata": {},
     "output_type": "display_data"
    }
   ],
   "source": [
    "moduleDF.hist(figsize=(10, 4), bins=8, column='hours')"
   ],
   "metadata": {
    "collapsed": false,
    "ExecuteTime": {
     "end_time": "2023-05-25T16:33:26.740296Z",
     "start_time": "2023-05-25T16:33:26.637019Z"
    }
   }
  },
  {
   "cell_type": "code",
   "execution_count": 213,
   "outputs": [
    {
     "name": "stdout",
     "output_type": "stream",
     "text": [
      "{\n",
      "  \"collections\": [\n",
      "    {\n",
      "      \"id\": \"aa4e3ef5a5e045c488179691fb434801\",\n",
      "      \"number\": 0,\n",
      "      \"modules\": [\n",
      "        \"64627a0e39769687f2a6d872\",\n",
      "        \"64627a2739769687f2a6d873\",\n",
      "        \"64627a3b39769687f2a6d874\",\n",
      "        \"64627c5239769687f2a6d875\",\n",
      "        \"646506f68019c4d441f6ec38\",\n",
      "        \"646506f78019c4d441f6ec39\",\n",
      "        \"646506f78019c4d441f6ec3a\",\n",
      "        \"646506f78019c4d441f6ec3b\",\n",
      "        \"646506f78019c4d441f6ec3c\"\n",
      "      ]\n",
      "    },\n",
      "    {\n",
      "      \"id\": \"2701d94bd3ae443f85fb3c21b98a9ad1\",\n",
      "      \"number\": 1,\n",
      "      \"modules\": [\n",
      "        \"64511f4bf9ce74323575ffff\",\n",
      "        \"646506c28019c4d441f6ec0f\",\n",
      "        \"646506c38019c4d441f6ec12\",\n",
      "        \"646506f18019c4d441f6ec13\",\n",
      "        \"646506f18019c4d441f6ec14\",\n",
      "        \"646506f18019c4d441f6ec15\",\n",
      "        \"646506f28019c4d441f6ec18\",\n",
      "        \"646506f28019c4d441f6ec1a\",\n",
      "        \"646506f38019c4d441f6ec24\"\n",
      "      ]\n",
      "    },\n",
      "    {\n",
      "      \"id\": \"1f8ed097370b4d33af375504f22550f2\",\n",
      "      \"number\": 2,\n",
      "      \"modules\": [\n",
      "        \"644827afc3faa4c9ea96a800\",\n",
      "        \"64496079d5fb014e40d5ea39\",\n",
      "        \"644960add5fb014e40d5ea3a\",\n",
      "        \"644960bcd5fb014e40d5ea3b\",\n",
      "        \"64511f49f9ce74323575fffe\",\n",
      "        \"646273ce39769687f2a6d860\",\n",
      "        \"6462747b39769687f2a6d864\",\n",
      "        \"646274e939769687f2a6d867\",\n",
      "        \"646506c28019c4d441f6ec0a\",\n",
      "        \"646506c28019c4d441f6ec0b\",\n",
      "        \"646506c28019c4d441f6ec0c\",\n",
      "        \"646506c28019c4d441f6ec0d\",\n",
      "        \"646506c28019c4d441f6ec0e\",\n",
      "        \"646506c28019c4d441f6ec10\",\n",
      "        \"646506f28019c4d441f6ec19\",\n",
      "        \"646506f28019c4d441f6ec1b\",\n",
      "        \"646506f28019c4d441f6ec1c\",\n",
      "        \"646506f48019c4d441f6ec27\",\n",
      "        \"646506f48019c4d441f6ec29\"\n",
      "      ]\n",
      "    },\n",
      "    {\n",
      "      \"id\": \"ac50e7c6d1c24dd08a5f7e98eebb6e71\",\n",
      "      \"number\": 3,\n",
      "      \"modules\": [\n",
      "        \"646270b939769687f2a6d858\",\n",
      "        \"6462756339769687f2a6d86a\",\n",
      "        \"646506c28019c4d441f6ec11\",\n",
      "        \"646506f18019c4d441f6ec16\",\n",
      "        \"646506f28019c4d441f6ec17\",\n",
      "        \"646506f48019c4d441f6ec2c\",\n",
      "        \"646506f48019c4d441f6ec2d\",\n",
      "        \"646506f48019c4d441f6ec2e\",\n",
      "        \"646506f58019c4d441f6ec30\"\n",
      "      ]\n",
      "    },\n",
      "    {\n",
      "      \"id\": \"77cd46539c714788a439ad7c0baa6787\",\n",
      "      \"number\": 4,\n",
      "      \"modules\": [\n",
      "        \"64496111d5fb014e40d5ea3c\",\n",
      "        \"6462741d39769687f2a6d862\",\n",
      "        \"6462745c39769687f2a6d863\",\n",
      "        \"6462749a39769687f2a6d865\",\n",
      "        \"646275ce39769687f2a6d86d\",\n",
      "        \"646275e739769687f2a6d86e\",\n",
      "        \"646506f28019c4d441f6ec1d\",\n",
      "        \"646506f38019c4d441f6ec26\",\n",
      "        \"646506f58019c4d441f6ec31\",\n",
      "        \"646506f58019c4d441f6ec32\"\n",
      "      ]\n",
      "    },\n",
      "    {\n",
      "      \"id\": \"45f27f253ac74d5d99ea8913aabf0151\",\n",
      "      \"number\": 5,\n",
      "      \"modules\": [\n",
      "        \"646274c539769687f2a6d866\",\n",
      "        \"6462750d39769687f2a6d868\",\n",
      "        \"6462752e39769687f2a6d869\",\n",
      "        \"646275a839769687f2a6d86c\",\n",
      "        \"646506f48019c4d441f6ec28\",\n",
      "        \"646506f48019c4d441f6ec2a\",\n",
      "        \"646506f48019c4d441f6ec2b\",\n",
      "        \"646506f58019c4d441f6ec2f\",\n",
      "        \"646506f58019c4d441f6ec33\",\n",
      "        \"646506f68019c4d441f6ec37\"\n",
      "      ]\n",
      "    },\n",
      "    {\n",
      "      \"id\": \"4dfde73f233f45b1ae1f83d0cee010ff\",\n",
      "      \"number\": 6,\n",
      "      \"modules\": [\n",
      "        \"6462758c39769687f2a6d86b\",\n",
      "        \"646506f28019c4d441f6ec1e\",\n",
      "        \"646506f38019c4d441f6ec1f\",\n",
      "        \"646506f38019c4d441f6ec20\",\n",
      "        \"646506f38019c4d441f6ec21\",\n",
      "        \"646506f38019c4d441f6ec22\",\n",
      "        \"646506f38019c4d441f6ec23\"\n",
      "      ]\n",
      "    },\n",
      "    {\n",
      "      \"id\": \"0f54b37a3ad54de68621191df1a426b0\",\n",
      "      \"number\": 7,\n",
      "      \"modules\": [\n",
      "        \"646273e539769687f2a6d861\",\n",
      "        \"646506f38019c4d441f6ec25\"\n",
      "      ]\n",
      "    },\n",
      "    {\n",
      "      \"id\": \"4b392e02c4df4079a756305573de888d\",\n",
      "      \"number\": 8,\n",
      "      \"modules\": [\n",
      "        \"6462763e39769687f2a6d86f\",\n",
      "        \"6462765939769687f2a6d870\",\n",
      "        \"6462768539769687f2a6d871\",\n",
      "        \"646506f68019c4d441f6ec34\",\n",
      "        \"646506f68019c4d441f6ec35\",\n",
      "        \"646506f68019c4d441f6ec36\"\n",
      "      ]\n",
      "    }\n",
      "  ]\n",
      "}\n"
     ]
    }
   ],
   "source": [
    "import uuid\n",
    "\n",
    "# create a json list of objects from the moduleDF where each module is grouped by the cluster number.\n",
    "# The result should be a list of collection objects with a modules key that is representative of the cluster's modules\n",
    "\n",
    "# create a list of clusters\n",
    "clusters = moduleDF['cluster'].unique().tolist()\n",
    "\n",
    "# create a list of modules\n",
    "modules = moduleDF['id'].unique().tolist()\n",
    "\n",
    "jsonList = []\n",
    "\n",
    "for cluster in clusters:\n",
    "    jsonList.append({\n",
    "        'id': uuid.uuid4().hex,\n",
    "        'number': cluster,\n",
    "        'modules': moduleDF[moduleDF['cluster'] == cluster]['id'].tolist()\n",
    "    })\n",
    "\n",
    "payload = {\n",
    "    \"collections\": sorted(jsonList, key=lambda x: x['number'])\n",
    "}\n",
    "\n",
    "json_payload = json.dumps(payload, indent=2)\n",
    "\n",
    "print(json_payload)"
   ],
   "metadata": {
    "collapsed": false,
    "ExecuteTime": {
     "end_time": "2023-05-25T16:33:26.740470Z",
     "start_time": "2023-05-25T16:33:26.721554Z"
    }
   }
  },
  {
   "cell_type": "code",
   "execution_count": 214,
   "outputs": [],
   "source": [
    "# save json payload as json file\n",
    "\n",
    "with open('enma603.json', 'w') as outfile:\n",
    "    json.dump(payload, outfile, indent=2)"
   ],
   "metadata": {
    "collapsed": false,
    "ExecuteTime": {
     "end_time": "2023-05-25T16:33:26.740517Z",
     "start_time": "2023-05-25T16:33:26.724182Z"
    }
   }
  },
  {
   "cell_type": "markdown",
   "source": [
    "TODO:\n",
    "1. Generate a name for each cluster based on the top keywords\n",
    "2. Separate the collections into groups of sections based on the similarity of the collection's modules\n",
    "3. Map the sections to existing sections in the course\n",
    "4. Generate a learning path for the single course, it's sections, it's collections, and it's modules\n"
   ],
   "metadata": {
    "collapsed": false
   }
  },
  {
   "cell_type": "code",
   "execution_count": null,
   "outputs": [],
   "source": [],
   "metadata": {
    "collapsed": false
   }
  }
 ],
 "metadata": {
  "kernelspec": {
   "display_name": "Python 3",
   "language": "python",
   "name": "python3"
  },
  "language_info": {
   "codemirror_mode": {
    "name": "ipython",
    "version": 2
   },
   "file_extension": ".py",
   "mimetype": "text/x-python",
   "name": "python",
   "nbconvert_exporter": "python",
   "pygments_lexer": "ipython2",
   "version": "2.7.6"
  }
 },
 "nbformat": 4,
 "nbformat_minor": 0
}
