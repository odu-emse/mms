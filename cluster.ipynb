{
 "cells": [
  {
   "cell_type": "code",
   "execution_count": 26,
   "metadata": {
    "collapsed": true,
    "ExecuteTime": {
     "end_time": "2023-05-12T15:58:09.199356Z",
     "start_time": "2023-05-12T15:58:09.196626Z"
    }
   },
   "outputs": [],
   "source": [
    "import requests\n",
    "import json\n",
    "import pandas as pd"
   ]
  },
  {
   "cell_type": "code",
   "execution_count": 20,
   "outputs": [],
   "source": [
    "url = 'http://localhost:4000/graphql'"
   ],
   "metadata": {
    "collapsed": false,
    "ExecuteTime": {
     "end_time": "2023-05-12T15:56:05.979225Z",
     "start_time": "2023-05-12T15:56:05.975197Z"
    }
   }
  },
  {
   "cell_type": "code",
   "execution_count": 28,
   "outputs": [
    {
     "name": "stdout",
     "output_type": "stream",
     "text": [
      "[\n",
      "  {\n",
      "    \"id\": \"644827afc3faa4c9ea96a800\",\n",
      "    \"name\": \"Linear Regression\",\n",
      "    \"hours\": 0.75,\n",
      "    \"objectives\": [\n",
      "      \"regression\",\n",
      "      \"algebra\",\n",
      "      \"statistics\"\n",
      "    ],\n",
      "    \"description\": \"This module is designed to introduce students to linear regression, a powerful statistical technique used to model the relationship between two variables. Through interactive lessons and hands-on activities, students will learn how to build linear regression models, interpret their results, and use them to make predictions and draw conclusions about the data. The module will cover the assumptions and limitations of linear regression, as well as techniques for validating and improving the model. Students will also learn about different types of linear regression, including simple and multiple regression, and how to apply them to real-world problems. By the end of the module, students will have a strong understanding of linear regression and be able to apply it to a wide range of fields, including business, social sciences, and natural sciences.\"\n",
      "  },\n",
      "  {\n",
      "    \"id\": \"64496079d5fb014e40d5ea39\",\n",
      "    \"name\": \"Statistical Analysis\",\n",
      "    \"hours\": 1.5,\n",
      "    \"objectives\": [\n",
      "      \"statistics\"\n",
      "    ],\n",
      "    \"description\": \"This module is designed to teach students the fundamentals of statistical analysis, including data collection, organization, and analysis. Through hands-on activities and real-world case studies, students will learn how to use statistical techniques to make informed decisions and draw meaningful conclusions from data. The module will cover basic statistical concepts such as measures of central tendency, variance, and standard deviation, as well as more advanced topics such as hypothesis testing and regression analysis. By the end of the module, students will have a comprehensive understanding of statistical analysis and be able to apply it to a wide range of fields, including business, science, and social sciences.\"\n",
      "  },\n",
      "  {\n",
      "    \"id\": \"644960add5fb014e40d5ea3a\",\n",
      "    \"name\": \"Logarithms\",\n",
      "    \"hours\": 2,\n",
      "    \"objectives\": [\n",
      "      \"algebra\",\n",
      "      \"logarithms\"\n",
      "    ],\n",
      "    \"description\": \"This module is designed to introduce students to logarithms, an important mathematical concept used in many fields, including science, engineering, and finance. Through interactive lessons and problem-solving activities, students will learn the properties and rules of logarithms, as well as how to use them to solve exponential equations and real-world problems. The module will also cover logarithmic functions and their applications, such as in modeling population growth and radioactive decay. By the end of the module, students will have a solid understanding of logarithms and be able to apply them to a wide range of mathematical and scientific problems.\"\n",
      "  },\n",
      "  {\n",
      "    \"id\": \"644960bcd5fb014e40d5ea3b\",\n",
      "    \"name\": \"Arithmatics\",\n",
      "    \"hours\": 0.5,\n",
      "    \"objectives\": [\n",
      "      \"algebra\"\n",
      "    ],\n",
      "    \"description\": \"This module is designed to teach students the fundamentals of arithmetic, including whole number operations, fractions, decimals, and percentages. Through hands-on activities and real-world problem-solving, students will develop a solid understanding of arithmetic concepts and improve their mathematical reasoning skills. The module will also introduce students to different arithmetic techniques and strategies, such as mental math and estimation, to help them become more efficient and effective learners. By the end of the module, students will have the confidence and skills needed to tackle more advanced mathematical topics.\"\n",
      "  },\n",
      "  {\n",
      "    \"id\": \"64496111d5fb014e40d5ea3c\",\n",
      "    \"name\": \"Euclidean distance\",\n",
      "    \"hours\": 2.25,\n",
      "    \"objectives\": [\n",
      "      \"linear algebra\",\n",
      "      \"statistics\",\n",
      "      \"regression\"\n",
      "    ],\n",
      "    \"description\": \"In this module, we'll be learning about the Euclidean distance, a fundamental concept in mathematics and computer science. The Euclidean distance is the straight-line distance between two points in a Euclidean space, which is a space with a well-defined notion of distance and angles. We'll explore how to calculate the Euclidean distance in two dimensions using the Pythagorean theorem, and extend this concept to higher dimensions. We'll also look at some practical applications of the Euclidean distance in fields such as data analysis and machine learning. By the end of this module, you'll have a clear understanding of what the Euclidean distance is, how to calculate it, and why it's important.\"\n",
      "  },\n",
      "  {\n",
      "    \"id\": \"645117a52a4785d4b779975d\",\n",
      "    \"name\": \"Introduction\",\n",
      "    \"hours\": 0.25,\n",
      "    \"objectives\": [],\n",
      "    \"description\": \"\"\n",
      "  },\n",
      "  {\n",
      "    \"id\": \"645117b32a4785d4b779975e\",\n",
      "    \"name\": \"Definition, History, and Applications\",\n",
      "    \"hours\": 0.2,\n",
      "    \"objectives\": [],\n",
      "    \"description\": \"\"\n",
      "  },\n",
      "  {\n",
      "    \"id\": \"645117bf2a4785d4b779975f\",\n",
      "    \"name\": \"Operational Research Modeling\",\n",
      "    \"hours\": 0.3,\n",
      "    \"objectives\": [],\n",
      "    \"description\": \"\"\n",
      "  },\n",
      "  {\n",
      "    \"id\": \"645117ca2a4785d4b7799760\",\n",
      "    \"name\": \"Break-Even Analysis\",\n",
      "    \"hours\": 0.275,\n",
      "    \"objectives\": [],\n",
      "    \"description\": \"\"\n",
      "  },\n",
      "  {\n",
      "    \"id\": \"64511ab2f9ce74323575fff7\",\n",
      "    \"name\": \"Linear Programming (LP) Modeling\",\n",
      "    \"hours\": 0.3,\n",
      "    \"objectives\": [],\n",
      "    \"description\": \"\"\n",
      "  },\n",
      "  {\n",
      "    \"id\": \"64511acbf9ce74323575fff8\",\n",
      "    \"name\": \"LP Model Formulation Example\",\n",
      "    \"hours\": 0.3,\n",
      "    \"objectives\": [],\n",
      "    \"description\": \"\"\n",
      "  },\n",
      "  {\n",
      "    \"id\": \"64511ad2f9ce74323575fff9\",\n",
      "    \"name\": \"Graphical Method for LP {Maximization}\",\n",
      "    \"hours\": 0.3,\n",
      "    \"objectives\": [],\n",
      "    \"description\": \"\"\n",
      "  },\n",
      "  {\n",
      "    \"id\": \"64511aeaf9ce74323575fffa\",\n",
      "    \"name\": \"Graphical Method for LP {Minimization}\",\n",
      "    \"hours\": 0.3,\n",
      "    \"objectives\": [],\n",
      "    \"description\": \"\"\n",
      "  },\n",
      "  {\n",
      "    \"id\": \"64511af8f9ce74323575fffb\",\n",
      "    \"name\": \"Irregular Types of LP Problems\",\n",
      "    \"hours\": 0.3,\n",
      "    \"objectives\": [],\n",
      "    \"description\": \"\"\n",
      "  },\n",
      "  {\n",
      "    \"id\": \"64511b07f9ce74323575fffc\",\n",
      "    \"name\": \"Introduction\",\n",
      "    \"hours\": 0.3,\n",
      "    \"objectives\": [],\n",
      "    \"description\": \"\"\n",
      "  },\n",
      "  {\n",
      "    \"id\": \"64511f49f9ce74323575fffe\",\n",
      "    \"name\": \"Introduction\",\n",
      "    \"hours\": 0.3,\n",
      "    \"objectives\": [],\n",
      "    \"description\": \"\"\n",
      "  },\n",
      "  {\n",
      "    \"id\": \"64511f4bf9ce74323575ffff\",\n",
      "    \"name\": \"Computer Solutions for LP Formulations\",\n",
      "    \"hours\": 0.3,\n",
      "    \"objectives\": [],\n",
      "    \"description\": \"\"\n",
      "  },\n",
      "  {\n",
      "    \"id\": \"64511f58f9ce743235760000\",\n",
      "    \"name\": \"Sensitivity Analysis for LP Models\",\n",
      "    \"hours\": 0.3,\n",
      "    \"objectives\": [],\n",
      "    \"description\": \"\"\n",
      "  }\n",
      "]\n"
     ]
    }
   ],
   "source": [
    "moduleData = requests.post(url, json={'query': '{ module(input:{}){id, name, hours, objectives, description} }'}).json()\n",
    "\n",
    "print(json.dumps(moduleData.get('data').get('module'), indent=2))"
   ],
   "metadata": {
    "collapsed": false,
    "ExecuteTime": {
     "end_time": "2023-05-12T15:58:19.797938Z",
     "start_time": "2023-05-12T15:58:19.523917Z"
    }
   }
  },
  {
   "cell_type": "code",
   "execution_count": 31,
   "outputs": [
    {
     "data": {
      "text/plain": "                         id                  name  hours  \\\n0  644827afc3faa4c9ea96a800     Linear Regression   0.75   \n1  64496079d5fb014e40d5ea39  Statistical Analysis   1.50   \n2  644960add5fb014e40d5ea3a            Logarithms   2.00   \n3  644960bcd5fb014e40d5ea3b           Arithmatics   0.50   \n4  64496111d5fb014e40d5ea3c    Euclidean distance   2.25   \n\n                                 objectives  \\\n0         [regression, algebra, statistics]   \n1                              [statistics]   \n2                     [algebra, logarithms]   \n3                                 [algebra]   \n4  [linear algebra, statistics, regression]   \n\n                                         description  \n0  This module is designed to introduce students ...  \n1  This module is designed to teach students the ...  \n2  This module is designed to introduce students ...  \n3  This module is designed to teach students the ...  \n4  In this module, we'll be learning about the Eu...  ",
      "text/html": "<div>\n<style scoped>\n    .dataframe tbody tr th:only-of-type {\n        vertical-align: middle;\n    }\n\n    .dataframe tbody tr th {\n        vertical-align: top;\n    }\n\n    .dataframe thead th {\n        text-align: right;\n    }\n</style>\n<table border=\"1\" class=\"dataframe\">\n  <thead>\n    <tr style=\"text-align: right;\">\n      <th></th>\n      <th>id</th>\n      <th>name</th>\n      <th>hours</th>\n      <th>objectives</th>\n      <th>description</th>\n    </tr>\n  </thead>\n  <tbody>\n    <tr>\n      <th>0</th>\n      <td>644827afc3faa4c9ea96a800</td>\n      <td>Linear Regression</td>\n      <td>0.75</td>\n      <td>[regression, algebra, statistics]</td>\n      <td>This module is designed to introduce students ...</td>\n    </tr>\n    <tr>\n      <th>1</th>\n      <td>64496079d5fb014e40d5ea39</td>\n      <td>Statistical Analysis</td>\n      <td>1.50</td>\n      <td>[statistics]</td>\n      <td>This module is designed to teach students the ...</td>\n    </tr>\n    <tr>\n      <th>2</th>\n      <td>644960add5fb014e40d5ea3a</td>\n      <td>Logarithms</td>\n      <td>2.00</td>\n      <td>[algebra, logarithms]</td>\n      <td>This module is designed to introduce students ...</td>\n    </tr>\n    <tr>\n      <th>3</th>\n      <td>644960bcd5fb014e40d5ea3b</td>\n      <td>Arithmatics</td>\n      <td>0.50</td>\n      <td>[algebra]</td>\n      <td>This module is designed to teach students the ...</td>\n    </tr>\n    <tr>\n      <th>4</th>\n      <td>64496111d5fb014e40d5ea3c</td>\n      <td>Euclidean distance</td>\n      <td>2.25</td>\n      <td>[linear algebra, statistics, regression]</td>\n      <td>In this module, we'll be learning about the Eu...</td>\n    </tr>\n  </tbody>\n</table>\n</div>"
     },
     "execution_count": 31,
     "metadata": {},
     "output_type": "execute_result"
    }
   ],
   "source": [
    "moduleDF = pd.DataFrame(moduleData.get('data').get('module'))\n",
    "\n",
    "moduleDF.head()"
   ],
   "metadata": {
    "collapsed": false,
    "ExecuteTime": {
     "end_time": "2023-05-12T15:58:46.832771Z",
     "start_time": "2023-05-12T15:58:46.818925Z"
    }
   }
  },
  {
   "cell_type": "code",
   "execution_count": 23,
   "outputs": [
    {
     "name": "stdout",
     "output_type": "stream",
     "text": [
      "[\n",
      "  {\n",
      "    \"id\": \"64480fd85ee3f93a77784aeb\",\n",
      "    \"sectionName\": \"Course Introduction and Design\",\n",
      "    \"description\": \"Assess the effectiveness of your past, current, and future projects based on universal success factors and global contingency considerations,  Intelligently evaluate projects for inclusion, and continued investment, in an organization\\u2019s portfolio,  Revise project plans to accommodate time and resource conflicts, Evaluate project performance based on a balanced set of key performance indicators, Apply critical thinking to assess project situations and devise appropriate tactical and strategic responses, Present yourself to a potential employer as someone who is capable of leading projects\",\n",
      "    \"intro\": \"\",\n",
      "    \"keywords\": [\n",
      "      \"expectations\",\n",
      "      \"management\",\n",
      "      \"conceptual\"\n",
      "    ],\n",
      "    \"objectives\": [\n",
      "      \"Discuss high level and integration of topics in course design\",\n",
      "      \"Understand conceptual approach to treatment of project management\",\n",
      "      \"Recognize requirements and treatment of project management\",\n",
      "      \"Recognize requirements and expectations necessary for successful completion of course\"\n",
      "    ]\n",
      "  },\n",
      "  {\n",
      "    \"id\": \"64492dab53da498461a3e3c1\",\n",
      "    \"sectionName\": \"Test 2\",\n",
      "    \"description\": \"Some wise words\",\n",
      "    \"intro\": \"Wise words\",\n",
      "    \"keywords\": [],\n",
      "    \"objectives\": []\n",
      "  },\n",
      "  {\n",
      "    \"id\": \"645116ec2a4785d4b7799759\",\n",
      "    \"sectionName\": \"Section 1\",\n",
      "    \"description\": \"In this module, we introduce to the area of Operations Research and the general approach to mathematical modeling starting from problem definition to defining a certain optimization objective subject to some constraints.  We will also touch on some OR\\u2019s history and go over the most common applications. We start in this module with the most basic OR models: The Break-Even Analysis in which we learn how to determine points at which profit equals cost or in some cases when the point at which decisions become equivalent or indifferent.\",\n",
      "    \"intro\": \"\",\n",
      "    \"keywords\": [],\n",
      "    \"objectives\": []\n",
      "  },\n",
      "  {\n",
      "    \"id\": \"645116f22a4785d4b779975a\",\n",
      "    \"sectionName\": \"Section 2\",\n",
      "    \"description\": \"In this module, we introduce the area of Linear Programming modeling and discuss the different components and the requirements of a linear program. We will also present the modeling process and how to go about defining the decision variables, the objective function, and constraints.  Most of the content in this module, is focused on the Graphical Solution Method for Linear Programming. The method is necessary to develop a good understanding of how to solve linear programming mathematical models.  We also briefly discuss some irregular types of linear programming problems and situations, including having multiple optimal solutions, infeasible solutions, and unbounded solutions.\",\n",
      "    \"intro\": \"\",\n",
      "    \"keywords\": [],\n",
      "    \"objectives\": []\n",
      "  },\n",
      "  {\n",
      "    \"id\": \"645116f62a4785d4b779975b\",\n",
      "    \"sectionName\": \"Section 3\",\n",
      "    \"description\": \"\",\n",
      "    \"intro\": \"\",\n",
      "    \"keywords\": [],\n",
      "    \"objectives\": []\n",
      "  }\n",
      "]\n"
     ]
    }
   ],
   "source": [
    "sectionData = requests.post(url, json={'query': '{ section(input:{}){id, sectionName, description, intro, keywords, objectives} }'}).json()\n",
    "\n",
    "print(json.dumps(sectionData.get('data').get('section'), indent=2))"
   ],
   "metadata": {
    "collapsed": false,
    "ExecuteTime": {
     "end_time": "2023-05-12T15:56:59.832733Z",
     "start_time": "2023-05-12T15:56:59.628085Z"
    }
   }
  },
  {
   "cell_type": "code",
   "execution_count": 32,
   "outputs": [
    {
     "data": {
      "text/plain": "                         id                     sectionName  \\\n0  64480fd85ee3f93a77784aeb  Course Introduction and Design   \n1  64492dab53da498461a3e3c1                          Test 2   \n2  645116ec2a4785d4b7799759                       Section 1   \n3  645116f22a4785d4b779975a                       Section 2   \n4  645116f62a4785d4b779975b                       Section 3   \n\n                                         description       intro  \\\n0  Assess the effectiveness of your past, current...               \n1                                    Some wise words  Wise words   \n2  In this module, we introduce to the area of Op...               \n3  In this module, we introduce the area of Linea...               \n4                                                                  \n\n                                 keywords  \\\n0  [expectations, management, conceptual]   \n1                                      []   \n2                                      []   \n3                                      []   \n4                                      []   \n\n                                          objectives  \n0  [Discuss high level and integration of topics ...  \n1                                                 []  \n2                                                 []  \n3                                                 []  \n4                                                 []  ",
      "text/html": "<div>\n<style scoped>\n    .dataframe tbody tr th:only-of-type {\n        vertical-align: middle;\n    }\n\n    .dataframe tbody tr th {\n        vertical-align: top;\n    }\n\n    .dataframe thead th {\n        text-align: right;\n    }\n</style>\n<table border=\"1\" class=\"dataframe\">\n  <thead>\n    <tr style=\"text-align: right;\">\n      <th></th>\n      <th>id</th>\n      <th>sectionName</th>\n      <th>description</th>\n      <th>intro</th>\n      <th>keywords</th>\n      <th>objectives</th>\n    </tr>\n  </thead>\n  <tbody>\n    <tr>\n      <th>0</th>\n      <td>64480fd85ee3f93a77784aeb</td>\n      <td>Course Introduction and Design</td>\n      <td>Assess the effectiveness of your past, current...</td>\n      <td></td>\n      <td>[expectations, management, conceptual]</td>\n      <td>[Discuss high level and integration of topics ...</td>\n    </tr>\n    <tr>\n      <th>1</th>\n      <td>64492dab53da498461a3e3c1</td>\n      <td>Test 2</td>\n      <td>Some wise words</td>\n      <td>Wise words</td>\n      <td>[]</td>\n      <td>[]</td>\n    </tr>\n    <tr>\n      <th>2</th>\n      <td>645116ec2a4785d4b7799759</td>\n      <td>Section 1</td>\n      <td>In this module, we introduce to the area of Op...</td>\n      <td></td>\n      <td>[]</td>\n      <td>[]</td>\n    </tr>\n    <tr>\n      <th>3</th>\n      <td>645116f22a4785d4b779975a</td>\n      <td>Section 2</td>\n      <td>In this module, we introduce the area of Linea...</td>\n      <td></td>\n      <td>[]</td>\n      <td>[]</td>\n    </tr>\n    <tr>\n      <th>4</th>\n      <td>645116f62a4785d4b779975b</td>\n      <td>Section 3</td>\n      <td></td>\n      <td></td>\n      <td>[]</td>\n      <td>[]</td>\n    </tr>\n  </tbody>\n</table>\n</div>"
     },
     "execution_count": 32,
     "metadata": {},
     "output_type": "execute_result"
    }
   ],
   "source": [
    "sectionDF = pd.DataFrame(sectionData.get('data').get('section'))\n",
    "\n",
    "sectionDF.head()"
   ],
   "metadata": {
    "collapsed": false,
    "ExecuteTime": {
     "end_time": "2023-05-12T15:59:16.603285Z",
     "start_time": "2023-05-12T15:59:16.599210Z"
    }
   }
  },
  {
   "cell_type": "code",
   "execution_count": 49,
   "outputs": [
    {
     "data": {
      "text/plain": "                0\n0      regression\n1         algebra\n2      statistics\n3      statistics\n4         algebra\n5      logarithms\n6         algebra\n7  linear algebra\n8      statistics\n9      regression",
      "text/html": "<div>\n<style scoped>\n    .dataframe tbody tr th:only-of-type {\n        vertical-align: middle;\n    }\n\n    .dataframe tbody tr th {\n        vertical-align: top;\n    }\n\n    .dataframe thead th {\n        text-align: right;\n    }\n</style>\n<table border=\"1\" class=\"dataframe\">\n  <thead>\n    <tr style=\"text-align: right;\">\n      <th></th>\n      <th>0</th>\n    </tr>\n  </thead>\n  <tbody>\n    <tr>\n      <th>0</th>\n      <td>regression</td>\n    </tr>\n    <tr>\n      <th>1</th>\n      <td>algebra</td>\n    </tr>\n    <tr>\n      <th>2</th>\n      <td>statistics</td>\n    </tr>\n    <tr>\n      <th>3</th>\n      <td>statistics</td>\n    </tr>\n    <tr>\n      <th>4</th>\n      <td>algebra</td>\n    </tr>\n    <tr>\n      <th>5</th>\n      <td>logarithms</td>\n    </tr>\n    <tr>\n      <th>6</th>\n      <td>algebra</td>\n    </tr>\n    <tr>\n      <th>7</th>\n      <td>linear algebra</td>\n    </tr>\n    <tr>\n      <th>8</th>\n      <td>statistics</td>\n    </tr>\n    <tr>\n      <th>9</th>\n      <td>regression</td>\n    </tr>\n  </tbody>\n</table>\n</div>"
     },
     "execution_count": 49,
     "metadata": {},
     "output_type": "execute_result"
    }
   ],
   "source": [
    "objectivesList = list()\n",
    "\n",
    "for obj in moduleDF.objectives:\n",
    "    for elm in obj:\n",
    "        objectivesList.append(elm)\n",
    "\n",
    "objectivesDF = pd.DataFrame(objectivesList)\n",
    "\n",
    "objectivesDF.head(10)"
   ],
   "metadata": {
    "collapsed": false,
    "ExecuteTime": {
     "end_time": "2023-05-12T16:08:24.643748Z",
     "start_time": "2023-05-12T16:08:24.639963Z"
    }
   }
  },
  {
   "cell_type": "code",
   "execution_count": null,
   "outputs": [],
   "source": [],
   "metadata": {
    "collapsed": false
   }
  }
 ],
 "metadata": {
  "kernelspec": {
   "display_name": "Python 3",
   "language": "python",
   "name": "python3"
  },
  "language_info": {
   "codemirror_mode": {
    "name": "ipython",
    "version": 2
   },
   "file_extension": ".py",
   "mimetype": "text/x-python",
   "name": "python",
   "nbconvert_exporter": "python",
   "pygments_lexer": "ipython2",
   "version": "2.7.6"
  }
 },
 "nbformat": 4,
 "nbformat_minor": 0
}
