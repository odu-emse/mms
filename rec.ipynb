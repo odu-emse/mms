{
 "cells": [
  {
   "cell_type": "markdown",
   "source": [
    "# Content Based Recommendation System\n",
    "Recommends modules based on the features of the given module. The features are moduleName, intro, description, keywords and objectives. The features are combined and cleaned. The cleaned features are then used to find the cosine similarity between the given module and all the other modules. The modules with the highest cosine similarity are recommended."
   ],
   "metadata": {
    "collapsed": false
   }
  },
  {
   "cell_type": "code",
   "execution_count": 109,
   "metadata": {
    "collapsed": true
   },
   "outputs": [],
   "source": [
    "import pandas as pd"
   ]
  },
  {
   "cell_type": "code",
   "execution_count": 110,
   "outputs": [],
   "source": [
    "df = pd.read_json('input/modules.json')"
   ],
   "metadata": {
    "collapsed": false
   }
  },
  {
   "cell_type": "code",
   "execution_count": 111,
   "outputs": [
    {
     "data": {
      "text/plain": "                                     id moduleName  \\\n0  {'$oid': '6400ca8dfc13ae6500000834'}    Pannier   \n1  {'$oid': '6400ca8dfc13ae6500000835'}  Cardguard   \n2  {'$oid': '6400ca8dfc13ae6500000836'}     Zoolab   \n3  {'$oid': '6400ca8dfc13ae6500000837'}    Veribet   \n4  {'$oid': '6400ca8dfc13ae6500000838'}     Namfix   \n\n                                            keywords  \\\n0  [Advanced, 24/7, Team-oriented, User-friendly,...   \n1  [internet solution, process improvement, defin...   \n2  [synergy, Reactive, Team-oriented, strategy, f...   \n3  [superstructure, analyzer, Re-contextualized, ...   \n4  [object-oriented, frame, time-frame, eco-centr...   \n\n                                          intro  \\\n0                    Up-sized dedicated circuit   \n1  Quality-focused non-volatile standardization   \n2          Customizable 5th generation database   \n3              Front-line zero tolerance matrix   \n4                  Focused transitional support   \n\n                             description  \\\n0            Upgradable didactic product   \n1  Switchable solution-oriented intranet   \n2          Down-sized fault-tolerant hub   \n3    Distributed interactive open system   \n4           Cross-group uniform solution   \n\n                                          objectives  \n0  [IT Law, Protein Purification, Hyper-V, ERD, F...  \n1  [FSI, JPA, Single Family Homes, 7 QC Tools, Au...  \n2  [Emergency Medicine, TUPE, NoSQL, Heavy Oil, S...  \n3  [Water Quality, TSYS, Pneumatic Conveying, BMV...  \n4     [Zend, JCAPS, Equity Research, dsPIC, Biology]  ",
      "text/html": "<div>\n<style scoped>\n    .dataframe tbody tr th:only-of-type {\n        vertical-align: middle;\n    }\n\n    .dataframe tbody tr th {\n        vertical-align: top;\n    }\n\n    .dataframe thead th {\n        text-align: right;\n    }\n</style>\n<table border=\"1\" class=\"dataframe\">\n  <thead>\n    <tr style=\"text-align: right;\">\n      <th></th>\n      <th>id</th>\n      <th>moduleName</th>\n      <th>keywords</th>\n      <th>intro</th>\n      <th>description</th>\n      <th>objectives</th>\n    </tr>\n  </thead>\n  <tbody>\n    <tr>\n      <th>0</th>\n      <td>{'$oid': '6400ca8dfc13ae6500000834'}</td>\n      <td>Pannier</td>\n      <td>[Advanced, 24/7, Team-oriented, User-friendly,...</td>\n      <td>Up-sized dedicated circuit</td>\n      <td>Upgradable didactic product</td>\n      <td>[IT Law, Protein Purification, Hyper-V, ERD, F...</td>\n    </tr>\n    <tr>\n      <th>1</th>\n      <td>{'$oid': '6400ca8dfc13ae6500000835'}</td>\n      <td>Cardguard</td>\n      <td>[internet solution, process improvement, defin...</td>\n      <td>Quality-focused non-volatile standardization</td>\n      <td>Switchable solution-oriented intranet</td>\n      <td>[FSI, JPA, Single Family Homes, 7 QC Tools, Au...</td>\n    </tr>\n    <tr>\n      <th>2</th>\n      <td>{'$oid': '6400ca8dfc13ae6500000836'}</td>\n      <td>Zoolab</td>\n      <td>[synergy, Reactive, Team-oriented, strategy, f...</td>\n      <td>Customizable 5th generation database</td>\n      <td>Down-sized fault-tolerant hub</td>\n      <td>[Emergency Medicine, TUPE, NoSQL, Heavy Oil, S...</td>\n    </tr>\n    <tr>\n      <th>3</th>\n      <td>{'$oid': '6400ca8dfc13ae6500000837'}</td>\n      <td>Veribet</td>\n      <td>[superstructure, analyzer, Re-contextualized, ...</td>\n      <td>Front-line zero tolerance matrix</td>\n      <td>Distributed interactive open system</td>\n      <td>[Water Quality, TSYS, Pneumatic Conveying, BMV...</td>\n    </tr>\n    <tr>\n      <th>4</th>\n      <td>{'$oid': '6400ca8dfc13ae6500000838'}</td>\n      <td>Namfix</td>\n      <td>[object-oriented, frame, time-frame, eco-centr...</td>\n      <td>Focused transitional support</td>\n      <td>Cross-group uniform solution</td>\n      <td>[Zend, JCAPS, Equity Research, dsPIC, Biology]</td>\n    </tr>\n  </tbody>\n</table>\n</div>"
     },
     "execution_count": 111,
     "metadata": {},
     "output_type": "execute_result"
    }
   ],
   "source": [
    "df.head()"
   ],
   "metadata": {
    "collapsed": false
   }
  },
  {
   "cell_type": "code",
   "execution_count": 112,
   "outputs": [],
   "source": [
    "def clean_module_id(df):\n",
    "    temp_id = df['id']\n",
    "    temp_id = dict(temp_id)\n",
    "    temp_id = temp_id['$oid']\n",
    "    df['_id'] = temp_id\n",
    "    return df"
   ],
   "metadata": {
    "collapsed": false
   }
  },
  {
   "cell_type": "code",
   "execution_count": 113,
   "outputs": [],
   "source": [
    "df = df.apply(clean_module_id, axis=1)\n",
    "df = df.drop(['id'], axis=1)\n",
    "df = df.reset_index(drop=True)"
   ],
   "metadata": {
    "collapsed": false
   }
  },
  {
   "cell_type": "code",
   "execution_count": 114,
   "outputs": [
    {
     "data": {
      "text/plain": "  moduleName                                           keywords  \\\n0    Pannier  [Advanced, 24/7, Team-oriented, User-friendly,...   \n1  Cardguard  [internet solution, process improvement, defin...   \n2     Zoolab  [synergy, Reactive, Team-oriented, strategy, f...   \n3    Veribet  [superstructure, analyzer, Re-contextualized, ...   \n4     Namfix  [object-oriented, frame, time-frame, eco-centr...   \n\n                                          intro  \\\n0                    Up-sized dedicated circuit   \n1  Quality-focused non-volatile standardization   \n2          Customizable 5th generation database   \n3              Front-line zero tolerance matrix   \n4                  Focused transitional support   \n\n                             description  \\\n0            Upgradable didactic product   \n1  Switchable solution-oriented intranet   \n2          Down-sized fault-tolerant hub   \n3    Distributed interactive open system   \n4           Cross-group uniform solution   \n\n                                          objectives                       _id  \n0  [IT Law, Protein Purification, Hyper-V, ERD, F...  6400ca8dfc13ae6500000834  \n1  [FSI, JPA, Single Family Homes, 7 QC Tools, Au...  6400ca8dfc13ae6500000835  \n2  [Emergency Medicine, TUPE, NoSQL, Heavy Oil, S...  6400ca8dfc13ae6500000836  \n3  [Water Quality, TSYS, Pneumatic Conveying, BMV...  6400ca8dfc13ae6500000837  \n4     [Zend, JCAPS, Equity Research, dsPIC, Biology]  6400ca8dfc13ae6500000838  ",
      "text/html": "<div>\n<style scoped>\n    .dataframe tbody tr th:only-of-type {\n        vertical-align: middle;\n    }\n\n    .dataframe tbody tr th {\n        vertical-align: top;\n    }\n\n    .dataframe thead th {\n        text-align: right;\n    }\n</style>\n<table border=\"1\" class=\"dataframe\">\n  <thead>\n    <tr style=\"text-align: right;\">\n      <th></th>\n      <th>moduleName</th>\n      <th>keywords</th>\n      <th>intro</th>\n      <th>description</th>\n      <th>objectives</th>\n      <th>_id</th>\n    </tr>\n  </thead>\n  <tbody>\n    <tr>\n      <th>0</th>\n      <td>Pannier</td>\n      <td>[Advanced, 24/7, Team-oriented, User-friendly,...</td>\n      <td>Up-sized dedicated circuit</td>\n      <td>Upgradable didactic product</td>\n      <td>[IT Law, Protein Purification, Hyper-V, ERD, F...</td>\n      <td>6400ca8dfc13ae6500000834</td>\n    </tr>\n    <tr>\n      <th>1</th>\n      <td>Cardguard</td>\n      <td>[internet solution, process improvement, defin...</td>\n      <td>Quality-focused non-volatile standardization</td>\n      <td>Switchable solution-oriented intranet</td>\n      <td>[FSI, JPA, Single Family Homes, 7 QC Tools, Au...</td>\n      <td>6400ca8dfc13ae6500000835</td>\n    </tr>\n    <tr>\n      <th>2</th>\n      <td>Zoolab</td>\n      <td>[synergy, Reactive, Team-oriented, strategy, f...</td>\n      <td>Customizable 5th generation database</td>\n      <td>Down-sized fault-tolerant hub</td>\n      <td>[Emergency Medicine, TUPE, NoSQL, Heavy Oil, S...</td>\n      <td>6400ca8dfc13ae6500000836</td>\n    </tr>\n    <tr>\n      <th>3</th>\n      <td>Veribet</td>\n      <td>[superstructure, analyzer, Re-contextualized, ...</td>\n      <td>Front-line zero tolerance matrix</td>\n      <td>Distributed interactive open system</td>\n      <td>[Water Quality, TSYS, Pneumatic Conveying, BMV...</td>\n      <td>6400ca8dfc13ae6500000837</td>\n    </tr>\n    <tr>\n      <th>4</th>\n      <td>Namfix</td>\n      <td>[object-oriented, frame, time-frame, eco-centr...</td>\n      <td>Focused transitional support</td>\n      <td>Cross-group uniform solution</td>\n      <td>[Zend, JCAPS, Equity Research, dsPIC, Biology]</td>\n      <td>6400ca8dfc13ae6500000838</td>\n    </tr>\n  </tbody>\n</table>\n</div>"
     },
     "execution_count": 114,
     "metadata": {},
     "output_type": "execute_result"
    }
   ],
   "source": [
    "df.head()"
   ],
   "metadata": {
    "collapsed": false
   }
  },
  {
   "cell_type": "code",
   "execution_count": 115,
   "outputs": [
    {
     "name": "stdout",
     "output_type": "stream",
     "text": [
      "<class 'pandas.core.frame.DataFrame'>\n",
      "RangeIndex: 100 entries, 0 to 99\n",
      "Data columns (total 6 columns):\n",
      " #   Column       Non-Null Count  Dtype \n",
      "---  ------       --------------  ----- \n",
      " 0   moduleName   100 non-null    object\n",
      " 1   keywords     100 non-null    object\n",
      " 2   intro        100 non-null    object\n",
      " 3   description  100 non-null    object\n",
      " 4   objectives   100 non-null    object\n",
      " 5   _id          100 non-null    object\n",
      "dtypes: object(6)\n",
      "memory usage: 4.8+ KB\n"
     ]
    }
   ],
   "source": [
    "df.info()"
   ],
   "metadata": {
    "collapsed": false
   }
  },
  {
   "cell_type": "code",
   "execution_count": 116,
   "outputs": [],
   "source": [
    "def scalar_to_str(df):\n",
    "    lst_k = list(df['keywords'])\n",
    "    lst_o = list(df['objectives'])\n",
    "\n",
    "    string_key_feature = ''\n",
    "    string_obj_feature = ''\n",
    "\n",
    "    for obj in lst_o:\n",
    "        string_obj_feature += obj + ' '\n",
    "    for key in lst_k:\n",
    "        string_key_feature += key + ' '\n",
    "\n",
    "    df['keywords'] = string_key_feature\n",
    "    df['objectives'] = string_obj_feature\n",
    "    return df"
   ],
   "metadata": {
    "collapsed": false
   }
  },
  {
   "cell_type": "code",
   "execution_count": 117,
   "outputs": [],
   "source": [
    "df = df.apply(scalar_to_str, axis=1)"
   ],
   "metadata": {
    "collapsed": false
   }
  },
  {
   "cell_type": "code",
   "execution_count": 118,
   "outputs": [],
   "source": [
    "features = []\n",
    "for i in range(0, df.shape[0]):\n",
    "    features.append(df['moduleName'][i]+' '+df['intro'][i]+' '+df['description'][i] + ' ' + df['keywords'][i] + ' ' + df['objectives'][i])\n",
    "df['features'] = features"
   ],
   "metadata": {
    "collapsed": false
   }
  },
  {
   "cell_type": "code",
   "execution_count": 122,
   "outputs": [],
   "source": [
    "df.insert(1, \"id\", list(range(1, len(df) + 1)), True)"
   ],
   "metadata": {
    "collapsed": false
   }
  },
  {
   "cell_type": "code",
   "execution_count": 123,
   "outputs": [
    {
     "data": {
      "text/plain": "  moduleName  id                                           keywords  \\\n0    Pannier   1  Advanced 24/7 Team-oriented User-friendly tert...   \n1  Cardguard   2  internet solution process improvement definiti...   \n2     Zoolab   3  synergy Reactive Team-oriented strategy functi...   \n3    Veribet   4  superstructure analyzer Re-contextualized Cust...   \n4     Namfix   5  object-oriented frame time-frame eco-centric g...   \n\n                                          intro  \\\n0                    Up-sized dedicated circuit   \n1  Quality-focused non-volatile standardization   \n2          Customizable 5th generation database   \n3              Front-line zero tolerance matrix   \n4                  Focused transitional support   \n\n                             description  \\\n0            Upgradable didactic product   \n1  Switchable solution-oriented intranet   \n2          Down-sized fault-tolerant hub   \n3    Distributed interactive open system   \n4           Cross-group uniform solution   \n\n                                          objectives  \\\n0  IT Law Protein Purification Hyper-V ERD First ...   \n1  FSI JPA Single Family Homes 7 QC Tools Autism ...   \n2   Emergency Medicine TUPE NoSQL Heavy Oil SAP MDM    \n3    Water Quality TSYS Pneumatic Conveying BMV SRP    \n4          Zend JCAPS Equity Research dsPIC Biology    \n\n                        _id                                           features  \n0  6400ca8dfc13ae6500000834  Pannier Up-sized dedicated circuit Upgradable ...  \n1  6400ca8dfc13ae6500000835  Cardguard Quality-focused non-volatile standar...  \n2  6400ca8dfc13ae6500000836  Zoolab Customizable 5th generation database Do...  \n3  6400ca8dfc13ae6500000837  Veribet Front-line zero tolerance matrix Distr...  \n4  6400ca8dfc13ae6500000838  Namfix Focused transitional support Cross-grou...  ",
      "text/html": "<div>\n<style scoped>\n    .dataframe tbody tr th:only-of-type {\n        vertical-align: middle;\n    }\n\n    .dataframe tbody tr th {\n        vertical-align: top;\n    }\n\n    .dataframe thead th {\n        text-align: right;\n    }\n</style>\n<table border=\"1\" class=\"dataframe\">\n  <thead>\n    <tr style=\"text-align: right;\">\n      <th></th>\n      <th>moduleName</th>\n      <th>id</th>\n      <th>keywords</th>\n      <th>intro</th>\n      <th>description</th>\n      <th>objectives</th>\n      <th>_id</th>\n      <th>features</th>\n    </tr>\n  </thead>\n  <tbody>\n    <tr>\n      <th>0</th>\n      <td>Pannier</td>\n      <td>1</td>\n      <td>Advanced 24/7 Team-oriented User-friendly tert...</td>\n      <td>Up-sized dedicated circuit</td>\n      <td>Upgradable didactic product</td>\n      <td>IT Law Protein Purification Hyper-V ERD First ...</td>\n      <td>6400ca8dfc13ae6500000834</td>\n      <td>Pannier Up-sized dedicated circuit Upgradable ...</td>\n    </tr>\n    <tr>\n      <th>1</th>\n      <td>Cardguard</td>\n      <td>2</td>\n      <td>internet solution process improvement definiti...</td>\n      <td>Quality-focused non-volatile standardization</td>\n      <td>Switchable solution-oriented intranet</td>\n      <td>FSI JPA Single Family Homes 7 QC Tools Autism ...</td>\n      <td>6400ca8dfc13ae6500000835</td>\n      <td>Cardguard Quality-focused non-volatile standar...</td>\n    </tr>\n    <tr>\n      <th>2</th>\n      <td>Zoolab</td>\n      <td>3</td>\n      <td>synergy Reactive Team-oriented strategy functi...</td>\n      <td>Customizable 5th generation database</td>\n      <td>Down-sized fault-tolerant hub</td>\n      <td>Emergency Medicine TUPE NoSQL Heavy Oil SAP MDM</td>\n      <td>6400ca8dfc13ae6500000836</td>\n      <td>Zoolab Customizable 5th generation database Do...</td>\n    </tr>\n    <tr>\n      <th>3</th>\n      <td>Veribet</td>\n      <td>4</td>\n      <td>superstructure analyzer Re-contextualized Cust...</td>\n      <td>Front-line zero tolerance matrix</td>\n      <td>Distributed interactive open system</td>\n      <td>Water Quality TSYS Pneumatic Conveying BMV SRP</td>\n      <td>6400ca8dfc13ae6500000837</td>\n      <td>Veribet Front-line zero tolerance matrix Distr...</td>\n    </tr>\n    <tr>\n      <th>4</th>\n      <td>Namfix</td>\n      <td>5</td>\n      <td>object-oriented frame time-frame eco-centric g...</td>\n      <td>Focused transitional support</td>\n      <td>Cross-group uniform solution</td>\n      <td>Zend JCAPS Equity Research dsPIC Biology</td>\n      <td>6400ca8dfc13ae6500000838</td>\n      <td>Namfix Focused transitional support Cross-grou...</td>\n    </tr>\n  </tbody>\n</table>\n</div>"
     },
     "execution_count": 123,
     "metadata": {},
     "output_type": "execute_result"
    }
   ],
   "source": [
    "df.head()"
   ],
   "metadata": {
    "collapsed": false
   }
  },
  {
   "cell_type": "code",
   "execution_count": 124,
   "outputs": [
    {
     "data": {
      "text/plain": "   id                                           features\n0   1  Pannier Up-sized dedicated circuit Upgradable ...\n1   2  Cardguard Quality-focused non-volatile standar...\n2   3  Zoolab Customizable 5th generation database Do...\n3   4  Veribet Front-line zero tolerance matrix Distr...\n4   5  Namfix Focused transitional support Cross-grou...",
      "text/html": "<div>\n<style scoped>\n    .dataframe tbody tr th:only-of-type {\n        vertical-align: middle;\n    }\n\n    .dataframe tbody tr th {\n        vertical-align: top;\n    }\n\n    .dataframe thead th {\n        text-align: right;\n    }\n</style>\n<table border=\"1\" class=\"dataframe\">\n  <thead>\n    <tr style=\"text-align: right;\">\n      <th></th>\n      <th>id</th>\n      <th>features</th>\n    </tr>\n  </thead>\n  <tbody>\n    <tr>\n      <th>0</th>\n      <td>1</td>\n      <td>Pannier Up-sized dedicated circuit Upgradable ...</td>\n    </tr>\n    <tr>\n      <th>1</th>\n      <td>2</td>\n      <td>Cardguard Quality-focused non-volatile standar...</td>\n    </tr>\n    <tr>\n      <th>2</th>\n      <td>3</td>\n      <td>Zoolab Customizable 5th generation database Do...</td>\n    </tr>\n    <tr>\n      <th>3</th>\n      <td>4</td>\n      <td>Veribet Front-line zero tolerance matrix Distr...</td>\n    </tr>\n    <tr>\n      <th>4</th>\n      <td>5</td>\n      <td>Namfix Focused transitional support Cross-grou...</td>\n    </tr>\n  </tbody>\n</table>\n</div>"
     },
     "execution_count": 124,
     "metadata": {},
     "output_type": "execute_result"
    }
   ],
   "source": [
    "df_new = df[['id', 'features']]\n",
    "df_new.head()"
   ],
   "metadata": {
    "collapsed": false
   }
  },
  {
   "cell_type": "code",
   "execution_count": 125,
   "outputs": [
    {
     "name": "stderr",
     "output_type": "stream",
     "text": [
      "[nltk_data] Downloading package stopwords to /Users/dpapp/nltk_data...\n",
      "[nltk_data]   Package stopwords is already up-to-date!\n"
     ]
    }
   ],
   "source": [
    "import nltk\n",
    "from nltk.corpus import stopwords\n",
    "from nltk.tokenize import word_tokenize\n",
    "nltk.download('stopwords')\n",
    "stop = stopwords.words('english')"
   ],
   "metadata": {
    "collapsed": false
   }
  },
  {
   "cell_type": "code",
   "execution_count": 126,
   "outputs": [],
   "source": [
    "def text_processing(col):\n",
    "    column = col.str.lower()\n",
    "    column = column.str.replace('[^a-z ]', '')\n",
    "    word_tokens = column.str.split()\n",
    "    keys = word_tokens.apply(lambda x: [item for item in x if item not in stop])\n",
    "    for i in range(len(keys)):\n",
    "        keys[i] = ' '.join(keys[i])\n",
    "        column = keys\n",
    "    return column"
   ],
   "metadata": {
    "collapsed": false
   }
  },
  {
   "cell_type": "code",
   "execution_count": 127,
   "outputs": [
    {
     "name": "stderr",
     "output_type": "stream",
     "text": [
      "/var/folders/tp/4mcknzvj6zj5kcx78g7f5nmw0000gp/T/ipykernel_3529/1330796439.py:3: FutureWarning: The default value of regex will change from True to False in a future version.\n",
      "  column = column.str.replace('[^a-z ]', '')\n",
      "/var/folders/tp/4mcknzvj6zj5kcx78g7f5nmw0000gp/T/ipykernel_3529/1229934764.py:1: SettingWithCopyWarning: \n",
      "A value is trying to be set on a copy of a slice from a DataFrame.\n",
      "Try using .loc[row_indexer,col_indexer] = value instead\n",
      "\n",
      "See the caveats in the documentation: https://pandas.pydata.org/pandas-docs/stable/user_guide/indexing.html#returning-a-view-versus-a-copy\n",
      "  df_new['cleaned_features'] = text_processing(df_new['features'])\n"
     ]
    }
   ],
   "source": [
    "df_new['cleaned_features'] = text_processing(df_new['features'])"
   ],
   "metadata": {
    "collapsed": false
   }
  },
  {
   "cell_type": "code",
   "execution_count": 128,
   "outputs": [
    {
     "data": {
      "text/plain": "'Subin Multi-channelled analyzing analyzer Enterprise-wide motivating emulation core implementation Configurable impactful Integrated disintermediate framework web-enabled client-driven Business-focused synergy matrices system-worthy grid-enabled interactive Diverse interactive neural-net bi-directional emulation  BDC programming DBAccess TGA MPI Fume FX '"
     },
     "execution_count": 128,
     "metadata": {},
     "output_type": "execute_result"
    }
   ],
   "source": [
    "df['features'][6]"
   ],
   "metadata": {
    "collapsed": false
   }
  },
  {
   "cell_type": "code",
   "execution_count": 129,
   "outputs": [
    {
     "data": {
      "text/plain": "'subin multichannelled analyzing analyzer enterprisewide motivating emulation core implementation configurable impactful integrated disintermediate framework webenabled clientdriven businessfocused synergy matrices systemworthy gridenabled interactive diverse interactive neuralnet bidirectional emulation bdc programming dbaccess tga mpi fume fx'"
     },
     "execution_count": 129,
     "metadata": {},
     "output_type": "execute_result"
    }
   ],
   "source": [
    "df_new['cleaned_features'][6]"
   ],
   "metadata": {
    "collapsed": false
   }
  },
  {
   "cell_type": "code",
   "execution_count": 130,
   "outputs": [],
   "source": [
    "from sklearn.feature_extraction.text import CountVectorizer\n",
    "from sklearn.metrics.pairwise import cosine_similarity\n",
    "\n",
    "cv = CountVectorizer()\n",
    "count_matrix = cv.fit_transform(df_new['cleaned_features'])"
   ],
   "metadata": {
    "collapsed": false
   }
  },
  {
   "cell_type": "code",
   "execution_count": 131,
   "outputs": [],
   "source": [
    "cosine_sim = cosine_similarity(count_matrix)"
   ],
   "metadata": {
    "collapsed": false
   }
  },
  {
   "cell_type": "code",
   "execution_count": 132,
   "outputs": [
    {
     "data": {
      "text/plain": "array([[1.        , 0.07372098, 0.13344013, ..., 0.08451543, 0.05555556,\n        0.08333333],\n       [0.07372098, 1.        , 0.07082882, ..., 0.14953344, 0.07372098,\n        0.1228683 ],\n       [0.13344013, 0.07082882, 1.        , ..., 0.0541332 , 0.08006408,\n        0.18681618],\n       ...,\n       [0.08451543, 0.14953344, 0.0541332 , ..., 1.        , 0.05634362,\n        0.02817181],\n       [0.05555556, 0.07372098, 0.08006408, ..., 0.05634362, 1.        ,\n        0.16666667],\n       [0.08333333, 0.1228683 , 0.18681618, ..., 0.02817181, 0.16666667,\n        1.        ]])"
     },
     "execution_count": 132,
     "metadata": {},
     "output_type": "execute_result"
    }
   ],
   "source": [
    "cosine_sim"
   ],
   "metadata": {
    "collapsed": false
   }
  },
  {
   "cell_type": "code",
   "execution_count": 133,
   "outputs": [
    {
     "data": {
      "text/plain": "   moduleName  id                                           keywords  \\\n4      Namfix   5  object-oriented frame time-frame eco-centric g...   \n22        Tin  23  task-force web-enabled project global Progress...   \n45   Bytecard  46  Profound concept adapter database Function-bas...   \n50    Pannier  51  background Ergonomic task-force bottom-line th...   \n51         It  52  next generation productivity encompassing algo...   \n93       Temp  94  adapter database zero defect eco-centric Re-en...   \n\n                                          intro  \\\n4                  Focused transitional support   \n22       Profit-focused high-level architecture   \n45     Business-focused dynamic standardization   \n50               Upgradable bifurcated software   \n51  Decentralized content-based instruction set   \n93            Team-oriented value-added website   \n\n                             description  \\\n4           Cross-group uniform solution   \n22      Devolved bi-directional database   \n45          Reduced clear-thinking model   \n50  Exclusive bottom-line implementation   \n51        Organic heuristic secured line   \n93   Programmable content-based analyzer   \n\n                                           objectives  \\\n4           Zend JCAPS Equity Research dsPIC Biology    \n22  Film Production Knowledge Engineering Btrieve ...   \n45  Tax Accounting Medical Education FFE Pro-IV Hi...   \n50  FCoE Home Owners Ajax4JSF Nutritional Counseli...   \n51  LDRA Biomass Structural Dynamics Aftersales Al...   \n93  Cardiac Rhythm Management Personal Training XR...   \n\n                         _id  \\\n4   6400ca8dfc13ae6500000838   \n22  6400ca8dfc13ae650000084a   \n45  6400ca8efc13ae6500000861   \n50  6400ca8efc13ae6500000866   \n51  6400ca8efc13ae6500000867   \n93  6400ca8efc13ae6500000891   \n\n                                             features  \n4   Namfix Focused transitional support Cross-grou...  \n22  Tin Profit-focused high-level architecture Dev...  \n45  Bytecard Business-focused dynamic standardizat...  \n50  Pannier Upgradable bifurcated software Exclusi...  \n51  It Decentralized content-based instruction set...  \n93  Temp Team-oriented value-added website Program...  ",
      "text/html": "<div>\n<style scoped>\n    .dataframe tbody tr th:only-of-type {\n        vertical-align: middle;\n    }\n\n    .dataframe tbody tr th {\n        vertical-align: top;\n    }\n\n    .dataframe thead th {\n        text-align: right;\n    }\n</style>\n<table border=\"1\" class=\"dataframe\">\n  <thead>\n    <tr style=\"text-align: right;\">\n      <th></th>\n      <th>moduleName</th>\n      <th>id</th>\n      <th>keywords</th>\n      <th>intro</th>\n      <th>description</th>\n      <th>objectives</th>\n      <th>_id</th>\n      <th>features</th>\n    </tr>\n  </thead>\n  <tbody>\n    <tr>\n      <th>4</th>\n      <td>Namfix</td>\n      <td>5</td>\n      <td>object-oriented frame time-frame eco-centric g...</td>\n      <td>Focused transitional support</td>\n      <td>Cross-group uniform solution</td>\n      <td>Zend JCAPS Equity Research dsPIC Biology</td>\n      <td>6400ca8dfc13ae6500000838</td>\n      <td>Namfix Focused transitional support Cross-grou...</td>\n    </tr>\n    <tr>\n      <th>22</th>\n      <td>Tin</td>\n      <td>23</td>\n      <td>task-force web-enabled project global Progress...</td>\n      <td>Profit-focused high-level architecture</td>\n      <td>Devolved bi-directional database</td>\n      <td>Film Production Knowledge Engineering Btrieve ...</td>\n      <td>6400ca8dfc13ae650000084a</td>\n      <td>Tin Profit-focused high-level architecture Dev...</td>\n    </tr>\n    <tr>\n      <th>45</th>\n      <td>Bytecard</td>\n      <td>46</td>\n      <td>Profound concept adapter database Function-bas...</td>\n      <td>Business-focused dynamic standardization</td>\n      <td>Reduced clear-thinking model</td>\n      <td>Tax Accounting Medical Education FFE Pro-IV Hi...</td>\n      <td>6400ca8efc13ae6500000861</td>\n      <td>Bytecard Business-focused dynamic standardizat...</td>\n    </tr>\n    <tr>\n      <th>50</th>\n      <td>Pannier</td>\n      <td>51</td>\n      <td>background Ergonomic task-force bottom-line th...</td>\n      <td>Upgradable bifurcated software</td>\n      <td>Exclusive bottom-line implementation</td>\n      <td>FCoE Home Owners Ajax4JSF Nutritional Counseli...</td>\n      <td>6400ca8efc13ae6500000866</td>\n      <td>Pannier Upgradable bifurcated software Exclusi...</td>\n    </tr>\n    <tr>\n      <th>51</th>\n      <td>It</td>\n      <td>52</td>\n      <td>next generation productivity encompassing algo...</td>\n      <td>Decentralized content-based instruction set</td>\n      <td>Organic heuristic secured line</td>\n      <td>LDRA Biomass Structural Dynamics Aftersales Al...</td>\n      <td>6400ca8efc13ae6500000867</td>\n      <td>It Decentralized content-based instruction set...</td>\n    </tr>\n    <tr>\n      <th>93</th>\n      <td>Temp</td>\n      <td>94</td>\n      <td>adapter database zero defect eco-centric Re-en...</td>\n      <td>Team-oriented value-added website</td>\n      <td>Programmable content-based analyzer</td>\n      <td>Cardiac Rhythm Management Personal Training XR...</td>\n      <td>6400ca8efc13ae6500000891</td>\n      <td>Temp Team-oriented value-added website Program...</td>\n    </tr>\n  </tbody>\n</table>\n</div>"
     },
     "execution_count": 133,
     "metadata": {},
     "output_type": "execute_result"
    }
   ],
   "source": [
    "df[df['keywords'].str.contains('database')]"
   ],
   "metadata": {
    "collapsed": false
   }
  },
  {
   "cell_type": "code",
   "execution_count": 134,
   "outputs": [],
   "source": [
    "title = 'It'\n",
    "\n",
    "module_id = df[df['moduleName'] == title]['id'].values[0]"
   ],
   "metadata": {
    "collapsed": false
   }
  },
  {
   "cell_type": "code",
   "execution_count": 135,
   "outputs": [
    {
     "data": {
      "text/plain": "52"
     },
     "execution_count": 135,
     "metadata": {},
     "output_type": "execute_result"
    }
   ],
   "source": [
    "module_id"
   ],
   "metadata": {
    "collapsed": false
   }
  },
  {
   "cell_type": "code",
   "execution_count": 137,
   "outputs": [],
   "source": [
    "score = list(enumerate(cosine_sim[module_id]))"
   ],
   "metadata": {
    "collapsed": false
   }
  },
  {
   "cell_type": "code",
   "execution_count": 138,
   "outputs": [],
   "source": [
    "sorted_score = sorted(score, key=lambda x: x[1], reverse=True)\n",
    "\n",
    "sorted_score = sorted_score[1:]"
   ],
   "metadata": {
    "collapsed": false
   }
  },
  {
   "cell_type": "code",
   "execution_count": 139,
   "outputs": [
    {
     "data": {
      "text/plain": "[(30, 0.21700926997668546),\n (58, 0.21434647870329343),\n (95, 0.20333142711013955),\n (9, 0.17791499872137212),\n (96, 0.16671392788033934),\n (18, 0.16279069767441862),\n (12, 0.15042366316917008),\n (79, 0.14651588715165131),\n (53, 0.14467284665112362),\n (8, 0.1428976524688623)]"
     },
     "execution_count": 139,
     "metadata": {},
     "output_type": "execute_result"
    }
   ],
   "source": [
    "sorted_score[0:10]"
   ],
   "metadata": {
    "collapsed": false
   }
  },
  {
   "cell_type": "code",
   "execution_count": 147,
   "outputs": [
    {
     "name": "stdout",
     "output_type": "stream",
     "text": [
      "1 Flexidy 6400ca8dfc13ae6500000851 0.21700926997668546\n",
      "2 Subin 6400ca8efc13ae650000086d 0.21434647870329343\n",
      "3 Treeflex 6400ca8efc13ae6500000892 0.20333142711013955\n",
      "4 Voyatouch 6400ca8dfc13ae650000083c 0.17791499872137212\n",
      "5 Ventosanzap 6400ca8efc13ae6500000893 0.16671392788033934\n",
      "6 Prodder 6400ca8dfc13ae6500000845 0.16279069767441862\n",
      "7 Kanlam 6400ca8dfc13ae650000083f 0.15042366316917008\n",
      "8 Fix San 6400ca8efc13ae6500000882 0.14651588715165131\n",
      "9 Voltsillam 6400ca8efc13ae6500000868 0.14467284665112362\n",
      "10 Home Ing 6400ca8dfc13ae650000083b 0.1428976524688623\n"
     ]
    }
   ],
   "source": [
    "i = 0\n",
    "for item in sorted_score:\n",
    "    module_title = df[df['id'] == item[0]]['moduleName'].values[0]\n",
    "    module_oid = df[df['id'] == item[0]]['_id'].values[0]\n",
    "    print(i+1,module_title, module_oid, item[1])\n",
    "    i = i+1\n",
    "    if i > 9:\n",
    "        break"
   ],
   "metadata": {
    "collapsed": false
   }
  }
 ],
 "metadata": {
  "kernelspec": {
   "display_name": "Python 3",
   "language": "python",
   "name": "python3"
  },
  "language_info": {
   "codemirror_mode": {
    "name": "ipython",
    "version": 2
   },
   "file_extension": ".py",
   "mimetype": "text/x-python",
   "name": "python",
   "nbconvert_exporter": "python",
   "pygments_lexer": "ipython2",
   "version": "2.7.6"
  }
 },
 "nbformat": 4,
 "nbformat_minor": 0
}
